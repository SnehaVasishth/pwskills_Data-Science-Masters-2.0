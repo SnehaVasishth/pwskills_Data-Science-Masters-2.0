{
 "cells": [
  {
   "cell_type": "code",
   "execution_count": 1,
   "id": "ad7b7a12-eb57-424d-9925-a57b0062cc64",
   "metadata": {},
   "outputs": [],
   "source": [
    "#ques 1  \n",
    "# def is the keyword used for defining functions\n",
    "\n",
    "def odd():\n",
    "    l1=[]\n",
    "    for i in range(1,26):\n",
    "        if(i%2!=0):\n",
    "            l1.append(i)\n",
    "    return l1"
   ]
  },
  {
   "cell_type": "code",
   "execution_count": 2,
   "id": "3fba3fb3-9266-41a5-8456-ef46818198b4",
   "metadata": {},
   "outputs": [
    {
     "data": {
      "text/plain": [
       "[1, 3, 5, 7, 9, 11, 13, 15, 17, 19, 21, 23, 25]"
      ]
     },
     "execution_count": 2,
     "metadata": {},
     "output_type": "execute_result"
    }
   ],
   "source": [
    "odd()"
   ]
  },
  {
   "cell_type": "code",
   "execution_count": 3,
   "id": "c65b64b0-a3bd-4487-a2b2-3606d4212935",
   "metadata": {},
   "outputs": [],
   "source": [
    "#ques 2\n",
    "\n",
    "# if we dont know how much argumnets can be there at that plave we use *args and **kwargs\n",
    "\n",
    "\n",
    "def ex(*args):\n",
    "    mul=1\n",
    "    for i in args:\n",
    "        mul=mul*i\n",
    "    return mul"
   ]
  },
  {
   "cell_type": "code",
   "execution_count": 4,
   "id": "73405e71-14b3-4cf0-8d2f-c5b66db5edf5",
   "metadata": {},
   "outputs": [
    {
     "data": {
      "text/plain": [
       "30"
      ]
     },
     "execution_count": 4,
     "metadata": {},
     "output_type": "execute_result"
    }
   ],
   "source": [
    "t=(1,2,3,5)\n",
    "ex(*t)\n"
   ]
  },
  {
   "cell_type": "code",
   "execution_count": 5,
   "id": "c484481e-16e1-44ec-a217-393f78125c80",
   "metadata": {},
   "outputs": [
    {
     "name": "stdout",
     "output_type": "stream",
     "text": [
      "sneha=one\n",
      "Aashi=two\n",
      "Khushi=three\n"
     ]
    }
   ],
   "source": [
    "def exam(**kwargs):  #ques 2\n",
    "    for key,value in kwargs.items():\n",
    "        print(key,value,sep=\"=\")\n",
    "s={\"sneha\":\"one\",\"Aashi\":\"two\",\"Khushi\":\"three\"}\n",
    "exam(**s)"
   ]
  },
  {
   "cell_type": "code",
   "execution_count": 6,
   "id": "1d2f34d4-6d7e-490e-b7fa-d06fbcf8e44c",
   "metadata": {},
   "outputs": [
    {
     "name": "stdout",
     "output_type": "stream",
     "text": [
      "2\n",
      "4\n",
      "6\n",
      "8\n",
      "10\n"
     ]
    }
   ],
   "source": [
    "# ques 3\n",
    "#iterators are used to taverse through iterables. for loop also iternally makes iterator and by using next(),\n",
    "#iterator then traverse through entire iterable\n",
    "\n",
    "# next() is the method uesd to traverse\n",
    "\n",
    "l=[2,4,6,8,10,12,14,16,18,20]\n",
    "li=iter(l)\n",
    "for i in range(5):\n",
    "    print(next(li))\n",
    "\n"
   ]
  },
  {
   "cell_type": "code",
   "execution_count": 7,
   "id": "cae48133-9520-4236-8140-3bf375f2b96f",
   "metadata": {},
   "outputs": [
    {
     "name": "stdout",
     "output_type": "stream",
     "text": [
      "1\n",
      "4\n",
      "9\n",
      "16\n",
      "25\n"
     ]
    }
   ],
   "source": [
    "#ques 4\n",
    "\n",
    "# generator function makes the computation\n",
    "#space effecient. Instead of taking all big\n",
    "#input in one go by storing it in list or\n",
    "#tuple, it takes one input at a timeand produce output\n",
    "\n",
    "#yield keyword is used to produce \n",
    "#output one after the another\n",
    "\n",
    "\n",
    "def square():\n",
    "    for i in range (1,6):\n",
    "        yield i*i\n",
    "        \n",
    "for i in square():\n",
    "    print(i)\n",
    "\n"
   ]
  },
  {
   "cell_type": "code",
   "execution_count": 8,
   "id": "a601bd2b-1c32-47d0-bd25-53473cefccc5",
   "metadata": {},
   "outputs": [
    {
     "name": "stdout",
     "output_type": "stream",
     "text": [
      "1\n",
      "4\n",
      "9\n",
      "16\n",
      "25\n"
     ]
    }
   ],
   "source": [
    "a=square()\n",
    "for i in a:\n",
    "    print(i)"
   ]
  },
  {
   "cell_type": "code",
   "execution_count": 1,
   "id": "f71736b2-b3ab-4cc0-a1bd-30e23f7bcd1c",
   "metadata": {},
   "outputs": [
    {
     "name": "stdout",
     "output_type": "stream",
     "text": [
      "2\n",
      "3\n",
      "5\n",
      "7\n",
      "11\n",
      "13\n",
      "17\n",
      "19\n",
      "23\n",
      "29\n",
      "31\n",
      "37\n",
      "41\n",
      "43\n",
      "47\n",
      "53\n",
      "59\n",
      "61\n",
      "67\n",
      "71\n"
     ]
    }
   ],
   "source": [
    "# ques 5\n",
    "\n",
    "def prime():\n",
    "    for i in range(2,1001):\n",
    "        flag=False\n",
    "        for j in range(2,i):\n",
    "            if i%j==0:\n",
    "                flag=True\n",
    "                break\n",
    "        if flag==False:\n",
    "            yield i\n",
    "           \n",
    "s= iter(prime())   \n",
    "for k in range(1,21):\n",
    "    print(next(s))\n"
   ]
  },
  {
   "cell_type": "code",
   "execution_count": 10,
   "id": "d6c91a11-a655-4499-a58c-a27fc944f5f2",
   "metadata": {},
   "outputs": [],
   "source": [
    "\n"
   ]
  },
  {
   "cell_type": "code",
   "execution_count": 11,
   "id": "ffeec07a-2357-425e-95dc-2662b226ecde",
   "metadata": {},
   "outputs": [
    {
     "name": "stdout",
     "output_type": "stream",
     "text": [
      "0\n",
      "1\n",
      "1\n",
      "2\n",
      "3\n",
      "5\n",
      "8\n",
      "13\n",
      "21\n",
      "34\n"
     ]
    }
   ],
   "source": [
    "#ques 6\n",
    "a=0\n",
    "b=1\n",
    "i=0\n",
    "\n",
    "while(i!=10):\n",
    "    \n",
    "    print(a)\n",
    "    a,b=b,a+b\n",
    "    i=i+1"
   ]
  },
  {
   "cell_type": "code",
   "execution_count": 12,
   "id": "1d0988e1-ddc2-42ca-9a36-334c71aba608",
   "metadata": {},
   "outputs": [
    {
     "name": "stdout",
     "output_type": "stream",
     "text": [
      "['p', 'w', 's', 'k', 'i', 'l', 'l', 's']\n"
     ]
    }
   ],
   "source": [
    "# ques 7\n",
    "\n",
    "s=\"pwskills\"\n",
    "new=[i for i in s]\n",
    "print(new)\n"
   ]
  },
  {
   "cell_type": "code",
   "execution_count": 13,
   "id": "458ceb37-268e-4942-aceb-1aefbe095078",
   "metadata": {},
   "outputs": [
    {
     "name": "stdout",
     "output_type": "stream",
     "text": [
      "Number is palindrome\n"
     ]
    }
   ],
   "source": [
    "#ques 8\n",
    "flag=False\n",
    "s=\"1331\"\n",
    "i=0\n",
    "j=len(s)-1\n",
    "while(i<j):\n",
    "    if s[i]!=s[j]:\n",
    "        flag=True\n",
    "        break\n",
    "    i=i+1\n",
    "    j=j-1\n",
    "if flag==False:\n",
    "    print(\"Number is palindrome\")\n",
    "else:\n",
    "    print(\"Number is not palindrome\")\n"
   ]
  },
  {
   "cell_type": "code",
   "execution_count": 14,
   "id": "e4152af0-5281-41d4-9ca8-420913e198ae",
   "metadata": {},
   "outputs": [
    {
     "name": "stdout",
     "output_type": "stream",
     "text": [
      "[1, 3, 5, 7, 9, 11, 13, 15, 17, 19, 21, 23, 25, 27, 29, 31, 33, 35, 37, 39, 41, 43, 45, 47, 49, 51, 53, 55, 57, 59, 61, 63, 65, 67, 69, 71, 73, 75, 77, 79, 81, 83, 85, 87, 89, 91, 93, 95, 97, 99]\n"
     ]
    }
   ],
   "source": [
    "# ques 9\n",
    "\n",
    "new=[x for x in range(1,101) if x%2!=0]\n",
    "print(new)"
   ]
  },
  {
   "cell_type": "code",
   "execution_count": 15,
   "id": "e73238fb-7d32-4194-9878-84f76c350cc5",
   "metadata": {},
   "outputs": [
    {
     "name": "stdout",
     "output_type": "stream",
     "text": [
      "[1, 2, 3, 4, 5, 6, 7, 8, 9, 10, 11, 12, 13, 14, 15, 16, 17, 18, 19, 20, 21, 22, 23, 24, 25, 26, 27, 28, 29, 30, 31, 32, 33, 34, 35, 36, 37, 38, 39, 40, 41, 42, 43, 44, 45, 46, 47, 48, 49, 50, 51, 52, 53, 54, 55, 56, 57, 58, 59, 60, 61, 62, 63, 64, 65, 66, 67, 68, 69, 70, 71, 72, 73, 74, 75, 76, 77, 78, 79, 80, 81, 82, 83, 84, 85, 86, 87, 88, 89, 90, 91, 92, 93, 94, 95, 96, 97, 98, 99, 100]\n"
     ]
    }
   ],
   "source": [
    "new=[x for x in range(1,101)]\n",
    "print(new)"
   ]
  },
  {
   "cell_type": "code",
   "execution_count": null,
   "id": "a13c5824-6766-4e48-b8b8-606270b6419e",
   "metadata": {},
   "outputs": [],
   "source": []
  }
 ],
 "metadata": {
  "kernelspec": {
   "display_name": "Python 3 (ipykernel)",
   "language": "python",
   "name": "python3"
  },
  "language_info": {
   "codemirror_mode": {
    "name": "ipython",
    "version": 3
   },
   "file_extension": ".py",
   "mimetype": "text/x-python",
   "name": "python",
   "nbconvert_exporter": "python",
   "pygments_lexer": "ipython3",
   "version": "3.10.8"
  }
 },
 "nbformat": 4,
 "nbformat_minor": 5
}
