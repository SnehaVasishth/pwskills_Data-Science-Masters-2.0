{
 "cells": [
  {
   "cell_type": "code",
   "execution_count": 1,
   "id": "ec713506-fcd7-49cc-8a3c-e1a115577aca",
   "metadata": {},
   "outputs": [],
   "source": [
    "l=[2,3,4,5,6]"
   ]
  },
  {
   "cell_type": "code",
   "execution_count": 4,
   "id": "781dc2e8-b5b7-4b89-bcfc-a77c2cc611c6",
   "metadata": {},
   "outputs": [
    {
     "name": "stdout",
     "output_type": "stream",
     "text": [
      "[4, 9, 16, 25, 36]\n"
     ]
    }
   ],
   "source": [
    "def square ():\n",
    "    for i in range(len(l)):\n",
    "        x=l[i]\n",
    "        l[i]=x*x\n",
    "square()\n",
    "print(l)"
   ]
  },
  {
   "cell_type": "code",
   "execution_count": 5,
   "id": "df07d714-05ef-4250-867d-6e6cfcd7daf2",
   "metadata": {},
   "outputs": [],
   "source": [
    "def sq(x):\n",
    "    return x**2"
   ]
  },
  {
   "cell_type": "code",
   "execution_count": 6,
   "id": "6dec14ba-bb73-4d04-90fa-7a2cf8fc731d",
   "metadata": {},
   "outputs": [
    {
     "data": {
      "text/plain": [
       "<map at 0x7fe964514ee0>"
      ]
     },
     "execution_count": 6,
     "metadata": {},
     "output_type": "execute_result"
    }
   ],
   "source": [
    "map(sq,l)  #it is used to perform same function to each element. t takes a function and mapks that with each element of sequence"
   ]
  },
  {
   "cell_type": "code",
   "execution_count": 7,
   "id": "4f62b3f6-d6b7-423e-a7da-a273398a7cfa",
   "metadata": {},
   "outputs": [
    {
     "data": {
      "text/plain": [
       "[16, 81, 256, 625, 1296]"
      ]
     },
     "execution_count": 7,
     "metadata": {},
     "output_type": "execute_result"
    }
   ],
   "source": [
    "list(map(sq,l))"
   ]
  },
  {
   "cell_type": "code",
   "execution_count": 8,
   "id": "bb6be6de-f9ee-4463-93a3-784eb8452ff6",
   "metadata": {},
   "outputs": [
    {
     "data": {
      "text/plain": [
       "[16, 81, 256, 625, 1296]"
      ]
     },
     "execution_count": 8,
     "metadata": {},
     "output_type": "execute_result"
    }
   ],
   "source": [
    "list(map(lambda x: x**2,l))"
   ]
  },
  {
   "cell_type": "code",
   "execution_count": 9,
   "id": "116d4ab5-75a3-4e37-842d-eee41cdb7006",
   "metadata": {},
   "outputs": [
    {
     "data": {
      "text/plain": [
       "[9, 11, 13, 15, 19]"
      ]
     },
     "execution_count": 9,
     "metadata": {},
     "output_type": "execute_result"
    }
   ],
   "source": [
    "l1=[2,3,4,5,6]\n",
    "l2=[7,8,9,10,13]\n",
    "list(map(lambda x,y:x+y,l1,l2))"
   ]
  },
  {
   "cell_type": "code",
   "execution_count": 12,
   "id": "daf2c8ed-1212-41fd-b311-bcc78e9fb867",
   "metadata": {},
   "outputs": [
    {
     "data": {
      "text/plain": [
       "('S', 'N', 'E', 'H', 'A', ' ', 'V', 'A', 'S', 'I', 'S', 'H', 'T', 'H')"
      ]
     },
     "execution_count": 12,
     "metadata": {},
     "output_type": "execute_result"
    }
   ],
   "source": [
    "s='sneha vasishth'\n",
    "tuple(map(lambda x: x.upper(),s))"
   ]
  },
  {
   "cell_type": "code",
   "execution_count": 13,
   "id": "27568b96-9bc8-4f4b-9644-f4872cff29b3",
   "metadata": {},
   "outputs": [],
   "source": [
    "from functools import reduce"
   ]
  },
  {
   "cell_type": "code",
   "execution_count": 14,
   "id": "1a521df3-1ea1-4a0a-88e6-869d0fd5dd8e",
   "metadata": {},
   "outputs": [
    {
     "data": {
      "text/plain": [
       "15"
      ]
     },
     "execution_count": 14,
     "metadata": {},
     "output_type": "execute_result"
    }
   ],
   "source": [
    "l=[1,2,3,4,5]\n",
    "reduce(lambda x,y:x+y,l)"
   ]
  },
  {
   "cell_type": "markdown",
   "id": "b9646139-d343-4f09-b6bc-08b596033149",
   "metadata": {},
   "source": [
    "reduce(lambda x,y,z:x+y+z,l)  #can not take more than two parameter"
   ]
  },
  {
   "cell_type": "markdown",
   "id": "2613db36-5d1b-4264-84f6-93d0b28a403f",
   "metadata": {},
   "source": [
    "reduce(lambda x,y:x+y,[])"
   ]
  },
  {
   "cell_type": "code",
   "execution_count": 17,
   "id": "6173c17d-8464-4534-af35-620328c1ca20",
   "metadata": {},
   "outputs": [
    {
     "data": {
      "text/plain": [
       "1"
      ]
     },
     "execution_count": 17,
     "metadata": {},
     "output_type": "execute_result"
    }
   ],
   "source": [
    "l1=[1]\n",
    "reduce(lambda x,y:x+y,l1)"
   ]
  },
  {
   "cell_type": "code",
   "execution_count": 18,
   "id": "72827fde-82ab-441a-b4ba-34e869530066",
   "metadata": {},
   "outputs": [
    {
     "data": {
      "text/plain": [
       "6"
      ]
     },
     "execution_count": 18,
     "metadata": {},
     "output_type": "execute_result"
    }
   ],
   "source": [
    "l2=[2,3,4,5,6]\n",
    "reduce(lambda x,y:x if x>y else y,l2)"
   ]
  },
  {
   "cell_type": "code",
   "execution_count": 19,
   "id": "0c52a65f-f7a5-4d18-995f-5765bc2f5d30",
   "metadata": {},
   "outputs": [
    {
     "data": {
      "text/plain": [
       "[2, 4]"
      ]
     },
     "execution_count": 19,
     "metadata": {},
     "output_type": "execute_result"
    }
   ],
   "source": [
    "list(filter(lambda x: x%2==0,l))"
   ]
  },
  {
   "cell_type": "code",
   "execution_count": 20,
   "id": "9a7c9117-6c1f-441e-89eb-c54162050050",
   "metadata": {},
   "outputs": [
    {
     "data": {
      "text/plain": [
       "[False, True, False, True, False]"
      ]
     },
     "execution_count": 20,
     "metadata": {},
     "output_type": "execute_result"
    }
   ],
   "source": [
    "list(map(lambda x: x%2==0,l))"
   ]
  },
  {
   "cell_type": "code",
   "execution_count": 21,
   "id": "d93482d9-4316-48c2-b815-70bf007a4d9d",
   "metadata": {},
   "outputs": [
    {
     "data": {
      "text/plain": [
       "[1, 3, 5]"
      ]
     },
     "execution_count": 21,
     "metadata": {},
     "output_type": "execute_result"
    }
   ],
   "source": [
    "list(filter(lambda x: x%2!=0,l))"
   ]
  },
  {
   "cell_type": "code",
   "execution_count": 23,
   "id": "119445a4-c114-4768-add8-6a2248874616",
   "metadata": {},
   "outputs": [
    {
     "data": {
      "text/plain": [
       "[-1, -2, -4]"
      ]
     },
     "execution_count": 23,
     "metadata": {},
     "output_type": "execute_result"
    }
   ],
   "source": [
    "l2=[-1,-2,-4,2,12,33]\n",
    "list(filter(lambda x:x<0,l2))"
   ]
  },
  {
   "cell_type": "code",
   "execution_count": 24,
   "id": "49b960d8-1123-4e6a-8fff-b0d29e40f0aa",
   "metadata": {},
   "outputs": [
    {
     "data": {
      "text/plain": [
       "['sneha', 'aashi', 'delhi']"
      ]
     },
     "execution_count": 24,
     "metadata": {},
     "output_type": "execute_result"
    }
   ],
   "source": [
    "l4=[\"sneha\",\"aashi\",\"delhi\",\"khushi\",'sparshvasishth']\n",
    "list(filter(lambda x: len(x)<6,l4))"
   ]
  },
  {
   "cell_type": "code",
   "execution_count": 1,
   "id": "1a240ee0-02c5-4238-a2a8-4193ab303c58",
   "metadata": {},
   "outputs": [
    {
     "data": {
      "text/plain": [
       "['S', 'N', 'E', 'H', 'A', ' ', 'V', 'A', 'S', 'I', 'S', 'H', 'T', 'H']"
      ]
     },
     "execution_count": 1,
     "metadata": {},
     "output_type": "execute_result"
    }
   ],
   "source": [
    "s=\"sneha vasishth\"\n",
    "list(map(lambda x:x.upper(),s))"
   ]
  },
  {
   "cell_type": "code",
   "execution_count": null,
   "id": "d52ce861-4e39-4cda-8c1d-addb6e05063a",
   "metadata": {},
   "outputs": [],
   "source": []
  }
 ],
 "metadata": {
  "kernelspec": {
   "display_name": "Python 3 (ipykernel)",
   "language": "python",
   "name": "python3"
  },
  "language_info": {
   "codemirror_mode": {
    "name": "ipython",
    "version": 3
   },
   "file_extension": ".py",
   "mimetype": "text/x-python",
   "name": "python",
   "nbconvert_exporter": "python",
   "pygments_lexer": "ipython3",
   "version": "3.10.8"
  }
 },
 "nbformat": 4,
 "nbformat_minor": 5
}
