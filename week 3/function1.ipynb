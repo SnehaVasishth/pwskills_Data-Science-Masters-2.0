{
 "cells": [
  {
   "cell_type": "markdown",
   "id": "90798e4d-4bc7-429a-9c73-7448de96ba38",
   "metadata": {},
   "source": [
    "def test():\n",
    "    "
   ]
  },
  {
   "cell_type": "code",
   "execution_count": 4,
   "id": "8ee19995-7bc1-4cb4-bc19-2a6d3fbe8091",
   "metadata": {},
   "outputs": [],
   "source": [
    "def test():\n",
    "    pass    # using pass keyword now it wil not show error, we can declare function without its defination"
   ]
  },
  {
   "cell_type": "code",
   "execution_count": 5,
   "id": "4efc7f96-8c9b-4dd0-a987-c914086784ad",
   "metadata": {},
   "outputs": [],
   "source": [
    "def test2():\n",
    "    print(\"This is my first functio\")"
   ]
  },
  {
   "cell_type": "code",
   "execution_count": 6,
   "id": "368962e6-3327-447c-a0a0-1edb167d40e4",
   "metadata": {},
   "outputs": [
    {
     "data": {
      "text/plain": [
       "<function __main__.test2()>"
      ]
     },
     "execution_count": 6,
     "metadata": {},
     "output_type": "execute_result"
    }
   ],
   "source": [
    "test2"
   ]
  },
  {
   "cell_type": "code",
   "execution_count": 7,
   "id": "dd89b027-aa11-4e6d-bdce-7fe72aa502ab",
   "metadata": {},
   "outputs": [
    {
     "name": "stdout",
     "output_type": "stream",
     "text": [
      "This is my first functio\n"
     ]
    }
   ],
   "source": [
    "test2()"
   ]
  },
  {
   "cell_type": "code",
   "execution_count": null,
   "id": "d355c5f2-4cc0-47af-b026-2628d4370e9e",
   "metadata": {},
   "outputs": [],
   "source": []
  },
  {
   "cell_type": "markdown",
   "id": "d767726c-9290-4c80-8155-ce6f945cfca7",
   "metadata": {},
   "source": [
    "test2()+\"sneha\"  #print statement gives output having NANtype. string can only be added with string only"
   ]
  },
  {
   "cell_type": "code",
   "execution_count": 9,
   "id": "23f3bfb7-055d-46fd-9d37-ac9643351179",
   "metadata": {},
   "outputs": [],
   "source": [
    "def test1():\n",
    "    return\"sneha is the good girl\""
   ]
  },
  {
   "cell_type": "code",
   "execution_count": 11,
   "id": "30388f01-b149-448c-aa2b-6799e6061a54",
   "metadata": {},
   "outputs": [
    {
     "data": {
      "text/plain": [
       "'sneha is the good girl'"
      ]
     },
     "execution_count": 11,
     "metadata": {},
     "output_type": "execute_result"
    }
   ],
   "source": [
    "test1()   #resturn returns in apticular data tpe"
   ]
  },
  {
   "cell_type": "code",
   "execution_count": 12,
   "id": "9f2eb691-82bd-4ed6-9fdb-453c714ab1c4",
   "metadata": {},
   "outputs": [
    {
     "data": {
      "text/plain": [
       "'sneha is the good girlVasishth'"
      ]
     },
     "execution_count": 12,
     "metadata": {},
     "output_type": "execute_result"
    }
   ],
   "source": [
    "test1()+\"Vasishth\""
   ]
  },
  {
   "cell_type": "code",
   "execution_count": 13,
   "id": "70705d34-f229-4ec7-92c8-ffaf877303b3",
   "metadata": {},
   "outputs": [],
   "source": [
    "def test3():\n",
    "    return 1,2,3,[1,2,3],\"Sneha\",{2,3,4,5}"
   ]
  },
  {
   "cell_type": "code",
   "execution_count": 14,
   "id": "3760a248-2f06-44e8-99c9-0b8393d8ce28",
   "metadata": {},
   "outputs": [
    {
     "data": {
      "text/plain": [
       "(1, 2, 3, [1, 2, 3], 'Sneha', {2, 3, 4, 5})"
      ]
     },
     "execution_count": 14,
     "metadata": {},
     "output_type": "execute_result"
    }
   ],
   "source": [
    "test3()  #it return multiple answers in form of tuple"
   ]
  },
  {
   "cell_type": "code",
   "execution_count": 15,
   "id": "964ec441-73ab-40eb-ad6c-9f37b252dc9d",
   "metadata": {},
   "outputs": [],
   "source": [
    "a,b,c,d,e,f=test3()  # storing the multiple ansers in indvidual variable,a will get the first element of tuple"
   ]
  },
  {
   "cell_type": "code",
   "execution_count": 16,
   "id": "757832bc-44c1-428f-8b4a-6cfc63a030e3",
   "metadata": {},
   "outputs": [
    {
     "data": {
      "text/plain": [
       "1"
      ]
     },
     "execution_count": 16,
     "metadata": {},
     "output_type": "execute_result"
    }
   ],
   "source": [
    "a\n"
   ]
  },
  {
   "cell_type": "code",
   "execution_count": 17,
   "id": "2674aea3-6251-4bbe-87ec-8ee63fd964d1",
   "metadata": {},
   "outputs": [
    {
     "data": {
      "text/plain": [
       "2"
      ]
     },
     "execution_count": 17,
     "metadata": {},
     "output_type": "execute_result"
    }
   ],
   "source": [
    "b"
   ]
  },
  {
   "cell_type": "code",
   "execution_count": 18,
   "id": "61445f8c-ad3b-417e-9469-7adb0ddb2609",
   "metadata": {},
   "outputs": [
    {
     "data": {
      "text/plain": [
       "3"
      ]
     },
     "execution_count": 18,
     "metadata": {},
     "output_type": "execute_result"
    }
   ],
   "source": [
    "c"
   ]
  },
  {
   "cell_type": "code",
   "execution_count": 19,
   "id": "9d13b565-47b5-4e97-b3c3-3b3a1aad9307",
   "metadata": {},
   "outputs": [
    {
     "data": {
      "text/plain": [
       "[1, 2, 3]"
      ]
     },
     "execution_count": 19,
     "metadata": {},
     "output_type": "execute_result"
    }
   ],
   "source": [
    "d"
   ]
  },
  {
   "cell_type": "code",
   "execution_count": 20,
   "id": "c17786f8-d961-4eb5-ad38-c565d5aa2644",
   "metadata": {},
   "outputs": [
    {
     "data": {
      "text/plain": [
       "'Sneha'"
      ]
     },
     "execution_count": 20,
     "metadata": {},
     "output_type": "execute_result"
    }
   ],
   "source": [
    "e\n"
   ]
  },
  {
   "cell_type": "code",
   "execution_count": 21,
   "id": "6f0afad1-c675-4e96-a674-355de2f4cade",
   "metadata": {},
   "outputs": [
    {
     "data": {
      "text/plain": [
       "{2, 3, 4, 5}"
      ]
     },
     "execution_count": 21,
     "metadata": {},
     "output_type": "execute_result"
    }
   ],
   "source": [
    "f"
   ]
  },
  {
   "cell_type": "code",
   "execution_count": 22,
   "id": "056a2f15-49d1-48cc-9f85-5a924f20e86a",
   "metadata": {},
   "outputs": [],
   "source": [
    "a=1\n",
    "b=2\n",
    "a,b=3,4\n"
   ]
  },
  {
   "cell_type": "code",
   "execution_count": 23,
   "id": "85fc2774-79e1-487e-94b5-1cde33e8196f",
   "metadata": {},
   "outputs": [
    {
     "data": {
      "text/plain": [
       "3"
      ]
     },
     "execution_count": 23,
     "metadata": {},
     "output_type": "execute_result"
    }
   ],
   "source": [
    "a"
   ]
  },
  {
   "cell_type": "code",
   "execution_count": 24,
   "id": "48a8460b-0f03-4c4d-aaa2-8aa06a18f03d",
   "metadata": {},
   "outputs": [
    {
     "data": {
      "text/plain": [
       "4"
      ]
     },
     "execution_count": 24,
     "metadata": {},
     "output_type": "execute_result"
    }
   ],
   "source": [
    "b"
   ]
  },
  {
   "cell_type": "code",
   "execution_count": 25,
   "id": "d13c106e-0e15-4731-af9b-8b5ac6c3db42",
   "metadata": {},
   "outputs": [],
   "source": [
    "def test4():\n",
    "    a=4**2\n",
    "    return a+3\n"
   ]
  },
  {
   "cell_type": "code",
   "execution_count": 26,
   "id": "b9a70147-de25-4265-9a5b-c8399979fa7c",
   "metadata": {},
   "outputs": [
    {
     "data": {
      "text/plain": [
       "19"
      ]
     },
     "execution_count": 26,
     "metadata": {},
     "output_type": "execute_result"
    }
   ],
   "source": [
    "test4()"
   ]
  },
  {
   "cell_type": "code",
   "execution_count": 27,
   "id": "818a11de-4715-4191-9bb8-ab1378f2eab6",
   "metadata": {},
   "outputs": [],
   "source": [
    "def test6(a,b,c):\n",
    "    d= a-b+c/7\n",
    "    return d"
   ]
  },
  {
   "cell_type": "markdown",
   "id": "3f5b299d-e267-431a-a211-59bc4720d41c",
   "metadata": {},
   "source": [
    "test6()  # paarmter not pased"
   ]
  },
  {
   "cell_type": "code",
   "execution_count": 29,
   "id": "99c0e29f-db9e-4145-ad61-cdbed576caaf",
   "metadata": {},
   "outputs": [
    {
     "data": {
      "text/plain": [
       "-32.285714285714285"
      ]
     },
     "execution_count": 29,
     "metadata": {},
     "output_type": "execute_result"
    }
   ],
   "source": [
    "test6(1,34,5)"
   ]
  },
  {
   "cell_type": "code",
   "execution_count": 30,
   "id": "53e8c4a2-388c-4fb7-8458-716444aa09d8",
   "metadata": {},
   "outputs": [],
   "source": [
    "def test7(a,b):\n",
    "    d=a+b\n",
    "    return d"
   ]
  },
  {
   "cell_type": "code",
   "execution_count": 31,
   "id": "818052c0-a77a-48f1-84b2-d56a155171fd",
   "metadata": {},
   "outputs": [
    {
     "data": {
      "text/plain": [
       "'snehaVasishth'"
      ]
     },
     "execution_count": 31,
     "metadata": {},
     "output_type": "execute_result"
    }
   ],
   "source": [
    "test7(\"sneha\",\"Vasishth\")"
   ]
  },
  {
   "cell_type": "code",
   "execution_count": 32,
   "id": "219e6bcf-f854-426b-9878-f4041e9e221f",
   "metadata": {},
   "outputs": [],
   "source": [
    "l=[1,2,3,4,\"aneha\",\"vasishth\",[3,4,5,6,6]]"
   ]
  },
  {
   "cell_type": "code",
   "execution_count": 34,
   "id": "88294b6d-0e03-4575-8a5f-ccb315a45c7c",
   "metadata": {},
   "outputs": [],
   "source": [
    "l1=[]\n",
    "for i in l:\n",
    "    if type(i)==int or type(i)==float:\n",
    "        l1.append(i)"
   ]
  },
  {
   "cell_type": "code",
   "execution_count": 35,
   "id": "ad0ee2d5-ae3d-4b01-8d6e-d7405a70c06e",
   "metadata": {},
   "outputs": [],
   "source": [
    "def test7(l):\n",
    "    l1=[]\n",
    "    for i in l:\n",
    "        if type(i)==int or type(i)==float:\n",
    "            l1.append(i)\n",
    "    return l1\n",
    "    "
   ]
  },
  {
   "cell_type": "code",
   "execution_count": 36,
   "id": "4c11be29-bdef-488f-b6db-ca1b659850ff",
   "metadata": {},
   "outputs": [
    {
     "data": {
      "text/plain": [
       "[1, 2, 3, 4]"
      ]
     },
     "execution_count": 36,
     "metadata": {},
     "output_type": "execute_result"
    }
   ],
   "source": [
    "test7(l)"
   ]
  },
  {
   "cell_type": "code",
   "execution_count": 37,
   "id": "aa62ad7b-f34f-4f53-bf49-652c89af74b3",
   "metadata": {},
   "outputs": [],
   "source": [
    "l=[1,2,3,[1,22,2.33,4,5,6],\"sneha\",44.55,5.6]"
   ]
  },
  {
   "cell_type": "code",
   "execution_count": 41,
   "id": "a5de8f94-3965-4fac-a9fb-79a745751b01",
   "metadata": {},
   "outputs": [],
   "source": [
    "def test9(l):\n",
    "    l1=[]\n",
    "    for i in l:\n",
    "        if type(i)==list:\n",
    "            for j in i:\n",
    "                l1.append(j)\n",
    "        elif type(i)==int or type(i)==float:\n",
    "            l1.append(i)\n",
    "    return l1"
   ]
  },
  {
   "cell_type": "code",
   "execution_count": 42,
   "id": "784d1b64-b038-4922-9109-819964c17c30",
   "metadata": {},
   "outputs": [
    {
     "data": {
      "text/plain": [
       "[1, 2, 3, 1, 22, 2.33, 4, 5, 6, 44.55, 5.6]"
      ]
     },
     "execution_count": 42,
     "metadata": {},
     "output_type": "execute_result"
    }
   ],
   "source": [
    "test9(l)"
   ]
  },
  {
   "cell_type": "code",
   "execution_count": 44,
   "id": "bc143ee3-8a87-4127-ac00-91467ab992c1",
   "metadata": {},
   "outputs": [],
   "source": [
    "def test11(*arg):   #* means its can take n number of argumnet and can return those element in tupkes, arg is not a keyword\n",
    "    return arg"
   ]
  },
  {
   "cell_type": "code",
   "execution_count": 45,
   "id": "89fb1b7e-1701-40d7-b1b9-92b5fe2e7c4f",
   "metadata": {},
   "outputs": [
    {
     "data": {
      "text/plain": [
       "(1, 2, 23, 34)"
      ]
     },
     "execution_count": 45,
     "metadata": {},
     "output_type": "execute_result"
    }
   ],
   "source": [
    "test11(1,2,23,34)"
   ]
  },
  {
   "cell_type": "code",
   "execution_count": 46,
   "id": "a304d673-3f42-4199-8ab5-34685b5965ff",
   "metadata": {},
   "outputs": [],
   "source": [
    "def test11(*sneha):   #* means its can take n number of argumnet and can return those element in tupkes, arg is not a keyword\n",
    "    return sneha"
   ]
  },
  {
   "cell_type": "code",
   "execution_count": 47,
   "id": "d185085c-7b06-4877-be53-82a5a3452fc9",
   "metadata": {},
   "outputs": [
    {
     "data": {
      "text/plain": [
       "(1, 2, 3, [3, 4, 4])"
      ]
     },
     "execution_count": 47,
     "metadata": {},
     "output_type": "execute_result"
    }
   ],
   "source": [
    "test11(1,2,3,[3,4,4])"
   ]
  },
  {
   "cell_type": "code",
   "execution_count": 51,
   "id": "de4e3244-6cde-4f67-960e-bd543308a2f3",
   "metadata": {},
   "outputs": [],
   "source": [
    "def test11(*arg,a):   #* means its can take n number of argumnet and can return those element in tupkes, arg is not a keyword\n",
    "    return arg,a"
   ]
  },
  {
   "cell_type": "markdown",
   "id": "4e7f3789-da96-4aba-b19f-bd550a48303c",
   "metadata": {},
   "source": [
    "test11(1,2,3,4)  # here it confuse all parameter is accepted by arg, then which value has to give to a variable"
   ]
  },
  {
   "cell_type": "code",
   "execution_count": 52,
   "id": "e8499dc8-b26e-4272-9561-ac3e814b96b6",
   "metadata": {},
   "outputs": [
    {
     "data": {
      "text/plain": [
       "((1, 2, 3, 4), [1, 4, 5, 6])"
      ]
     },
     "execution_count": 52,
     "metadata": {},
     "output_type": "execute_result"
    }
   ],
   "source": [
    "test11(1,2,3,4,a=[1,4,5,6])  # explicitely define the value to gibve to variable a"
   ]
  },
  {
   "cell_type": "code",
   "execution_count": 53,
   "id": "bc3dd188-7a3c-4459-bd9f-823960aba350",
   "metadata": {},
   "outputs": [],
   "source": [
    "def test14(c,d,a=15,b=456):\n",
    "    return a,b,c,d"
   ]
  },
  {
   "cell_type": "code",
   "execution_count": 54,
   "id": "cbaba50c-248f-464b-9f95-38ec6323bd3a",
   "metadata": {},
   "outputs": [
    {
     "data": {
      "text/plain": [
       "(15, 456, 3, 4)"
      ]
     },
     "execution_count": 54,
     "metadata": {},
     "output_type": "execute_result"
    }
   ],
   "source": [
    "test14(3,4)  #values for c and d"
   ]
  },
  {
   "cell_type": "code",
   "execution_count": 55,
   "id": "de7cafed-caa8-4f02-8675-88d2ef706d84",
   "metadata": {},
   "outputs": [
    {
     "data": {
      "text/plain": [
       "(5, 456, 3, 4)"
      ]
     },
     "execution_count": 55,
     "metadata": {},
     "output_type": "execute_result"
    }
   ],
   "source": [
    "test14(3,4,5)  # a is eralier was 14 whic is overwritten through value passed in parameter"
   ]
  },
  {
   "cell_type": "code",
   "execution_count": null,
   "id": "33aeb980-5e23-40f1-ba55-13cbdf4c0eea",
   "metadata": {},
   "outputs": [],
   "source": [
    "def test15(**kwargs):\n",
    "    return kwargs    #** means it will take n number of key value pair and return them in the form of dictionary"
   ]
  },
  {
   "cell_type": "code",
   "execution_count": 59,
   "id": "b0cd9393-baf0-4469-aec8-3cd3756fd10c",
   "metadata": {},
   "outputs": [
    {
     "data": {
      "text/plain": [
       "function"
      ]
     },
     "execution_count": 59,
     "metadata": {},
     "output_type": "execute_result"
    }
   ],
   "source": [
    "type(test15)"
   ]
  },
  {
   "cell_type": "code",
   "execution_count": 60,
   "id": "2b12038b-1994-461d-883f-cacb9dfc06e8",
   "metadata": {},
   "outputs": [
    {
     "data": {
      "text/plain": [
       "dict"
      ]
     },
     "execution_count": 60,
     "metadata": {},
     "output_type": "execute_result"
    }
   ],
   "source": [
    "type(test15())"
   ]
  },
  {
   "cell_type": "markdown",
   "id": "7c00c95a-a6ee-4cf5-9c1e-0a535637cb44",
   "metadata": {},
   "source": [
    "test15(a=[1,2,3,4],b=\"snwha\", 15=\"Vasishth\")"
   ]
  },
  {
   "cell_type": "code",
   "execution_count": 58,
   "id": "375b003d-c1e7-43cc-a0b4-382010bf72d9",
   "metadata": {},
   "outputs": [
    {
     "data": {
      "text/plain": [
       "{'a': {1, 2, 3}, 'b': [1, 35, 6, 7], 'c': 'snwha', 'd': 1234}"
      ]
     },
     "execution_count": 58,
     "metadata": {},
     "output_type": "execute_result"
    }
   ],
   "source": [
    "test15(a={1,2,3},b=[1,35,6,7],c=\"snwha\",d=1234)"
   ]
  },
  {
   "cell_type": "code",
   "execution_count": null,
   "id": "4c86bcd1-3a63-4dda-8bbf-f86cd3b78b35",
   "metadata": {},
   "outputs": [],
   "source": [
    "\n"
   ]
  }
 ],
 "metadata": {
  "kernelspec": {
   "display_name": "Python 3 (ipykernel)",
   "language": "python",
   "name": "python3"
  },
  "language_info": {
   "codemirror_mode": {
    "name": "ipython",
    "version": 3
   },
   "file_extension": ".py",
   "mimetype": "text/x-python",
   "name": "python",
   "nbconvert_exporter": "python",
   "pygments_lexer": "ipython3",
   "version": "3.10.8"
  }
 },
 "nbformat": 4,
 "nbformat_minor": 5
}
