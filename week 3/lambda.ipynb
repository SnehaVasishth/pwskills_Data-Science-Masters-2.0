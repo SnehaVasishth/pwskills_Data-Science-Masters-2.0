{
 "cells": [
  {
   "cell_type": "code",
   "execution_count": 1,
   "id": "d89a8f3e-2739-4a30-97bd-07ae0a4f6d0a",
   "metadata": {},
   "outputs": [],
   "source": [
    "n=3\n",
    "p=2\n"
   ]
  },
  {
   "cell_type": "code",
   "execution_count": 2,
   "id": "24e2b836-90a0-4506-89f2-acc6fd3a8d89",
   "metadata": {},
   "outputs": [],
   "source": [
    "def test(n,p):\n",
    "    return n**p"
   ]
  },
  {
   "cell_type": "code",
   "execution_count": 3,
   "id": "102b5967-fcee-47c0-8a77-235fafdab8e6",
   "metadata": {},
   "outputs": [
    {
     "data": {
      "text/plain": [
       "9"
      ]
     },
     "execution_count": 3,
     "metadata": {},
     "output_type": "execute_result"
    }
   ],
   "source": [
    "test(3,2)"
   ]
  },
  {
   "cell_type": "code",
   "execution_count": 4,
   "id": "716f4370-d565-49b3-9382-b89fefdd532f",
   "metadata": {},
   "outputs": [
    {
     "data": {
      "text/plain": [
       "<function __main__.<lambda>(n, p)>"
      ]
     },
     "execution_count": 4,
     "metadata": {},
     "output_type": "execute_result"
    }
   ],
   "source": [
    "lambda n,p: n**p"
   ]
  },
  {
   "cell_type": "code",
   "execution_count": 7,
   "id": "2b376ebe-002d-481d-8c25-7e0b5d8a3c39",
   "metadata": {},
   "outputs": [],
   "source": [
    "a= lambda n,p: n**p   # a is now use as its name"
   ]
  },
  {
   "cell_type": "code",
   "execution_count": 8,
   "id": "fc881bf5-7fa7-411b-8d4d-76e4fca074e5",
   "metadata": {},
   "outputs": [
    {
     "data": {
      "text/plain": [
       "9"
      ]
     },
     "execution_count": 8,
     "metadata": {},
     "output_type": "execute_result"
    }
   ],
   "source": [
    "a(3,2)"
   ]
  },
  {
   "cell_type": "code",
   "execution_count": 11,
   "id": "19ad62eb-8f08-42e8-9bef-41edac4f3109",
   "metadata": {},
   "outputs": [],
   "source": [
    "add = lambda x,y:x+y  #lambda functuon is one line function, lamda does not contaion name, we just store it in a varibal, the use that variable to call the lambda function"
   ]
  },
  {
   "cell_type": "code",
   "execution_count": 12,
   "id": "84900665-cb10-46be-986e-0cbdde17b167",
   "metadata": {},
   "outputs": [
    {
     "data": {
      "text/plain": [
       "5"
      ]
     },
     "execution_count": 12,
     "metadata": {},
     "output_type": "execute_result"
    }
   ],
   "source": [
    "add(3,2)"
   ]
  },
  {
   "cell_type": "code",
   "execution_count": 13,
   "id": "bea7a23b-911b-4712-892f-c870b3b72bf2",
   "metadata": {},
   "outputs": [],
   "source": [
    "# lambda function is anonymous function, if we want to write a simple function we can go with lambda function"
   ]
  },
  {
   "cell_type": "code",
   "execution_count": 14,
   "id": "ca53852e-b386-4e76-af5c-b20f9d80f6f0",
   "metadata": {},
   "outputs": [],
   "source": [
    "c_to_f=lambda c: (9/5)*c+32"
   ]
  },
  {
   "cell_type": "code",
   "execution_count": 15,
   "id": "117cf8a9-79c9-4ebc-89e2-55e3309238dc",
   "metadata": {},
   "outputs": [
    {
     "data": {
      "text/plain": [
       "93.2"
      ]
     },
     "execution_count": 15,
     "metadata": {},
     "output_type": "execute_result"
    }
   ],
   "source": [
    "c_to_f(34)"
   ]
  },
  {
   "cell_type": "code",
   "execution_count": 16,
   "id": "e2cd33ba-58f2-4bab-9091-502abba39358",
   "metadata": {},
   "outputs": [],
   "source": [
    "maxi= lambda x,y: x if x>y else y"
   ]
  },
  {
   "cell_type": "code",
   "execution_count": 17,
   "id": "50e4a178-1654-41df-b845-9a759a7ef3bf",
   "metadata": {},
   "outputs": [
    {
     "data": {
      "text/plain": [
       "55"
      ]
     },
     "execution_count": 17,
     "metadata": {},
     "output_type": "execute_result"
    }
   ],
   "source": [
    "maxi(3,55)"
   ]
  },
  {
   "cell_type": "code",
   "execution_count": 18,
   "id": "5b648cbb-1bb5-4e74-90dd-49a96896a751",
   "metadata": {},
   "outputs": [],
   "source": [
    "s=\"sneha\"\n",
    "lenght= lambda s:len(s)"
   ]
  },
  {
   "cell_type": "code",
   "execution_count": 19,
   "id": "0493f585-05cf-44e6-99eb-1e676397fa5f",
   "metadata": {},
   "outputs": [
    {
     "data": {
      "text/plain": [
       "5"
      ]
     },
     "execution_count": 19,
     "metadata": {},
     "output_type": "execute_result"
    }
   ],
   "source": [
    "lenght(s)"
   ]
  },
  {
   "cell_type": "code",
   "execution_count": null,
   "id": "44a363d6-cf61-4549-9ad2-35efc3228742",
   "metadata": {},
   "outputs": [],
   "source": []
  }
 ],
 "metadata": {
  "kernelspec": {
   "display_name": "Python 3 (ipykernel)",
   "language": "python",
   "name": "python3"
  },
  "language_info": {
   "codemirror_mode": {
    "name": "ipython",
    "version": 3
   },
   "file_extension": ".py",
   "mimetype": "text/x-python",
   "name": "python",
   "nbconvert_exporter": "python",
   "pygments_lexer": "ipython3",
   "version": "3.10.8"
  }
 },
 "nbformat": 4,
 "nbformat_minor": 5
}
