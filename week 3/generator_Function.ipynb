{
 "cells": [
  {
   "cell_type": "code",
   "execution_count": 1,
   "id": "61f9d168-6cbf-4e66-a1fe-306da02292bb",
   "metadata": {},
   "outputs": [
    {
     "data": {
      "text/plain": [
       "range(0, 10)"
      ]
     },
     "execution_count": 1,
     "metadata": {},
     "output_type": "execute_result"
    }
   ],
   "source": [
    "range(10)  #it is object, does not store the numbers in memory"
   ]
  },
  {
   "cell_type": "code",
   "execution_count": 2,
   "id": "c092f462-9223-47f2-8a9c-9f448429d3fb",
   "metadata": {},
   "outputs": [],
   "source": [
    "# if we have lot of data to store ,it will first store in list,\n",
    "#then that list would return containing all the elements, \n",
    "#this process leads to lot of memeory consumption. to reduce it we use genrator function which takes one element at a time and compute it a same time does not store\n",
    "#akll the elemenst in one data structure"
   ]
  },
  {
   "cell_type": "code",
   "execution_count": 3,
   "id": "bcee2216-27d1-4e72-b480-9fc6c1ca3d72",
   "metadata": {},
   "outputs": [],
   "source": [
    "# genrator function does not take all elemenst all together, it takes one input and produce output again and again for individual inpput"
   ]
  },
  {
   "cell_type": "code",
   "execution_count": 4,
   "id": "2904dca6-a832-421a-b403-4dc3c2d95cd3",
   "metadata": {},
   "outputs": [],
   "source": [
    "def fabonacci(n):\n",
    "    a=0\n",
    "    b=1\n",
    "    for i in range(n):\n",
    "        yield a  #genates geneartor functiom\n",
    "        a,b=b,a+b   # a=b, b=a+b(here a is giving older number)\n",
    "    \n",
    "    "
   ]
  },
  {
   "cell_type": "code",
   "execution_count": 5,
   "id": "ebe0f8d0-4c3c-47f6-8b58-b667a25637d6",
   "metadata": {},
   "outputs": [
    {
     "name": "stdout",
     "output_type": "stream",
     "text": [
      "0\n",
      "1\n",
      "1\n",
      "2\n",
      "3\n",
      "5\n",
      "8\n",
      "13\n",
      "21\n",
      "34\n"
     ]
    }
   ],
   "source": [
    "for i in fabonacci(10):   # we can think as if by using yield it stores value of a in fabonacci object, now i is pointing one by one\n",
    "    print(i)"
   ]
  },
  {
   "cell_type": "code",
   "execution_count": 6,
   "id": "441fc54f-c112-4d90-94d4-e0980bfbe088",
   "metadata": {},
   "outputs": [],
   "source": [
    "# range is a an example of geneerator function"
   ]
  },
  {
   "cell_type": "code",
   "execution_count": 7,
   "id": "3a86bde4-1d44-46c2-9082-74cc9d0f3cd8",
   "metadata": {},
   "outputs": [
    {
     "name": "stdout",
     "output_type": "stream",
     "text": [
      "<class 'str_iterator'>\n",
      "s\n",
      "n\n",
      "e\n",
      "h\n",
      "a\n",
      " \n",
      "V\n",
      "a\n",
      "s\n",
      "i\n",
      "s\n",
      "h\n",
      "t\n",
      "h\n"
     ]
    }
   ],
   "source": [
    "#mechanism of for loop\n",
    "\n",
    "#i is converted to iterator to the sequence then \n",
    "#i is passed to next(), by this i will keep pointinh=g \n",
    "#to \n",
    "#next element of sequence/iterable\n",
    "\n",
    "\n",
    "str=\"sneha Vasishth\"\n",
    "s= iter(str)# intialied s to be iertaor to string str\n",
    "print(type(s))\n",
    "for i in range(len(str)):\n",
    "    print(next(s))\n"
   ]
  },
  {
   "cell_type": "code",
   "execution_count": 8,
   "id": "0e5f32a0-98a7-4584-8fef-e699f2c86cfc",
   "metadata": {},
   "outputs": [],
   "source": [
    "def test():\n",
    "    a,b=0,1\n",
    "    while True:\n",
    "        yield a\n",
    "        a,b=b,a+b"
   ]
  },
  {
   "cell_type": "code",
   "execution_count": 9,
   "id": "7ec01df9-a0df-4b09-bd9a-214069ef2ef1",
   "metadata": {},
   "outputs": [],
   "source": [
    "fib=test()"
   ]
  },
  {
   "cell_type": "code",
   "execution_count": 10,
   "id": "0f685cf9-cd4b-4ad4-a97e-df56a43219ec",
   "metadata": {},
   "outputs": [
    {
     "data": {
      "text/plain": [
       "generator"
      ]
     },
     "execution_count": 10,
     "metadata": {},
     "output_type": "execute_result"
    }
   ],
   "source": [
    "type(fib)  #generator is same as iterator where genrator is aiterator to the genrtor function"
   ]
  },
  {
   "cell_type": "code",
   "execution_count": 11,
   "id": "1703896e-1921-429f-a716-93126bee54c8",
   "metadata": {},
   "outputs": [
    {
     "data": {
      "text/plain": [
       "generator"
      ]
     },
     "execution_count": 11,
     "metadata": {},
     "output_type": "execute_result"
    }
   ],
   "source": [
    "type(test())"
   ]
  },
  {
   "cell_type": "code",
   "execution_count": 12,
   "id": "e6e39cf5-abb0-4a4c-86e9-aa8dbd5bfdc9",
   "metadata": {},
   "outputs": [
    {
     "data": {
      "text/plain": [
       "function"
      ]
     },
     "execution_count": 12,
     "metadata": {},
     "output_type": "execute_result"
    }
   ],
   "source": [
    "type(test)"
   ]
  },
  {
   "cell_type": "code",
   "execution_count": 13,
   "id": "ef094f1d-06b1-445d-bccc-c4fbc1a4ff12",
   "metadata": {},
   "outputs": [
    {
     "name": "stdout",
     "output_type": "stream",
     "text": [
      "0\n",
      "1\n",
      "1\n",
      "2\n",
      "3\n",
      "5\n",
      "8\n",
      "13\n",
      "21\n",
      "34\n"
     ]
    }
   ],
   "source": [
    "for i in range(10):\n",
    "    print(next(fib))"
   ]
  },
  {
   "cell_type": "code",
   "execution_count": 14,
   "id": "b4999314-7a75-4da8-9ba3-dbc26ebcc55f",
   "metadata": {},
   "outputs": [
    {
     "name": "stdout",
     "output_type": "stream",
     "text": [
      "0\n",
      "0\n",
      "0\n",
      "0\n",
      "0\n",
      "0\n",
      "0\n",
      "0\n",
      "0\n",
      "0\n"
     ]
    }
   ],
   "source": [
    "for i in range(10):\n",
    "    print(next(test()))"
   ]
  },
  {
   "cell_type": "code",
   "execution_count": null,
   "id": "5f09d35b-b5a6-4642-8879-adfa6f71c63d",
   "metadata": {},
   "outputs": [],
   "source": []
  },
  {
   "cell_type": "code",
   "execution_count": 15,
   "id": "21318066-581a-43e7-b31e-64819d74ee62",
   "metadata": {},
   "outputs": [],
   "source": [
    "def count(n):\n",
    "    cnt=1\n",
    "    while cnt <n:\n",
    "        yield cnt\n",
    "        cnt=cnt+1\n",
    "        "
   ]
  },
  {
   "cell_type": "code",
   "execution_count": 16,
   "id": "1f69f6ae-e62d-4f82-9bdf-2414d2d3ba6f",
   "metadata": {},
   "outputs": [],
   "source": [
    "c= count(6)\n"
   ]
  },
  {
   "cell_type": "code",
   "execution_count": 17,
   "id": "e828aba5-12cd-412d-9335-80409e1c8bfe",
   "metadata": {},
   "outputs": [
    {
     "data": {
      "text/plain": [
       "generator"
      ]
     },
     "execution_count": 17,
     "metadata": {},
     "output_type": "execute_result"
    }
   ],
   "source": [
    "type(c)"
   ]
  },
  {
   "cell_type": "code",
   "execution_count": 18,
   "id": "4e421350-3c58-46fe-9703-65bf613c2a11",
   "metadata": {},
   "outputs": [
    {
     "data": {
      "text/plain": [
       "generator"
      ]
     },
     "execution_count": 18,
     "metadata": {},
     "output_type": "execute_result"
    }
   ],
   "source": [
    "type(count(1))"
   ]
  },
  {
   "cell_type": "code",
   "execution_count": 19,
   "id": "cb568049-091f-4c17-a5a6-6c77f0e34a6f",
   "metadata": {},
   "outputs": [
    {
     "name": "stdout",
     "output_type": "stream",
     "text": [
      "1\n",
      "2\n",
      "3\n",
      "4\n",
      "5\n"
     ]
    }
   ],
   "source": [
    "for i in c:\n",
    "    print(i)"
   ]
  },
  {
   "cell_type": "code",
   "execution_count": 20,
   "id": "0f6b6258-0b2b-4f8f-95aa-e0af99854f00",
   "metadata": {},
   "outputs": [],
   "source": [
    "def count(n):\n",
    "    cnt=1\n",
    "    while cnt <n:\n",
    "        yield cnt\n",
    "        cnt=cnt+1\n",
    "        "
   ]
  },
  {
   "cell_type": "code",
   "execution_count": 21,
   "id": "3fa93de6-f744-4155-982f-6b52c0e3da0a",
   "metadata": {},
   "outputs": [
    {
     "name": "stdout",
     "output_type": "stream",
     "text": [
      "1\n",
      "2\n",
      "3\n",
      "4\n"
     ]
    }
   ],
   "source": [
    "b=count(5)\n",
    "for i in count(5):\n",
    "    print(next(b))"
   ]
  },
  {
   "cell_type": "code",
   "execution_count": 22,
   "id": "be42623b-030b-43b9-a071-b370c48d7aad",
   "metadata": {},
   "outputs": [
    {
     "name": "stdout",
     "output_type": "stream",
     "text": [
      "1\n",
      "1\n",
      "1\n",
      "1\n"
     ]
    }
   ],
   "source": [
    "for i in count(5):\n",
    "    print(next(count(5)))"
   ]
  },
  {
   "cell_type": "code",
   "execution_count": 23,
   "id": "9d430614-0270-4204-8451-8767e7f3e3ea",
   "metadata": {},
   "outputs": [
    {
     "name": "stdout",
     "output_type": "stream",
     "text": [
      "1\n",
      "1\n",
      "1\n",
      "1\n"
     ]
    }
   ],
   "source": [
    "for i in count(5):\n",
    "    print(next(iter(count(5))))"
   ]
  },
  {
   "cell_type": "code",
   "execution_count": 32,
   "id": "e7d99617-ba88-48e2-865d-63739407c478",
   "metadata": {},
   "outputs": [
    {
     "name": "stdout",
     "output_type": "stream",
     "text": [
      "1\n",
      "2\n",
      "3\n",
      "4\n"
     ]
    }
   ],
   "source": [
    "c= iter(count(5))\n",
    "for i in count(5):\n",
    "    print(next(c))\n",
    "    "
   ]
  },
  {
   "cell_type": "code",
   "execution_count": 27,
   "id": "1fe76ba3-f5a5-45bc-8636-21bf91e2dbf2",
   "metadata": {},
   "outputs": [
    {
     "data": {
      "text/plain": [
       "generator"
      ]
     },
     "execution_count": 27,
     "metadata": {},
     "output_type": "execute_result"
    }
   ],
   "source": [
    "type(c)"
   ]
  },
  {
   "cell_type": "code",
   "execution_count": 24,
   "id": "6eaa515e-d8cb-474f-93ec-90b3dc57d7ec",
   "metadata": {},
   "outputs": [
    {
     "data": {
      "text/plain": [
       "generator"
      ]
     },
     "execution_count": 24,
     "metadata": {},
     "output_type": "execute_result"
    }
   ],
   "source": [
    "type(b)"
   ]
  },
  {
   "cell_type": "code",
   "execution_count": 25,
   "id": "110e7654-562d-4da2-b460-3148ddd3b824",
   "metadata": {},
   "outputs": [
    {
     "data": {
      "text/plain": [
       "generator"
      ]
     },
     "execution_count": 25,
     "metadata": {},
     "output_type": "execute_result"
    }
   ],
   "source": [
    "type(count(5))"
   ]
  },
  {
   "cell_type": "code",
   "execution_count": null,
   "id": "737ed784-2bb4-43a3-bca4-e249e0153b40",
   "metadata": {},
   "outputs": [],
   "source": []
  }
 ],
 "metadata": {
  "kernelspec": {
   "display_name": "Python 3 (ipykernel)",
   "language": "python",
   "name": "python3"
  },
  "language_info": {
   "codemirror_mode": {
    "name": "ipython",
    "version": 3
   },
   "file_extension": ".py",
   "mimetype": "text/x-python",
   "name": "python",
   "nbconvert_exporter": "python",
   "pygments_lexer": "ipython3",
   "version": "3.10.8"
  }
 },
 "nbformat": 4,
 "nbformat_minor": 5
}
