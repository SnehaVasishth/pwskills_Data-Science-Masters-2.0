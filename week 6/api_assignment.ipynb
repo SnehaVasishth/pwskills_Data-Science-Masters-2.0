{
 "cells": [
  {
   "cell_type": "code",
   "execution_count": 1,
   "id": "bff8143a-660f-4aa5-8805-ef3279e40452",
   "metadata": {},
   "outputs": [],
   "source": [
    "##ques 1\n"
   ]
  },
  {
   "cell_type": "code",
   "execution_count": null,
   "id": "82eb86ad-3378-47cf-ab0c-bc7749020196",
   "metadata": {},
   "outputs": [],
   "source": []
  },
  {
   "cell_type": "markdown",
   "id": "9c3604fe-6148-4346-bb82-504a6f60ca1e",
   "metadata": {},
   "source": [
    "API is application programming  interface which is used to communicate between different softwares. It provides standards and protocols for communication\n",
    "irrespective of in which language those interacting softwares are written.\n",
    "\n",
    "Example: OLA and Uber has made their software which require navigation system also. For thta purpose they use another software that is google map\n",
    "In order to communicate and to inuilt google map within their own software they use API"
   ]
  },
  {
   "cell_type": "code",
   "execution_count": null,
   "id": "d62a78fe-315a-4ec0-848c-46d9f92a94d5",
   "metadata": {},
   "outputs": [],
   "source": []
  },
  {
   "cell_type": "code",
   "execution_count": null,
   "id": "b03798ba-d8d5-4e2a-8e7f-6cd48a7027bc",
   "metadata": {},
   "outputs": [],
   "source": []
  },
  {
   "cell_type": "code",
   "execution_count": 3,
   "id": "dea41ca5-64b5-440d-b83e-8cb7010a2731",
   "metadata": {},
   "outputs": [],
   "source": [
    "##ques 2"
   ]
  },
  {
   "cell_type": "markdown",
   "id": "9eb56ce9-51f6-4a11-905f-4d78cfef1aa1",
   "metadata": {},
   "source": [
    "ADVANTAGES:\n",
    "1. Code usability: It enables to use alreaady built software within our own software\n",
    "\n",
    "2. Rapid development: Since it allow to use other already built software thus we don't have to make everything of our own\n",
    "\n",
    "3. Innovation: API enables us to integrate different service and softwares in an efficient manner to make something valuable\n",
    "\n",
    "\n",
    "DISADVANTAGE:\n",
    "    \n",
    "1. dependency: while using tird party api we become totally deendent upon them for stability and availability.\n",
    "\n",
    "2. security: poorly designed api become responsible for data braeches.\n",
    "\n",
    "3. limited customisation\n",
    "\n",
    "4. Some api provider cost heavily."
   ]
  },
  {
   "cell_type": "code",
   "execution_count": null,
   "id": "08dbf28d-f88b-42a0-9181-43103e5d62be",
   "metadata": {},
   "outputs": [],
   "source": []
  },
  {
   "cell_type": "code",
   "execution_count": null,
   "id": "088f9d82-039b-417b-826a-15a7bae4dac3",
   "metadata": {},
   "outputs": [],
   "source": []
  },
  {
   "cell_type": "code",
   "execution_count": 5,
   "id": "608f29f2-e5e7-495d-8fa8-a3635110826a",
   "metadata": {},
   "outputs": [],
   "source": [
    "##ques 3"
   ]
  },
  {
   "cell_type": "markdown",
   "id": "17b14013-5cdc-4518-b598-b53c992e684a",
   "metadata": {},
   "source": [
    "Web API  is API used for communicating between different websites over internet using http protocol\n",
    "\n",
    "differences of web api and api:\n",
    "    \n",
    "1.Access protocol :\n",
    "    API- It can uses various communication protocols \n",
    "    webAPI- It uses http for communciation\n",
    "    \n",
    "2. Communication medium:\n",
    "    API- It is used within single application or different application \n",
    "    runnong on same system\n",
    "    \n",
    "    webAPI- Allow communciation between different application to\n",
    "    communicate with each other irrespective of location\n",
    "    \n",
    "3. Accessibility:\n",
    "    API: It can be local not necessry to expose o internet\n",
    "    \n",
    "    Web API: It is exposed over internet\n",
    "    \n",
    "    "
   ]
  },
  {
   "cell_type": "code",
   "execution_count": null,
   "id": "3e6fff74-5a1b-498e-af49-32c03309af34",
   "metadata": {},
   "outputs": [],
   "source": []
  },
  {
   "cell_type": "code",
   "execution_count": null,
   "id": "0534d509-9a6e-46a4-a9af-1a3e6fe51e84",
   "metadata": {},
   "outputs": [],
   "source": []
  },
  {
   "cell_type": "code",
   "execution_count": 7,
   "id": "a905b8a8-2b6d-49cc-9c32-a188b67a0fc2",
   "metadata": {},
   "outputs": [],
   "source": [
    "##ques 4"
   ]
  },
  {
   "cell_type": "markdown",
   "id": "a4d7f47a-3d39-4014-afb6-e92d9834afaa",
   "metadata": {},
   "source": [
    "REST: It is not a protocal as such but a guide of principles and constraints which help to design web services.\n",
    "Its purpose is to make things simpler and browser friendly.\n",
    "\n",
    "SOAP: Simple object access protocol is sued to excjange structured information in web services. It encodes message\n",
    "in XML and transfer the messages using various protocol like http\n",
    "\n",
    "\n",
    "SHORTCOMINGS OF SOAP:\n",
    "1 complexity- Messages are in XML based and addistional metadata is required for each message which make it complex.\n",
    "\n",
    "2. Less caching- Due to complexity, caching SOAP response can be  more challenging\n",
    "\n",
    "3. SOAp is not browser freindly.\n",
    "\n",
    "4. Not readable- It supports XML based messages which is difficult to understand and debug\n",
    "\n"
   ]
  },
  {
   "cell_type": "code",
   "execution_count": null,
   "id": "182a2b28-c26b-410d-8b9f-de40e3a5048b",
   "metadata": {},
   "outputs": [],
   "source": []
  },
  {
   "cell_type": "code",
   "execution_count": null,
   "id": "9878cd46-4380-4504-bba0-1e748311f91f",
   "metadata": {},
   "outputs": [],
   "source": []
  },
  {
   "cell_type": "code",
   "execution_count": 9,
   "id": "aefbfac9-ff6b-44c2-8be2-ed2fc69a2b4f",
   "metadata": {},
   "outputs": [],
   "source": [
    "##Ques 5"
   ]
  },
  {
   "cell_type": "markdown",
   "id": "1bd68f20-164f-4b75-b908-b31cec893a79",
   "metadata": {},
   "source": [
    "1. Architecture style:\n",
    "    \n",
    "    REST: It emphsis on scalabitily and statelessness. It is not a\n",
    "    protocol but a set of pricniples for designing web services\n",
    "    \n",
    "    SOAP: It is a protocol for exchanginf structured information in web services\n",
    "    \n",
    "    \n",
    "2. COMMUCIATION PROTCOL:\n",
    "    \n",
    "    REST: It uses http for communciation\n",
    "    SOAP: Its supports various protocols like http,smtp.\n",
    "    \n",
    "3. FORMATE:\n",
    "    \n",
    "    REST: It supports JSON or XML\n",
    "    SOAP: It uses XML"
   ]
  }
 ],
 "metadata": {
  "kernelspec": {
   "display_name": "Python 3 (ipykernel)",
   "language": "python",
   "name": "python3"
  },
  "language_info": {
   "codemirror_mode": {
    "name": "ipython",
    "version": 3
   },
   "file_extension": ".py",
   "mimetype": "text/x-python",
   "name": "python",
   "nbconvert_exporter": "python",
   "pygments_lexer": "ipython3",
   "version": "3.10.8"
  }
 },
 "nbformat": 4,
 "nbformat_minor": 5
}
