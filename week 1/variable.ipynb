{
 "cells": [
  {
   "cell_type": "code",
   "execution_count": 1,
   "id": "06013065-a6b4-4fce-bac8-e8698d5d9236",
   "metadata": {},
   "outputs": [],
   "source": [
    "a=1"
   ]
  },
  {
   "cell_type": "code",
   "execution_count": 2,
   "id": "c8e02c61-9b55-438b-8348-e591f5078a6c",
   "metadata": {},
   "outputs": [
    {
     "data": {
      "text/plain": [
       "1"
      ]
     },
     "execution_count": 2,
     "metadata": {},
     "output_type": "execute_result"
    }
   ],
   "source": [
    "a\n"
   ]
  },
  {
   "cell_type": "code",
   "execution_count": 3,
   "id": "99e4ed48-6247-4d8b-a068-4b16fc201fbb",
   "metadata": {},
   "outputs": [
    {
     "data": {
      "text/plain": [
       "int"
      ]
     },
     "execution_count": 3,
     "metadata": {},
     "output_type": "execute_result"
    }
   ],
   "source": [
    "type(a)"
   ]
  },
  {
   "cell_type": "code",
   "execution_count": 10,
   "id": "0e6d5948-4c02-4117-9e50-b2578642aae6",
   "metadata": {},
   "outputs": [
    {
     "name": "stdout",
     "output_type": "stream",
     "text": [
      "139794676919728\n",
      "139794754329968\n"
     ]
    }
   ],
   "source": [
    "b=\"sneha\"\n",
    "print(id(b))\n",
    "b=\"aashi\"\n",
    "print(id(b))\n"
   ]
  },
  {
   "cell_type": "code",
   "execution_count": 5,
   "id": "83a9ef6b-69d4-40ca-bb10-354cf66381c8",
   "metadata": {},
   "outputs": [
    {
     "data": {
      "text/plain": [
       "str"
      ]
     },
     "execution_count": 5,
     "metadata": {},
     "output_type": "execute_result"
    }
   ],
   "source": [
    "type(b)"
   ]
  },
  {
   "cell_type": "code",
   "execution_count": 6,
   "id": "e00f4a07-3a6a-4202-a0e8-51ca500b3a84",
   "metadata": {},
   "outputs": [
    {
     "name": "stdout",
     "output_type": "stream",
     "text": [
      "<class 'str'>\n"
     ]
    }
   ],
   "source": [
    "print(type(b))"
   ]
  },
  {
   "cell_type": "code",
   "execution_count": 8,
   "id": "3b0686db-bad9-48e4-b1cf-dc7628dd71f2",
   "metadata": {},
   "outputs": [
    {
     "name": "stdout",
     "output_type": "stream",
     "text": [
      "139794753411952\n"
     ]
    }
   ],
   "source": [
    "c=344.3234\n",
    "type(c)\n",
    "print(id(c))"
   ]
  },
  {
   "cell_type": "code",
   "execution_count": 9,
   "id": "b61e5f02-1644-45a0-9155-08b4863a80a6",
   "metadata": {},
   "outputs": [
    {
     "name": "stdout",
     "output_type": "stream",
     "text": [
      "139794753406608\n"
     ]
    }
   ],
   "source": [
    "c=478594.34\n",
    "print(id(c))"
   ]
  },
  {
   "cell_type": "code",
   "execution_count": 11,
   "id": "825e6bb2-5184-4ea3-9551-f0f8d64be243",
   "metadata": {},
   "outputs": [
    {
     "data": {
      "text/plain": [
       "bool"
      ]
     },
     "execution_count": 11,
     "metadata": {},
     "output_type": "execute_result"
    }
   ],
   "source": [
    "d=True\n",
    "type(d)"
   ]
  },
  {
   "cell_type": "code",
   "execution_count": 12,
   "id": "e5738fae-434f-451c-9ae8-fd37aa4f1acf",
   "metadata": {},
   "outputs": [
    {
     "name": "stdout",
     "output_type": "stream",
     "text": [
      "<class 'bool'>\n"
     ]
    }
   ],
   "source": [
    "e=False\n",
    "print(type(e))"
   ]
  },
  {
   "cell_type": "code",
   "execution_count": 13,
   "id": "4f764818-5646-4d33-9050-b781b3c0b914",
   "metadata": {},
   "outputs": [
    {
     "data": {
      "text/plain": [
       "1"
      ]
     },
     "execution_count": 13,
     "metadata": {},
     "output_type": "execute_result"
    }
   ],
   "source": [
    "True+False"
   ]
  },
  {
   "cell_type": "code",
   "execution_count": 14,
   "id": "5321a608-431d-4081-9401-72db3406bd6c",
   "metadata": {},
   "outputs": [
    {
     "name": "stdout",
     "output_type": "stream",
     "text": [
      "2\n"
     ]
    },
    {
     "data": {
      "text/plain": [
       "int"
      ]
     },
     "execution_count": 14,
     "metadata": {},
     "output_type": "execute_result"
    }
   ],
   "source": [
    "g= True+True\n",
    "print(g)\n",
    "type(g)"
   ]
  },
  {
   "cell_type": "code",
   "execution_count": 18,
   "id": "2a51afa7-d458-4790-8b38-fd0a1ee88d3f",
   "metadata": {},
   "outputs": [
    {
     "name": "stdout",
     "output_type": "stream",
     "text": [
      "(5+7j)\n",
      "<class 'complex'>\n"
     ]
    }
   ],
   "source": [
    "f= 5+7j\n",
    "print(f,type(f),sep=\"\\n\")"
   ]
  },
  {
   "cell_type": "code",
   "execution_count": 19,
   "id": "c4ee4e70-ba0c-4072-b026-b3bdf31a0669",
   "metadata": {},
   "outputs": [
    {
     "data": {
      "text/plain": [
       "5.0"
      ]
     },
     "execution_count": 19,
     "metadata": {},
     "output_type": "execute_result"
    }
   ],
   "source": [
    "f.real\n"
   ]
  },
  {
   "cell_type": "code",
   "execution_count": 20,
   "id": "bff44e67-48e9-4911-a4f8-6e00832f5660",
   "metadata": {},
   "outputs": [
    {
     "data": {
      "text/plain": [
       "7.0"
      ]
     },
     "execution_count": 20,
     "metadata": {},
     "output_type": "execute_result"
    }
   ],
   "source": [
    "f.imag"
   ]
  },
  {
   "cell_type": "code",
   "execution_count": 21,
   "id": "2cd60441-488c-41c5-b954-e06d68240c12",
   "metadata": {},
   "outputs": [
    {
     "data": {
      "text/plain": [
       "float"
      ]
     },
     "execution_count": 21,
     "metadata": {},
     "output_type": "execute_result"
    }
   ],
   "source": [
    "k= f.imag\n",
    "type(k)\n"
   ]
  },
  {
   "cell_type": "code",
   "execution_count": 23,
   "id": "8d08ce88-8a51-4eab-a606-25762f7353b0",
   "metadata": {},
   "outputs": [
    {
     "name": "stdout",
     "output_type": "stream",
     "text": [
      "<built-in method conjugate of complex object at 0x7f24809e5130>\n"
     ]
    }
   ],
   "source": [
    "k=f.conjugate\n",
    "print(k)"
   ]
  },
  {
   "cell_type": "code",
   "execution_count": 24,
   "id": "599ae61f-fc3f-4dff-a505-40c3c4f33bf0",
   "metadata": {},
   "outputs": [
    {
     "data": {
      "text/plain": [
       "<function complex.conjugate()>"
      ]
     },
     "execution_count": 24,
     "metadata": {},
     "output_type": "execute_result"
    }
   ],
   "source": [
    "f.conjugate"
   ]
  },
  {
   "cell_type": "code",
   "execution_count": null,
   "id": "36a1a396-0ec9-47ee-9c30-462c82ccb3c1",
   "metadata": {},
   "outputs": [],
   "source": []
  }
 ],
 "metadata": {
  "kernelspec": {
   "display_name": "Python 3 (ipykernel)",
   "language": "python",
   "name": "python3"
  },
  "language_info": {
   "codemirror_mode": {
    "name": "ipython",
    "version": 3
   },
   "file_extension": ".py",
   "mimetype": "text/x-python",
   "name": "python",
   "nbconvert_exporter": "python",
   "pygments_lexer": "ipython3",
   "version": "3.10.8"
  }
 },
 "nbformat": 4,
 "nbformat_minor": 5
}
