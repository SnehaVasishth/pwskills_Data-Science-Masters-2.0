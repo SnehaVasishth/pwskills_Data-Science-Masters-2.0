{
 "cells": [
  {
   "cell_type": "code",
   "execution_count": 1,
   "id": "7abd4eb2-0f77-4996-b12d-36a52ddde3f7",
   "metadata": {},
   "outputs": [],
   "source": [
    "a=10\n",
    "if a>10:\n",
    "    print(\"a is greater than 10\")"
   ]
  },
  {
   "cell_type": "code",
   "execution_count": 2,
   "id": "14557782-7abd-4aad-9f5a-4d5e61dc53b5",
   "metadata": {},
   "outputs": [
    {
     "name": "stdin",
     "output_type": "stream",
     "text": [
      "enter the value of a 12\n"
     ]
    },
    {
     "name": "stdout",
     "output_type": "stream",
     "text": [
      "a is geater than 10\n"
     ]
    }
   ],
   "source": [
    "a= int(input(\"enter the value of a\"))\n",
    "if a >10:\n",
    "    print(\"a is geater than 10\")"
   ]
  },
  {
   "cell_type": "code",
   "execution_count": 3,
   "id": "24473e1c-148a-44c7-97df-42cf5baf6954",
   "metadata": {},
   "outputs": [
    {
     "name": "stdin",
     "output_type": "stream",
     "text": [
      "enter the value of a 12\n"
     ]
    },
    {
     "name": "stdout",
     "output_type": "stream",
     "text": [
      "a is greater than 10\n"
     ]
    }
   ],
   "source": [
    "a= int(input(\"enter the value of a\"))\n",
    "if a >10:\n",
    "    print('a is greater than 10')\n",
    "elif a<10:\n",
    "    print(\"a is smallwr than 10\")\n",
    "else :\n",
    "    print(\"a is equal to 10\")\n"
   ]
  },
  {
   "cell_type": "code",
   "execution_count": 4,
   "id": "69341f85-314d-444f-82f8-b57d37dc6ee7",
   "metadata": {},
   "outputs": [
    {
     "name": "stdout",
     "output_type": "stream",
     "text": [
      "b is greater than 10\n"
     ]
    }
   ],
   "source": [
    "b =12\n",
    "if b>10:\n",
    "    print(\"b is greater than 10\")\n",
    "elif b==12:\n",
    "    print(\"b is equal to 12\")"
   ]
  },
  {
   "cell_type": "code",
   "execution_count": 6,
   "id": "37e8fd3e-9ff8-49d6-966a-7ecc27782495",
   "metadata": {},
   "outputs": [
    {
     "name": "stdout",
     "output_type": "stream",
     "text": [
      "1\n",
      "2\n",
      "3\n",
      "4\n",
      "while has successfully impelemented in natural way the only its coming to else part\n"
     ]
    }
   ],
   "source": [
    "i=1\n",
    "n=5\n",
    "while i<n:\n",
    "    print(i)\n",
    "    i=i+1\n",
    "else :\n",
    "    print(\"while has successfully impelemented in natural way the only its coming to else part\")"
   ]
  },
  {
   "cell_type": "code",
   "execution_count": 7,
   "id": "89467c38-499a-467a-91be-359a3d48e31e",
   "metadata": {},
   "outputs": [
    {
     "name": "stdout",
     "output_type": "stream",
     "text": [
      "1\n",
      "2\n"
     ]
    }
   ],
   "source": [
    "i=1\n",
    "n=5\n",
    "while(i<n):\n",
    "    print(i)\n",
    "    i+=1\n",
    "    if(i==3):\n",
    "        break\n",
    "else:\n",
    "    print(\"now while is forcefully breaks does not ble to compelte the entire loop due to break happeining in i=3, thus it will not come in else part\")"
   ]
  },
  {
   "cell_type": "code",
   "execution_count": 10,
   "id": "c61cbdf8-123c-41f6-813d-59f08f7d469a",
   "metadata": {},
   "outputs": [
    {
     "name": "stdout",
     "output_type": "stream",
     "text": [
      "s n e h a "
     ]
    }
   ],
   "source": [
    "s= \"sneha\"\n",
    "for i in s:\n",
    "    print(i,end=\" \")"
   ]
  },
  {
   "cell_type": "code",
   "execution_count": 11,
   "id": "61a99354-37e9-4985-9e75-38ba4101c467",
   "metadata": {},
   "outputs": [
    {
     "name": "stdout",
     "output_type": "stream",
     "text": [
      "<class 'int'>\n",
      "<class 'int'>\n",
      "<class 'int'>\n",
      "<class 'int'>\n",
      "<class 'str'>\n",
      "<class 'str'>\n",
      "<class 'str'>\n",
      "<class 'float'>\n"
     ]
    }
   ],
   "source": [
    "l=[1,2,3,3,'sneha','vasishth','aashi',4.45]\n",
    "for i in l:\n",
    "    print(type(i))"
   ]
  },
  {
   "cell_type": "code",
   "execution_count": 12,
   "id": "5ccc8916-e278-4259-a3c9-b4a8c2403141",
   "metadata": {},
   "outputs": [
    {
     "name": "stdout",
     "output_type": "stream",
     "text": [
      "<class 'int'>\n",
      "<class 'int'>\n",
      "<class 'int'>\n",
      "<class 'int'>\n",
      "<class 'str'>\n",
      "<class 'str'>\n",
      "<class 'str'>\n",
      "<class 'float'>\n",
      "this line will be executed or it will come to else only when the loop will be successfully impelemnted\n"
     ]
    }
   ],
   "source": [
    "l=[1,2,3,3,'sneha','vasishth','aashi',4.45]\n",
    "for i in l:\n",
    "    print(type(i))\n",
    "else :\n",
    "    print(\"this line will be executed or it will come to else only when the loop will be successfully impelemnted\")"
   ]
  },
  {
   "cell_type": "code",
   "execution_count": 16,
   "id": "1a9dad1c-26f0-4f2f-b5db-b6ff4691c0ee",
   "metadata": {},
   "outputs": [
    {
     "name": "stdout",
     "output_type": "stream",
     "text": [
      "<class 'int'>\n",
      "1\n",
      "<class 'int'>\n",
      "2\n",
      "<class 'int'>\n",
      "3\n",
      "<class 'int'>\n",
      "3\n",
      "<class 'str'>\n",
      "sneha\n"
     ]
    }
   ],
   "source": [
    "l=[1,2,3,3,'sneha','vasishth','aashi',4.45]\n",
    "for i in l:\n",
    "    print(type(i),i,sep=\"\\n\")\n",
    "    \n",
    "    if(i=='sneha'):\n",
    "        break\n",
    "else:\n",
    "    print(\"it will not come to else if the when we come out of the loop due to break statement\")"
   ]
  },
  {
   "cell_type": "code",
   "execution_count": 18,
   "id": "26b76e69-2ba4-4eb5-8f77-061fa02c3583",
   "metadata": {},
   "outputs": [
    {
     "data": {
      "text/plain": [
       "[0, 1, 2, 3, 4, 5, 6, 7, 8, 9]"
      ]
     },
     "execution_count": 18,
     "metadata": {},
     "output_type": "execute_result"
    }
   ],
   "source": [
    "list(range(10))  # 0 to 10 excluding 10"
   ]
  },
  {
   "cell_type": "code",
   "execution_count": null,
   "id": "a40c92f0-85eb-45b9-8776-252e9cdbb584",
   "metadata": {},
   "outputs": [],
   "source": []
  }
 ],
 "metadata": {
  "kernelspec": {
   "display_name": "Python 3 (ipykernel)",
   "language": "python",
   "name": "python3"
  },
  "language_info": {
   "codemirror_mode": {
    "name": "ipython",
    "version": 3
   },
   "file_extension": ".py",
   "mimetype": "text/x-python",
   "name": "python",
   "nbconvert_exporter": "python",
   "pygments_lexer": "ipython3",
   "version": "3.10.8"
  }
 },
 "nbformat": 4,
 "nbformat_minor": 5
}
