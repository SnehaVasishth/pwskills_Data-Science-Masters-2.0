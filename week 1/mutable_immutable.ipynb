{
 "cells": [
  {
   "cell_type": "code",
   "execution_count": 1,
   "id": "49f56be0-1ae4-4a59-a81a-5b08010d57e1",
   "metadata": {},
   "outputs": [
    {
     "data": {
      "text/plain": [
       "str"
      ]
     },
     "execution_count": 1,
     "metadata": {},
     "output_type": "execute_result"
    }
   ],
   "source": [
    "s1=\"sneha\"\n",
    "type(s1)"
   ]
  },
  {
   "cell_type": "code",
   "execution_count": 2,
   "id": "7bbdac35-2505-4e82-8eca-412ea8404528",
   "metadata": {},
   "outputs": [
    {
     "name": "stdout",
     "output_type": "stream",
     "text": [
      "[1, 2, 3, 'sneha', True, ['aashi', 1, 2]]\n"
     ]
    }
   ],
   "source": [
    "l1=[1,2,3,\"sneha\",True,[\"aashi\",1,2]]\n",
    "print(l1)"
   ]
  },
  {
   "cell_type": "code",
   "execution_count": 3,
   "id": "bbe9b31b-2b19-4610-a0ab-0d4d2b3d68ee",
   "metadata": {},
   "outputs": [
    {
     "data": {
      "text/plain": [
       "'s'"
      ]
     },
     "execution_count": 3,
     "metadata": {},
     "output_type": "execute_result"
    }
   ],
   "source": [
    "s1[0]"
   ]
  },
  {
   "cell_type": "code",
   "execution_count": 4,
   "id": "f849307e-b0fe-4f9f-a3b3-f1f89f7e6a0d",
   "metadata": {},
   "outputs": [
    {
     "data": {
      "text/plain": [
       "'a'"
      ]
     },
     "execution_count": 4,
     "metadata": {},
     "output_type": "execute_result"
    }
   ],
   "source": [
    "s1[-1]"
   ]
  },
  {
   "cell_type": "code",
   "execution_count": 5,
   "id": "31f5e317-731c-4472-b07e-276641f00bfb",
   "metadata": {},
   "outputs": [
    {
     "data": {
      "text/plain": [
       "'s'"
      ]
     },
     "execution_count": 5,
     "metadata": {},
     "output_type": "execute_result"
    }
   ],
   "source": [
    "s1[-5]"
   ]
  },
  {
   "cell_type": "code",
   "execution_count": 6,
   "id": "6350d9cd-5652-4661-bc42-e2588be8ba6d",
   "metadata": {},
   "outputs": [
    {
     "data": {
      "text/plain": [
       "'s'"
      ]
     },
     "execution_count": 6,
     "metadata": {},
     "output_type": "execute_result"
    }
   ],
   "source": [
    "l1[3][0]"
   ]
  },
  {
   "cell_type": "code",
   "execution_count": 7,
   "id": "01241743-7322-4c35-b959-1d41b9d5e4bf",
   "metadata": {},
   "outputs": [
    {
     "data": {
      "text/plain": [
       "'s'"
      ]
     },
     "execution_count": 7,
     "metadata": {},
     "output_type": "execute_result"
    }
   ],
   "source": [
    "l1[3][-5]"
   ]
  },
  {
   "cell_type": "code",
   "execution_count": 9,
   "id": "9083842d-a130-4087-9f53-cba76ab8ab9e",
   "metadata": {},
   "outputs": [],
   "source": [
    "l1[3]=\"aashi\""
   ]
  },
  {
   "cell_type": "code",
   "execution_count": 10,
   "id": "5f238b09-c91d-4e0c-ab98-9eec15e9b6cb",
   "metadata": {},
   "outputs": [
    {
     "data": {
      "text/plain": [
       "[1, 2, 3, 'aashi', True, ['aashi', 1, 2]]"
      ]
     },
     "execution_count": 10,
     "metadata": {},
     "output_type": "execute_result"
    }
   ],
   "source": [
    "l1"
   ]
  },
  {
   "cell_type": "markdown",
   "id": "ea221a32-882f-4b03-b45c-39d66cb80160",
   "metadata": {},
   "source": [
    "s1[1]=\"a\"  # string is imutable, can not change once defined"
   ]
  },
  {
   "cell_type": "markdown",
   "id": "a51f51bf-37d3-488f-887b-1015c42b1056",
   "metadata": {},
   "source": [
    "s1=\"saeha\"  # its not immutability, changing data at index is mutability. not able to change in at index once defined then its immutability"
   ]
  }
 ],
 "metadata": {
  "kernelspec": {
   "display_name": "Python 3 (ipykernel)",
   "language": "python",
   "name": "python3"
  },
  "language_info": {
   "codemirror_mode": {
    "name": "ipython",
    "version": 3
   },
   "file_extension": ".py",
   "mimetype": "text/x-python",
   "name": "python",
   "nbconvert_exporter": "python",
   "pygments_lexer": "ipython3",
   "version": "3.10.8"
  }
 },
 "nbformat": 4,
 "nbformat_minor": 5
}
