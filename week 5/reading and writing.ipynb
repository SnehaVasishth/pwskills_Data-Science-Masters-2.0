{
 "cells": [
  {
   "cell_type": "code",
   "execution_count": 3,
   "id": "0abbc1f7-53ef-4da6-9ae8-7a9eec305340",
   "metadata": {},
   "outputs": [],
   "source": [
    "data={\n",
    "'name':\"sneha\",\n",
    "\"mail\": \"sneha@gmail.com\",\n",
    "\"phone\": 9315269634,\n",
    "\"subject\":[\"data structure and algorithm\" ,\"Data Science\",\"Leetcode\",\"Codeforces\",\"Contest\" ]\n",
    "    \n",
    "}  ## json is a formate contatins key value pai like a dictionary"
   ]
  },
  {
   "cell_type": "code",
   "execution_count": 4,
   "id": "e5ba264a-030a-4eed-a6cb-008b47d0f511",
   "metadata": {},
   "outputs": [],
   "source": [
    "import json"
   ]
  },
  {
   "cell_type": "code",
   "execution_count": 5,
   "id": "5c500135-cb95-4b0a-9303-47dd89259085",
   "metadata": {},
   "outputs": [],
   "source": [
    "with open(\"data.json\",\"w\")as f:\n",
    "    json.dump(data,f)  ## here we are writing the ductionary which is mentioned above in json file, here dump is uded to write the data inside json file\n",
    "    "
   ]
  },
  {
   "cell_type": "code",
   "execution_count": 10,
   "id": "a5b1c89f-9dac-4b1f-bfca-ce98b5df530b",
   "metadata": {},
   "outputs": [],
   "source": [
    "with open(\"data.json\",'r')as f:\n",
    "    data1=json.load(f)   ## load is used for reading json, it lods entire json inside a variable"
   ]
  },
  {
   "cell_type": "code",
   "execution_count": 11,
   "id": "425d3e35-6069-4e12-832d-a97bd379da1b",
   "metadata": {},
   "outputs": [
    {
     "data": {
      "text/plain": [
       "{'name': 'sneha',\n",
       " 'mail': 'sneha@gmail.com',\n",
       " 'phone': 9315269634,\n",
       " 'subject': ['data structure and algorithm',\n",
       "  'Data Science',\n",
       "  'Leetcode',\n",
       "  'Codeforces',\n",
       "  'Contest']}"
      ]
     },
     "execution_count": 11,
     "metadata": {},
     "output_type": "execute_result"
    }
   ],
   "source": [
    "data1"
   ]
  },
  {
   "cell_type": "code",
   "execution_count": 12,
   "id": "709e924c-b3c7-40fe-afbc-e01792d27920",
   "metadata": {},
   "outputs": [
    {
     "data": {
      "text/plain": [
       "'data structure and algorithm'"
      ]
     },
     "execution_count": 12,
     "metadata": {},
     "output_type": "execute_result"
    }
   ],
   "source": [
    "data1['subject'][0]"
   ]
  },
  {
   "cell_type": "code",
   "execution_count": 13,
   "id": "1314a915-e4e0-40d9-9327-0a1866919941",
   "metadata": {},
   "outputs": [],
   "source": [
    "import csv"
   ]
  },
  {
   "cell_type": "code",
   "execution_count": 14,
   "id": "db49e313-8b8a-4a6e-8864-83594cf7016e",
   "metadata": {},
   "outputs": [],
   "source": [
    "data=[[\"name\",\"email_id\", \"phone\"],\n",
    "      [\"sneha\",\"sneha@gmail.com\",9315269634],\n",
    "      [\"aashi\",\"aashi@gmail.com\",1234345677]]"
   ]
  },
  {
   "cell_type": "code",
   "execution_count": 23,
   "id": "bb631f75-af0e-41a9-b02f-25dee0e15e79",
   "metadata": {},
   "outputs": [],
   "source": [
    "with open(\"data3.csv\",\"w\")as f:\n",
    "    sneha=csv.writer(f)\n",
    "    for i in data:\n",
    "        sneha.writerow(i)"
   ]
  },
  {
   "cell_type": "code",
   "execution_count": null,
   "id": "929b7fed-ad27-4d59-ab1c-6a0b780c58da",
   "metadata": {},
   "outputs": [],
   "source": []
  },
  {
   "cell_type": "code",
   "execution_count": 24,
   "id": "584c6c1b-dd0d-4251-b6b0-0406397b2cae",
   "metadata": {},
   "outputs": [
    {
     "name": "stdout",
     "output_type": "stream",
     "text": [
      "['name', 'email_id', 'phone']\n",
      "['sneha', 'sneha@gmail.com', '9315269634']\n",
      "['aashi', 'aashi@gmail.com', '1234345677']\n"
     ]
    }
   ],
   "source": [
    "with open(\"data3.csv\",\"r\")as f:\n",
    "    sneha= csv.reader(f)\n",
    "    \n",
    "    for i in sneha:\n",
    "        print(i)\n"
   ]
  },
  {
   "cell_type": "code",
   "execution_count": 25,
   "id": "2b081e65-5a19-4652-916f-b9fc63c0d329",
   "metadata": {},
   "outputs": [],
   "source": [
    "##image, videos are stored as binary file"
   ]
  },
  {
   "cell_type": "code",
   "execution_count": 27,
   "id": "5dc3bf91-5410-4817-b9ef-b384d7d2039d",
   "metadata": {},
   "outputs": [],
   "source": [
    "with open(\"test.bin\",\"wb\")as f:\n",
    "    f.write(b\"\\x01\\x0656\\x03\\x0234445\")"
   ]
  },
  {
   "cell_type": "code",
   "execution_count": 28,
   "id": "aa1e40f2-1c25-4549-9572-2b7d38f7e3ee",
   "metadata": {},
   "outputs": [
    {
     "name": "stdout",
     "output_type": "stream",
     "text": [
      "b'\\x01\\x0656\\x03\\x0234445'\n"
     ]
    }
   ],
   "source": [
    "with open(\"test.bin\",'rb')as f:\n",
    "    print(f.read())"
   ]
  },
  {
   "cell_type": "code",
   "execution_count": null,
   "id": "53fbacae-8001-4a7a-821a-2faaff760139",
   "metadata": {},
   "outputs": [],
   "source": []
  }
 ],
 "metadata": {
  "kernelspec": {
   "display_name": "Python 3 (ipykernel)",
   "language": "python",
   "name": "python3"
  },
  "language_info": {
   "codemirror_mode": {
    "name": "ipython",
    "version": 3
   },
   "file_extension": ".py",
   "mimetype": "text/x-python",
   "name": "python",
   "nbconvert_exporter": "python",
   "pygments_lexer": "ipython3",
   "version": "3.10.8"
  }
 },
 "nbformat": 4,
 "nbformat_minor": 5
}
