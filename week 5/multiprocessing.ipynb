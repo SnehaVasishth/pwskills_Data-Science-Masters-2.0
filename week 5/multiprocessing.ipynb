{
 "cells": [
  {
   "cell_type": "code",
   "execution_count": 1,
   "id": "6d8b7905-db4c-4d17-8302-446abf63b222",
   "metadata": {},
   "outputs": [
    {
     "name": "stdout",
     "output_type": "stream",
     "text": [
      "this is my main program\n",
      "this is my multiprocessing program\n"
     ]
    }
   ],
   "source": [
    "import multiprocessing\n",
    "def test():\n",
    "    print(\"this is my multiprocessing program\")\n",
    "    \n",
    "if __name__ == '__main__':\n",
    "    m=multiprocessing.Process(target=test)\n",
    "    print(\"this is my main program\")\n",
    "    m.start()\n",
    "    m.join()\n",
    "    "
   ]
  },
  {
   "cell_type": "code",
   "execution_count": 2,
   "id": "99c171b0-79bd-4a62-b19e-e71e97aa70ee",
   "metadata": {},
   "outputs": [
    {
     "name": "stdout",
     "output_type": "stream",
     "text": [
      "this is my multiprocessing program\n"
     ]
    }
   ],
   "source": [
    "test()"
   ]
  },
  {
   "cell_type": "code",
   "execution_count": 3,
   "id": "eee19184-e1d0-407c-8772-c671f3a1a13b",
   "metadata": {},
   "outputs": [
    {
     "name": "stdout",
     "output_type": "stream",
     "text": [
      "[1, 4, 9, 16, 25, 36, 49, 64, 81]\n"
     ]
    }
   ],
   "source": [
    "def square(n):\n",
    "    return n**2\n",
    "\n",
    "if __name__=='__main__':\n",
    "    \n",
    "    with multiprocessing.Pool(processes=4) as pool:\n",
    "        out=pool.map(square,[1,2,3,4,5,6,7,8,9])\n",
    "        print(out)"
   ]
  },
  {
   "cell_type": "code",
   "execution_count": 4,
   "id": "bc3e34b2-2737-42ac-9fc8-bb5bf1edee0a",
   "metadata": {},
   "outputs": [],
   "source": [
    "# def producer(q):\n",
    "#     for i in range(10):\n",
    "#         q.put(i)\n",
    "        \n",
    "        \n",
    "# def consume(q):\n",
    "#     while True:\n",
    "#         item= q.get()\n",
    "#         if item is None:\n",
    "#             break\n",
    "#         print(item)\n",
    "        \n",
    "        \n",
    "# if __name__=='__main__':\n",
    "#     queue=multiprocessing.Queue()\n",
    "#     m1= multiprocessing.Process(target=producer,args=(queue,))\n",
    "#     m2=multiprocessing.Process(target=consume,args=(queue,))\n",
    "#     m1.start()\n",
    "#     m2.start()\n",
    "#     queue.put(\"sneha\")\n",
    "#     m1.join()\n",
    "#     m2.join()"
   ]
  },
  {
   "cell_type": "code",
   "execution_count": 5,
   "id": "134f1e12-f7e1-4bd3-abdf-7b1f607c0c9e",
   "metadata": {},
   "outputs": [
    {
     "name": "stdout",
     "output_type": "stream",
     "text": [
      "[4, 9, 16, 25, 3136, 36]\n"
     ]
    }
   ],
   "source": [
    "import multiprocessing\n",
    "def square (index,value):\n",
    "    value[index]=value[index]**2\n",
    "    \n",
    "if __name__=='__main__':\n",
    "    arr=multiprocessing.Array('i',[2,3,4,5,56,6])\n",
    "    process=[]\n",
    "    for i in range(6):\n",
    "        m=multiprocessing.Process(target=square, args=(i,arr))\n",
    "        process.append(m)\n",
    "        m.start()\n",
    "    for m in process:\n",
    "        m.join()\n",
    "    print(list(arr))\n",
    "        "
   ]
  },
  {
   "cell_type": "code",
   "execution_count": 6,
   "id": "507e5098-9852-4487-9888-32251ac64bb5",
   "metadata": {},
   "outputs": [],
   "source": [
    "## here above Array is a common space which is shared among alll tge processor. Oe processor will pick number by numbeer from array and square it and another processor will put the squred value into another list"
   ]
  },
  {
   "cell_type": "code",
   "execution_count": 7,
   "id": "e74e6952-d6b7-4f6e-806d-3567a44e58eb",
   "metadata": {},
   "outputs": [],
   "source": [
    "## multiprocessing has\n",
    "# 1. Process\n",
    "# 2. Pool\n",
    "# 3. Array\n",
    "# 4. Queue\n",
    "# 5. Pipe"
   ]
  },
  {
   "cell_type": "code",
   "execution_count": null,
   "id": "ce8aefc1-6892-421f-bbf7-5e2d3c27eb08",
   "metadata": {},
   "outputs": [
    {
     "name": "stdout",
     "output_type": "stream",
     "text": [
      "hello everyone\n",
      "sneha vaisihth\n",
      "google Sde\n",
      "AAshi\n"
     ]
    }
   ],
   "source": [
    "import multiprocessing\n",
    "\n",
    "def sender(conn,msg):\n",
    "    for i in msg:\n",
    "        conn.send(i)\n",
    "    conn.close()\n",
    "\n",
    "    \n",
    "def receive(conn):\n",
    "    while True:\n",
    "        try:\n",
    "            msg=conn.recv()\n",
    "        except Exception as e:\n",
    "            print(e)\n",
    "            break\n",
    "        print(msg)\n",
    "        \n",
    "if __name__=='__main__':\n",
    "    msg=[\"sneha vaisihth\",\"google Sde\",\"AAshi\"]\n",
    "    parent_conn,child_conn=multiprocessing.Pipe()\n",
    "    m1= multiprocessing.Process(target=sender, args=(child_conn,msg))\n",
    "    print(\"hello everyone\")\n",
    "    m2= multiprocessing.Process(target=receive, args=(parent_conn,))\n",
    "    m1.start()\n",
    "    m2.start()\n",
    "    m1.join()\n",
    "    child_conn.close()\n",
    "    m2.join()\n",
    "    parent_conn.close()"
   ]
  },
  {
   "cell_type": "code",
   "execution_count": null,
   "id": "2c860124-20d2-44f9-9cdc-1525d5b61ba1",
   "metadata": {},
   "outputs": [],
   "source": []
  },
  {
   "cell_type": "code",
   "execution_count": null,
   "id": "96cafe5e-9521-4296-92b1-8bc1202c3e9b",
   "metadata": {},
   "outputs": [],
   "source": []
  },
  {
   "cell_type": "code",
   "execution_count": null,
   "id": "77e4c27f-37e6-47a2-aa2c-725da03c4ed2",
   "metadata": {},
   "outputs": [],
   "source": [
    "# "
   ]
  }
 ],
 "metadata": {
  "kernelspec": {
   "display_name": "Python 3 (ipykernel)",
   "language": "python",
   "name": "python3"
  },
  "language_info": {
   "codemirror_mode": {
    "name": "ipython",
    "version": 3
   },
   "file_extension": ".py",
   "mimetype": "text/x-python",
   "name": "python",
   "nbconvert_exporter": "python",
   "pygments_lexer": "ipython3",
   "version": "3.10.8"
  }
 },
 "nbformat": 4,
 "nbformat_minor": 5
}
