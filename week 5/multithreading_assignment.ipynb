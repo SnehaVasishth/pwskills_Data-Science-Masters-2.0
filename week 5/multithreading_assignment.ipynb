{
 "cells": [
  {
   "cell_type": "markdown",
   "id": "17d6bc40-0a76-4f67-b955-c59e344d85e6",
   "metadata": {},
   "source": [
    "#ques 1\n",
    "\n",
    "\n",
    "Every core is alloted with different programs. If we want to run multiple programs in the same core then we say mutlithreading\n",
    "Multithreading enables the execution of several processes in parallel due to which respnose time reduces.\n",
    "Multithreading enables sharing of data and memory among parallel processes.\n",
    "\n",
    "There are two libraries in python\n",
    "1. thread\n",
    "2. threading\n",
    "\n",
    "threading is mostly use"
   ]
  },
  {
   "cell_type": "code",
   "execution_count": null,
   "id": "838a7d35-6456-4d61-bb46-d24f2940c455",
   "metadata": {},
   "outputs": [],
   "source": []
  },
  {
   "cell_type": "markdown",
   "id": "408af419-f104-4690-b0bf-f98302aa2216",
   "metadata": {},
   "source": [
    "##ques 2\n",
    "\n",
    "Threading is the library of pyhton which helps to achieve multithreading\n"
   ]
  },
  {
   "cell_type": "markdown",
   "id": "b223bdb2-cafd-4afd-bf46-16a35724dbe5",
   "metadata": {},
   "source": [
    "##ques 2\n",
    "\n",
    "1. activeCount()-  threading.activeCount() returns the number of threads which are currenlty active.\n",
    "\n",
    "2. currentThread()-  threading.currentThread() returns the thread object which is currently in use.\n",
    "\n",
    "3. enumerate()-  threading.enumerate returns the list which consistes of all thread objects that are currently active."
   ]
  },
  {
   "cell_type": "code",
   "execution_count": null,
   "id": "f35e1cbc-f0a0-4370-9e35-0f9a07348a46",
   "metadata": {},
   "outputs": [],
   "source": []
  },
  {
   "cell_type": "markdown",
   "id": "5b27965f-5f90-42a3-86eb-d3a7e7271afe",
   "metadata": {},
   "source": [
    "##ques 3\n",
    "\n",
    "1.run()-  run() method is used to execute the function which is a target \n",
    "\n",
    "2.  start()- start() methos is used to start executing the thread\n",
    "\n",
    "3. join()-  when we run multiple thread it is not possible that all threads finish execution at same time. Thus join() is used to ensure that main thread waits till all the thread finish their execution.\n",
    "\n",
    "4. isAlive()-  this is use to check wheather the provided thread is active or not\n",
    "\n"
   ]
  },
  {
   "cell_type": "code",
   "execution_count": null,
   "id": "8dac3781-506a-49f7-9e68-f4fc2859dbba",
   "metadata": {},
   "outputs": [],
   "source": []
  },
  {
   "cell_type": "code",
   "execution_count": 8,
   "id": "bb171a56-be4f-4530-9003-9ce2c49ab270",
   "metadata": {},
   "outputs": [
    {
     "name": "stdout",
     "output_type": "stream",
     "text": [
      "[<Thread(Thread-33 (square), initial)>, <Thread(Thread-34 (square), initial)>, <Thread(Thread-35 (square), initial)>, <Thread(Thread-36 (square), initial)>]\n",
      "1\n",
      "4\n",
      "9\n",
      "16\n"
     ]
    }
   ],
   "source": [
    "## ques 4\n",
    "\n",
    "import threading\n",
    "def square(l):\n",
    "    print(l**2)\n",
    "   \n",
    "    \n",
    "\n",
    "l=[1,2,3,4]\n",
    "th1= [threading.Thread(target=square,args=(l[i],))for i in range(len(l))]\n",
    "print(th1)\n",
    "for t in th1:\n",
    "    t.start()"
   ]
  },
  {
   "cell_type": "code",
   "execution_count": 9,
   "id": "163d6e92-f776-4c60-a627-7d5d075068c4",
   "metadata": {},
   "outputs": [
    {
     "name": "stdout",
     "output_type": "stream",
     "text": [
      "[<Thread(Thread-37 (cube), initial)>, <Thread(Thread-38 (cube), initial)>, <Thread(Thread-39 (cube), initial)>, <Thread(Thread-40 (cube), initial)>]\n",
      "1\n",
      "8\n",
      "27\n",
      "64\n"
     ]
    }
   ],
   "source": [
    "def cube(l):\n",
    "    print(l**3)\n",
    "    \n",
    "th2=[threading.Thread(target=cube,args=(l[i],))for i in range(len(l))]\n",
    "print(th2)\n",
    "\n",
    "for t in th2:\n",
    "    t.start()\n",
    "    "
   ]
  },
  {
   "cell_type": "code",
   "execution_count": null,
   "id": "1c50cbf7-5b03-4e8b-af57-33ffeae77e63",
   "metadata": {},
   "outputs": [],
   "source": []
  },
  {
   "cell_type": "markdown",
   "id": "39736690-573e-47f8-8c18-7b72acdcb77a",
   "metadata": {},
   "source": [
    "##ques 5\n",
    "\n",
    "advantages:\n",
    "    \n",
    "1. Due to parallel execution of multiple processes in multi thread it leads to decrease in  response time\n",
    "\n",
    "2. Multi threading allow sharing of resources and memory space with parallely running processes\n",
    "\n",
    "3. It enable a bigger part of process to divide into smaller part each part is then handled by different threads\n",
    "\n",
    "4. It enables faster execution\n",
    "\n",
    "disadvantages of Multithreading:\n",
    "\n",
    "1. Pyhton has global interpreter lock which allows only one thread to execute at a time. It may happen that multithreading may  not provide much boost\n",
    "\n",
    "2. Debugging multithreading code is difficult to debug. Its difficult to identify which piece of code handled by a thread is showing problem related to deadlock or race condition\n",
    "\n",
    "3. Multithreading leads to huge memory consumption since each thread maintain its own stack\n",
    "\n",
    "4. Multithreading though leads toparallelism but it all increases context switching"
   ]
  },
  {
   "cell_type": "code",
   "execution_count": null,
   "id": "065883ce-2f19-4ea1-a290-19a6b3609c98",
   "metadata": {},
   "outputs": [],
   "source": []
  },
  {
   "cell_type": "markdown",
   "id": "2932bd37-fb55-41e3-82f7-66eb9ab9263b",
   "metadata": {},
   "source": [
    "## ques 6\n",
    "Deadlock:\n",
    "\n",
    "This situation may appear when one thread is waiting for other thread to release its resources. Since both are waiting for when the one would release its resource, due to which none of the thread unable to compelete its execution remain in waiting. This situation of deadlock occur due to competetion over shared resources without proper synchronisation\n",
    "\n",
    "\n",
    "Race Condition:\n",
    "\n",
    "It is a condition where the behaviour of program deoends on relative timing of execution of two or more threads. Wghen teo or more thread share resources  simultaneosly the final outcome may depend in the order of execution which can lead to error in final output\n"
   ]
  },
  {
   "cell_type": "code",
   "execution_count": null,
   "id": "d20ad2a8-c3af-41d2-a0e8-77095165ed06",
   "metadata": {},
   "outputs": [],
   "source": []
  }
 ],
 "metadata": {
  "kernelspec": {
   "display_name": "Python 3 (ipykernel)",
   "language": "python",
   "name": "python3"
  },
  "language_info": {
   "codemirror_mode": {
    "name": "ipython",
    "version": 3
   },
   "file_extension": ".py",
   "mimetype": "text/x-python",
   "name": "python",
   "nbconvert_exporter": "python",
   "pygments_lexer": "ipython3",
   "version": "3.10.8"
  }
 },
 "nbformat": 4,
 "nbformat_minor": 5
}
