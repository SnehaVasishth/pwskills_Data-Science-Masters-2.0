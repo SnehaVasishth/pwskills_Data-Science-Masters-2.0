{
 "cells": [
  {
   "cell_type": "code",
   "execution_count": 1,
   "id": "617b233e-3556-459d-ba41-3c139ecf143f",
   "metadata": {},
   "outputs": [],
   "source": [
    "## here in buffer the data is read and write in chunks"
   ]
  },
  {
   "cell_type": "code",
   "execution_count": 2,
   "id": "d4965615-93b5-48d6-9596-964e3bce3de6",
   "metadata": {},
   "outputs": [],
   "source": [
    "import io"
   ]
  },
  {
   "cell_type": "code",
   "execution_count": 4,
   "id": "428c3795-d244-40a7-87fd-a7041fde230e",
   "metadata": {},
   "outputs": [],
   "source": [
    "with open(\"sneha.txt\",'wb')as f:\n",
    "    file=io.BufferedWriter(f)\n",
    "    file.write(b\"this is my first line\\n\")\n",
    "    file.write(b\"this is ,y second line\\n\")\n",
    "    file.flush()"
   ]
  },
  {
   "cell_type": "code",
   "execution_count": 8,
   "id": "10182215-9348-404d-a156-baca15bd03ef",
   "metadata": {},
   "outputs": [
    {
     "name": "stdout",
     "output_type": "stream",
     "text": [
      "b'this is my first line\\nthis is ,y second line\\n'\n"
     ]
    }
   ],
   "source": [
    "with open(\"sneha.txt\",'rb')as f:\n",
    "    file=io.BufferedReader(f)\n",
    "    print(file.read())"
   ]
  },
  {
   "cell_type": "code",
   "execution_count": 9,
   "id": "5213dcc8-813e-496f-b65d-e5a7fc88bc02",
   "metadata": {},
   "outputs": [
    {
     "name": "stdout",
     "output_type": "stream",
     "text": [
      "b'this is my fi'\n"
     ]
    }
   ],
   "source": [
    "with open(\"sneha.txt\",'rb')as f:\n",
    "    file=io.BufferedReader(f)\n",
    "    print(file.read(13))"
   ]
  },
  {
   "cell_type": "code",
   "execution_count": null,
   "id": "af18a102-45a2-472c-84b1-947ce1188b6c",
   "metadata": {},
   "outputs": [],
   "source": []
  }
 ],
 "metadata": {
  "kernelspec": {
   "display_name": "Python 3 (ipykernel)",
   "language": "python",
   "name": "python3"
  },
  "language_info": {
   "codemirror_mode": {
    "name": "ipython",
    "version": 3
   },
   "file_extension": ".py",
   "mimetype": "text/x-python",
   "name": "python",
   "nbconvert_exporter": "python",
   "pygments_lexer": "ipython3",
   "version": "3.10.8"
  }
 },
 "nbformat": 4,
 "nbformat_minor": 5
}
