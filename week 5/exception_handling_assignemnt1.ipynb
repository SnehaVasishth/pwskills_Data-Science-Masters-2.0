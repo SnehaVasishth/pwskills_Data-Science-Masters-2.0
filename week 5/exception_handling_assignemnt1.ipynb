{
 "cells": [
  {
   "cell_type": "markdown",
   "id": "8a51551a-7f18-4ef9-b26f-48a8adafa347",
   "metadata": {},
   "source": [
    "## ques 1\n",
    "\n",
    "when we are not sure that a piece of code may work or can raise error we put that piece of code inside try and except. By this if an error may encountered it will handled by exception block . It will ensure that later part of code which error free may still excuted if put inside finally block\n",
    "\n",
    "\n",
    "Exceptions means when we are not sure wheather a piece of code may or may not generate error, thus we put inside exception so that if error may encounter valid steps can be taken and ensure rest of the code to work normally . While syntax error is the grammatical mistakes we do while wriiting python code. Python is a language which has certain rules. If we don't follows those rules of language syntax error arises."
   ]
  },
  {
   "cell_type": "code",
   "execution_count": null,
   "id": "074e67de-2f78-4a15-a240-bd45260802e9",
   "metadata": {},
   "outputs": [],
   "source": []
  },
  {
   "cell_type": "code",
   "execution_count": 1,
   "id": "9b031c63-2491-40b0-9148-c4ea0458489a",
   "metadata": {},
   "outputs": [
    {
     "ename": "ZeroDivisionError",
     "evalue": "division by zero",
     "output_type": "error",
     "traceback": [
      "\u001b[0;31m---------------------------------------------------------------------------\u001b[0m",
      "\u001b[0;31mZeroDivisionError\u001b[0m                         Traceback (most recent call last)",
      "Cell \u001b[0;32mIn[1], line 2\u001b[0m\n\u001b[1;32m      1\u001b[0m a\u001b[38;5;241m=\u001b[39m\u001b[38;5;241m10\u001b[39m\n\u001b[0;32m----> 2\u001b[0m \u001b[38;5;28mprint\u001b[39m(\u001b[43ma\u001b[49m\u001b[38;5;241;43m/\u001b[39;49m\u001b[38;5;241;43m0\u001b[39;49m)\n\u001b[1;32m      3\u001b[0m \u001b[38;5;28mprint\u001b[39m(\u001b[38;5;124m\"\u001b[39m\u001b[38;5;124msneha vasisihth\u001b[39m\u001b[38;5;124m\"\u001b[39m)\n",
      "\u001b[0;31mZeroDivisionError\u001b[0m: division by zero"
     ]
    }
   ],
   "source": [
    "##ques 2\n",
    "a=10\n",
    "print(a/0)\n",
    "print(\"sneha vasishth\")"
   ]
  },
  {
   "cell_type": "markdown",
   "id": "95f3ea83-433c-43a2-8e18-7e30aa4170a3",
   "metadata": {},
   "source": [
    "above we can observe that there is an error of zerodivison due to which the later lines of code like print(\"sneha vasishth\") also didn't executed. We can handle above situtaion like below"
   ]
  },
  {
   "cell_type": "code",
   "execution_count": 4,
   "id": "17298322-3cd5-47a3-98af-78c177a7c966",
   "metadata": {},
   "outputs": [
    {
     "name": "stdout",
     "output_type": "stream",
     "text": [
      "division by zero\n",
      "sneha Vasishth\n"
     ]
    }
   ],
   "source": [
    "try:\n",
    "    a=10\n",
    "    print(a/0)\n",
    "except ZeroDivisionError as e:\n",
    "    print(e)\n",
    "    \n",
    "finally:\n",
    "    print(\"sneha Vasishth\")"
   ]
  },
  {
   "cell_type": "code",
   "execution_count": null,
   "id": "dcd05e4c-6a89-418e-8410-a7267756e00f",
   "metadata": {},
   "outputs": [],
   "source": []
  },
  {
   "cell_type": "markdown",
   "id": "857669ab-26aa-4cc2-a494-124affafa185",
   "metadata": {},
   "source": [
    "##ques 3\n",
    "\n",
    "try is used to catch the error and except block handles those errors.\n",
    "\n"
   ]
  },
  {
   "cell_type": "code",
   "execution_count": 6,
   "id": "8fb38b83-c61a-4911-af27-742c1af1e450",
   "metadata": {},
   "outputs": [
    {
     "name": "stdout",
     "output_type": "stream",
     "text": [
      "division by zero\n"
     ]
    }
   ],
   "source": [
    "##ques 3\n",
    "#3 example:\n",
    "\n",
    "try:\n",
    "    a=10\n",
    "    print(a/0)\n",
    "except ZeroDivisionError as e:\n",
    "    print(e)\n",
    "    \n"
   ]
  },
  {
   "cell_type": "code",
   "execution_count": null,
   "id": "8f079216-c463-4f3c-b277-7b4698fe507d",
   "metadata": {},
   "outputs": [],
   "source": []
  },
  {
   "cell_type": "code",
   "execution_count": 8,
   "id": "e5c0eb3b-eed2-4b95-890b-c53032b9341d",
   "metadata": {},
   "outputs": [
    {
     "name": "stdin",
     "output_type": "stream",
     "text": [
      " 4\n"
     ]
    },
    {
     "name": "stdout",
     "output_type": "stream",
     "text": [
      "16 4 4.0\n",
      "b is not equal to zero\n"
     ]
    }
   ],
   "source": [
    "##ques 4\n",
    "\n",
    "try:\n",
    "    a=16\n",
    "    b=int(input())\n",
    "    c=a/b\n",
    "except ZeroDivisionError as e:\n",
    "    print(e)\n",
    "    \n",
    "else:\n",
    "    print(a,b,c,sep=\" \")\n",
    "    print(\"b is not equal to zero\")"
   ]
  },
  {
   "cell_type": "code",
   "execution_count": 9,
   "id": "c2189b72-52ac-4414-b52c-8bade97e5ba5",
   "metadata": {},
   "outputs": [
    {
     "name": "stdin",
     "output_type": "stream",
     "text": [
      " 3\n"
     ]
    },
    {
     "name": "stdout",
     "output_type": "stream",
     "text": [
      "16 3 5.333333333333333\n",
      "b is not equal to zero\n",
      "even if there is an error the code written inside finally block always get exceuted\n"
     ]
    }
   ],
   "source": [
    "##ques 4  partb\n",
    "\n",
    "try:\n",
    "    a=16\n",
    "    b=int(input())\n",
    "    c=a/b\n",
    "except ZeroDivisionError as e:\n",
    "    print(e)\n",
    "    \n",
    "else:\n",
    "    print(a,b,c,sep=\" \")\n",
    "    print(\"b is not equal to zero\")\n",
    "    \n",
    "finally:\n",
    "    print(\"even if there is an error the code written inside finally block always get exceuted\")"
   ]
  },
  {
   "cell_type": "code",
   "execution_count": 13,
   "id": "fe220903-8bb6-4872-b35f-e90701fd8258",
   "metadata": {},
   "outputs": [
    {
     "name": "stdin",
     "output_type": "stream",
     "text": [
      "enter age -10\n"
     ]
    },
    {
     "ename": "Exception",
     "evalue": "age can not be negative",
     "output_type": "error",
     "traceback": [
      "\u001b[0;31m---------------------------------------------------------------------------\u001b[0m",
      "\u001b[0;31mException\u001b[0m                                 Traceback (most recent call last)",
      "Cell \u001b[0;32mIn[13], line 6\u001b[0m\n\u001b[1;32m      3\u001b[0m age\u001b[38;5;241m=\u001b[39m\u001b[38;5;28mint\u001b[39m(\u001b[38;5;28minput\u001b[39m(\u001b[38;5;124m\"\u001b[39m\u001b[38;5;124menter age\u001b[39m\u001b[38;5;124m\"\u001b[39m))\n\u001b[1;32m      5\u001b[0m \u001b[38;5;28;01mif\u001b[39;00m age\u001b[38;5;241m<\u001b[39m\u001b[38;5;241m0\u001b[39m:\n\u001b[0;32m----> 6\u001b[0m     \u001b[38;5;28;01mraise\u001b[39;00m \u001b[38;5;167;01mException\u001b[39;00m(\u001b[38;5;124m\"\u001b[39m\u001b[38;5;124mage can not be negative\u001b[39m\u001b[38;5;124m\"\u001b[39m)\n\u001b[1;32m      8\u001b[0m \u001b[38;5;28;01melse\u001b[39;00m:\n\u001b[1;32m      9\u001b[0m     \u001b[38;5;28mprint\u001b[39m(\u001b[38;5;124m\"\u001b[39m\u001b[38;5;124mValid age\u001b[39m\u001b[38;5;124m\"\u001b[39m)\n",
      "\u001b[0;31mException\u001b[0m: age can not be negative"
     ]
    }
   ],
   "source": [
    "##ques 4  partc\n",
    "\n",
    "age=int(input(\"enter age\"))\n",
    "\n",
    "if age<0:\n",
    "    raise Exception(\"age can not be negative\")\n",
    "\n",
    "else:\n",
    "    print(\"Valid age\")"
   ]
  },
  {
   "cell_type": "code",
   "execution_count": null,
   "id": "d4b6070f-c04c-4de1-ad22-4334ff6c0daa",
   "metadata": {},
   "outputs": [],
   "source": []
  },
  {
   "cell_type": "markdown",
   "id": "9f9173fc-a6c7-445f-85d5-989e27588d0e",
   "metadata": {},
   "source": [
    "##ques 5\n",
    "\n",
    "Exception is superset in python whcih contain all possible errors\n",
    "sometimes it may happen that we want to raise oue own exception and want to display adequate message for this error. In such situation we can make custom exception of our own"
   ]
  },
  {
   "cell_type": "markdown",
   "id": "ee90c1ed-998a-4b4c-88aa-dbf2d557853c",
   "metadata": {},
   "source": [
    "example:\n",
    " \n",
    " \n",
    " suppose we enter negative age, as we know it is not possible to have negative age we can make our own custom exception and can show adequate error message if some user try to enter negative ages\n",
    " \n"
   ]
  },
  {
   "cell_type": "code",
   "execution_count": 14,
   "id": "15691703-501b-4244-9efb-3cecf815f3cc",
   "metadata": {},
   "outputs": [
    {
     "name": "stdin",
     "output_type": "stream",
     "text": [
      "enter age -19\n"
     ]
    },
    {
     "ename": "Exception",
     "evalue": "age can not be negative",
     "output_type": "error",
     "traceback": [
      "\u001b[0;31m---------------------------------------------------------------------------\u001b[0m",
      "\u001b[0;31mException\u001b[0m                                 Traceback (most recent call last)",
      "Cell \u001b[0;32mIn[14], line 4\u001b[0m\n\u001b[1;32m      1\u001b[0m age\u001b[38;5;241m=\u001b[39m\u001b[38;5;28mint\u001b[39m(\u001b[38;5;28minput\u001b[39m(\u001b[38;5;124m\"\u001b[39m\u001b[38;5;124menter age\u001b[39m\u001b[38;5;124m\"\u001b[39m))\n\u001b[1;32m      3\u001b[0m \u001b[38;5;28;01mif\u001b[39;00m age\u001b[38;5;241m<\u001b[39m\u001b[38;5;241m0\u001b[39m:\n\u001b[0;32m----> 4\u001b[0m     \u001b[38;5;28;01mraise\u001b[39;00m \u001b[38;5;167;01mException\u001b[39;00m(\u001b[38;5;124m\"\u001b[39m\u001b[38;5;124mage can not be negative\u001b[39m\u001b[38;5;124m\"\u001b[39m)\n\u001b[1;32m      6\u001b[0m \u001b[38;5;28;01melse\u001b[39;00m:\n\u001b[1;32m      7\u001b[0m     \u001b[38;5;28mprint\u001b[39m(\u001b[38;5;124m\"\u001b[39m\u001b[38;5;124mValid age\u001b[39m\u001b[38;5;124m\"\u001b[39m)\n",
      "\u001b[0;31mException\u001b[0m: age can not be negative"
     ]
    }
   ],
   "source": [
    "age=int(input(\"enter age\"))\n",
    "\n",
    "if age<0:\n",
    "    raise Exception(\"age can not be negative\")\n",
    "\n",
    "else:\n",
    "    print(\"Valid age\")"
   ]
  },
  {
   "cell_type": "code",
   "execution_count": null,
   "id": "c58cbcf3-be5c-4821-8ff1-d94dd0db20d3",
   "metadata": {},
   "outputs": [],
   "source": []
  },
  {
   "cell_type": "code",
   "execution_count": null,
   "id": "fae3379f-828d-4079-8ca2-90f3c708e94d",
   "metadata": {},
   "outputs": [],
   "source": []
  },
  {
   "cell_type": "code",
   "execution_count": 1,
   "id": "b843c736-54c6-4fb6-b750-ade5ffffde7d",
   "metadata": {},
   "outputs": [
    {
     "name": "stdin",
     "output_type": "stream",
     "text": [
      "enter marks -100\n"
     ]
    },
    {
     "name": "stdout",
     "output_type": "stream",
     "text": [
      "Entered marks is negative\n"
     ]
    }
   ],
   "source": [
    "##ques 6\n",
    "\n",
    "##ques 6\n",
    "\n",
    "class marks(Exception):\n",
    "    def __int__(self,msg):\n",
    "        self.msg= msg\n",
    "        \n",
    "def valid_marks(mark):\n",
    "    if mark<0:\n",
    "        raise marks(\"Entered marks is negative\")\n",
    "    else:\n",
    "        print(mark)\n",
    "        \n",
    "        \n",
    "try:\n",
    "    mark=int(input(\"enter marks\"))\n",
    "    valid_marks(mark)\n",
    "except marks as e:\n",
    "    print(e)"
   ]
  },
  {
   "cell_type": "code",
   "execution_count": null,
   "id": "a223d74a-4d4c-4e68-9218-f52c40aa458a",
   "metadata": {},
   "outputs": [],
   "source": []
  }
 ],
 "metadata": {
  "kernelspec": {
   "display_name": "Python 3 (ipykernel)",
   "language": "python",
   "name": "python3"
  },
  "language_info": {
   "codemirror_mode": {
    "name": "ipython",
    "version": 3
   },
   "file_extension": ".py",
   "mimetype": "text/x-python",
   "name": "python",
   "nbconvert_exporter": "python",
   "pygments_lexer": "ipython3",
   "version": "3.10.8"
  }
 },
 "nbformat": 4,
 "nbformat_minor": 5
}
