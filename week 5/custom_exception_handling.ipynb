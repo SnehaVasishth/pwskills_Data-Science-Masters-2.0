{
 "cells": [
  {
   "cell_type": "code",
   "execution_count": 1,
   "id": "e047b943-ff87-49cb-9489-76666724d419",
   "metadata": {},
   "outputs": [],
   "source": [
    "## there several exception already preswent in python like when no file found, zero divison error\n",
    "## if we want to raise exception in situtaion where exception in python is nt define, we can make our own custom exception"
   ]
  },
  {
   "cell_type": "code",
   "execution_count": 2,
   "id": "acdf3cf6-1cb8-4549-b893-fa4cbe6299c8",
   "metadata": {},
   "outputs": [
    {
     "name": "stdin",
     "output_type": "stream",
     "text": [
      "enter your age -37\n"
     ]
    }
   ],
   "source": [
    "age= int(input(\"enter your age\"))"
   ]
  },
  {
   "cell_type": "code",
   "execution_count": 3,
   "id": "c6ffa35f-c1f6-47be-bda6-dbd7982b08f3",
   "metadata": {},
   "outputs": [],
   "source": [
    "class validateage(Exception):\n",
    "    def __init__(self,msg):\n",
    "        self.msg=msg"
   ]
  },
  {
   "cell_type": "code",
   "execution_count": 4,
   "id": "79974206-d373-4e06-adec-70ae88ca8e60",
   "metadata": {},
   "outputs": [],
   "source": [
    "def validage(age):\n",
    "    if age<0: \n",
    "        raise validateage(\"entered age is negative\")\n",
    "    elif age>110:\n",
    "        raise validategae(\"entered age is very large\")\n",
    "    \n",
    "    else:\n",
    "        print(\"age is valid\")"
   ]
  },
  {
   "cell_type": "code",
   "execution_count": 6,
   "id": "72b11ed6-25b1-4fef-9d3c-a26dcd9eb242",
   "metadata": {},
   "outputs": [
    {
     "name": "stdin",
     "output_type": "stream",
     "text": [
      "enter the age -98\n"
     ]
    },
    {
     "name": "stdout",
     "output_type": "stream",
     "text": [
      "entered age is negative\n"
     ]
    }
   ],
   "source": [
    "try: \n",
    "    age=int(input(\"enter the age\"))\n",
    "    validage(age)\n",
    "except validateage as e:\n",
    "    print(e)"
   ]
  },
  {
   "cell_type": "code",
   "execution_count": null,
   "id": "5fb64b9f-451c-4755-9f89-3d81f0cea292",
   "metadata": {},
   "outputs": [],
   "source": []
  }
 ],
 "metadata": {
  "kernelspec": {
   "display_name": "Python 3 (ipykernel)",
   "language": "python",
   "name": "python3"
  },
  "language_info": {
   "codemirror_mode": {
    "name": "ipython",
    "version": 3
   },
   "file_extension": ".py",
   "mimetype": "text/x-python",
   "name": "python",
   "nbconvert_exporter": "python",
   "pygments_lexer": "ipython3",
   "version": "3.10.8"
  }
 },
 "nbformat": 4,
 "nbformat_minor": 5
}
