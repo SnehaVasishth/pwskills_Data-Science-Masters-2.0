{
 "cells": [
  {
   "cell_type": "code",
   "execution_count": 1,
   "id": "969541dc-5c32-4cae-89a2-5e9296c1c9db",
   "metadata": {},
   "outputs": [],
   "source": [
    "import logging"
   ]
  },
  {
   "cell_type": "code",
   "execution_count": 2,
   "id": "3e4050f7-b8bd-43d2-9ab8-2cb8797e3470",
   "metadata": {},
   "outputs": [],
   "source": [
    "logging.basicConfig(filename=\"sneha3.log\", level= logging.DEBUG)"
   ]
  },
  {
   "cell_type": "code",
   "execution_count": 3,
   "id": "18d5932d-5663-4dbd-b86e-df600b599dce",
   "metadata": {},
   "outputs": [],
   "source": [
    "l=[1,2,34,55,6,[34,567,785],\"sneha\",\"Vasishth\"]"
   ]
  },
  {
   "cell_type": "code",
   "execution_count": 6,
   "id": "10ebe1ca-0dfd-4da6-8a74-8050b092f431",
   "metadata": {},
   "outputs": [],
   "source": [
    "l1_int=[]\n",
    "l2_str=[]\n",
    "for i in l:\n",
    "    logging.info(\"travering through list\")\n",
    "    if type(i)==list:\n",
    "        for j in i:\n",
    "            logging.info(\"checking wheather element inside list of list is int if yes then apppend it\")\n",
    "            if type(j)==int:\n",
    "                l1_int.append(j)\n",
    "    elif type(i)==int:\n",
    "        l1_int.append(i)\n",
    "        \n",
    "    else:\n",
    "        if type(i)==str:\n",
    "            l2_str.append(i)\n",
    "logging.info(\"my final resut if {l1} and for string is{l2}\".format(l1=l1_int,l2=l2_str))     "
   ]
  },
  {
   "cell_type": "code",
   "execution_count": null,
   "id": "d901227f-e6e5-4ae5-b72f-517de1385a73",
   "metadata": {},
   "outputs": [],
   "source": []
  },
  {
   "cell_type": "code",
   "execution_count": null,
   "id": "35df6e28-ac6d-4c7e-8ddf-a5ccaf75318d",
   "metadata": {},
   "outputs": [],
   "source": []
  }
 ],
 "metadata": {
  "kernelspec": {
   "display_name": "Python 3 (ipykernel)",
   "language": "python",
   "name": "python3"
  },
  "language_info": {
   "codemirror_mode": {
    "name": "ipython",
    "version": 3
   },
   "file_extension": ".py",
   "mimetype": "text/x-python",
   "name": "python",
   "nbconvert_exporter": "python",
   "pygments_lexer": "ipython3",
   "version": "3.10.8"
  }
 },
 "nbformat": 4,
 "nbformat_minor": 5
}
