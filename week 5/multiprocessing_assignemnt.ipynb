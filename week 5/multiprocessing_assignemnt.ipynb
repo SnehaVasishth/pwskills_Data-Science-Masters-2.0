{
 "cells": [
  {
   "cell_type": "markdown",
   "id": "96176b24-1e26-4bea-a66c-8dbb8313ac94",
   "metadata": {},
   "source": [
    "##ques 1\n",
    "\n",
    "Multiprocessing means to run several processes in parallel in different cores of CPU\n",
    "Usefullness:\n",
    "1. It helps to acheive multiprocessing by assigning different processes to different cores of CPU\n",
    "\n",
    "2. Each process in different cores has their own independent memory space which enables that one process can not interfere another process directly. \n",
    "\n",
    "3. If one process has error multi processing ensures the normal working of other processes"
   ]
  },
  {
   "cell_type": "code",
   "execution_count": null,
   "id": "d00ce088-b637-4145-9e78-e5fccc5055b7",
   "metadata": {},
   "outputs": [],
   "source": []
  },
  {
   "cell_type": "markdown",
   "id": "096faf8b-7deb-47dd-967d-113ba11b92c8",
   "metadata": {},
   "source": [
    "##ques 2\n",
    "\n",
    "1. Execution:\n",
    "    \n",
    "    multiprocessing- Here differnet processes are executed in different cores of CPU. Each processes has its own memory space , interpreter\n",
    "    \n",
    "    \n",
    "    multithreading-  Here different part of same process is assigned with different thread of same core, these threads share resources and have common memory space\n",
    "    \n",
    "2. Parallelism:\n",
    "\n",
    "\n",
    "    multiprocessing- It allows true parallelism since each process has its own resourcs memory spaces running at different cores\n",
    "    \n",
    "    \n",
    "    multithreading- Due to Global Interpreter Lock in python which allow execution of one thread at a time leads to problems in parallelism\n",
    "    \n",
    "3.synchronisation:\n",
    "\n",
    "\n",
    "    multiprocessing- Synchronisation among different processes running at different cores is done through external mechanisms like queue, pipe, array etc\n",
    "    \n",
    "    \n",
    "    multithreading- Here different threads have same memory space within the core, thus communcate easily through shared variables"
   ]
  },
  {
   "cell_type": "code",
   "execution_count": null,
   "id": "cee1d956-551d-4c39-9bfc-3504d0f4eb7d",
   "metadata": {},
   "outputs": [],
   "source": []
  },
  {
   "cell_type": "code",
   "execution_count": 1,
   "id": "1f7ad3b2-1309-4363-ba71-8841a7ac8e90",
   "metadata": {},
   "outputs": [
    {
     "name": "stdout",
     "output_type": "stream",
     "text": [
      "1  3056\n",
      "4  3065\n",
      "9  3074\n",
      "16  3083\n"
     ]
    }
   ],
   "source": [
    "# #ques3\n",
    "\n",
    "import multiprocessing\n",
    "\n",
    "def square(num):\n",
    "    ans=num**2\n",
    "    print(ans,multiprocessing.current_process().pid,sep=\"  \")\n",
    "    \n",
    "if __name__ == '__main__':\n",
    "    l=[1,2,3,4]\n",
    "    \n",
    "    m1=[multiprocessing.Process(target=square,args=(l[i],))for i in range(len(l))]\n",
    "    \n",
    "    for t in m1:\n",
    "        t.start()\n",
    "        t.join()\n",
    "    "
   ]
  },
  {
   "cell_type": "code",
   "execution_count": null,
   "id": "fd0924d9-9e84-485e-87de-4cd15ff37604",
   "metadata": {},
   "outputs": [],
   "source": []
  },
  {
   "cell_type": "markdown",
   "id": "9c4e00a5-c46e-4618-b1b6-9575773176b3",
   "metadata": {},
   "source": [
    "##ques 4\n",
    "\n",
    "Multiprocessing.Pool is a modile which enables us to specify the number of cores of CPU among which we want our processes to get divided\n",
    "\n",
    "usefullness:\n",
    "1. By assigning specified number of core allows parallelism.\n",
    " 2. Pool itself manage task management and its distribution and collection of output from different assigned cores"
   ]
  },
  {
   "cell_type": "code",
   "execution_count": null,
   "id": "3714b655-83eb-40b1-ae15-0366123c7d0d",
   "metadata": {},
   "outputs": [],
   "source": []
  },
  {
   "cell_type": "markdown",
   "id": "b52a291c-350e-4e0c-94a8-6ebd85df19fd",
   "metadata": {},
   "source": [
    "##ques 5\n",
    "\n",
    "we can create pool of workers using \"multiprocessing.Pool(processes=5)\"\n",
    "\n",
    "In above example we are asking for 5 different cores among which all the processes will get distributed"
   ]
  },
  {
   "cell_type": "code",
   "execution_count": 11,
   "id": "eab0955c-a101-45e0-a8bf-6fabeeb1786f",
   "metadata": {},
   "outputs": [
    {
     "name": "stdout",
     "output_type": "stream",
     "text": [
      "[1, 4, 9, 16]\n"
     ]
    }
   ],
   "source": [
    "# ##ques 5\n",
    "\n",
    "import multiprocessing\n",
    "\n",
    "def square(num):\n",
    "    return num**2\n",
    "\n",
    "if __name__=='__main__':\n",
    "    l=[1,2,3,4]\n",
    "    with multiprocessing.Pool(processes =4)as pool:\n",
    "        m1=pool.map(square,l)\n",
    "        print(m1)\n",
    "    \n"
   ]
  },
  {
   "cell_type": "code",
   "execution_count": null,
   "id": "d2790019-4d20-4b13-9493-99ba4f466380",
   "metadata": {},
   "outputs": [],
   "source": []
  },
  {
   "cell_type": "code",
   "execution_count": 10,
   "id": "528d2342-d419-4298-9360-671a47b300d8",
   "metadata": {},
   "outputs": [
    {
     "name": "stdout",
     "output_type": "stream",
     "text": [
      "number:2   pid:3359\n",
      "number:3   pid:3360\n",
      "number:4   pid:3361\n",
      "number:1   pid:3358\n",
      "\n",
      "\n",
      "\n",
      "\n"
     ]
    }
   ],
   "source": [
    "##ques 6\n",
    "\n",
    "import multiprocessing\n",
    "\n",
    "def pro_print(num):\n",
    "    print(\"number:{a}   pid:{b}\\n\".format(a=num,b=multiprocessing.current_process().pid))\n",
    "    \n",
    "if __name__=='__main__':\n",
    "    l=[1,2,3,4]    \n",
    "    with multiprocessing.Pool(processes=4)as pool:\n",
    "        pool.map(pro_print,l)\n",
    "       \n",
    "    "
   ]
  },
  {
   "cell_type": "code",
   "execution_count": null,
   "id": "50a7459d-9f58-4391-b8f0-1638a6c1021b",
   "metadata": {},
   "outputs": [],
   "source": []
  },
  {
   "cell_type": "code",
   "execution_count": null,
   "id": "5abc1e6e-2de5-4dcd-8cad-b896ccaf5c5a",
   "metadata": {},
   "outputs": [],
   "source": []
  },
  {
   "cell_type": "code",
   "execution_count": null,
   "id": "89af1665-52c0-43b7-ad77-7ca8bbb85a00",
   "metadata": {},
   "outputs": [],
   "source": []
  }
 ],
 "metadata": {
  "kernelspec": {
   "display_name": "Python 3 (ipykernel)",
   "language": "python",
   "name": "python3"
  },
  "language_info": {
   "codemirror_mode": {
    "name": "ipython",
    "version": 3
   },
   "file_extension": ".py",
   "mimetype": "text/x-python",
   "name": "python",
   "nbconvert_exporter": "python",
   "pygments_lexer": "ipython3",
   "version": "3.10.8"
  }
 },
 "nbformat": 4,
 "nbformat_minor": 5
}
