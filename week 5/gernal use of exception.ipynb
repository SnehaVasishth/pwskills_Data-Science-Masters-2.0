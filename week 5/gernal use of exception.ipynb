{
 "cells": [
  {
   "cell_type": "code",
   "execution_count": 1,
   "id": "bfc1bfc5-e425-4f8e-9bea-8cb81bb2b7a6",
   "metadata": {},
   "outputs": [
    {
     "name": "stdout",
     "output_type": "stream",
     "text": [
      "division by zero\n"
     ]
    }
   ],
   "source": [
    "try: \n",
    "    a=10/0\n",
    "except ZeroDivisionError as e:\n",
    "    print(e)"
   ]
  },
  {
   "cell_type": "code",
   "execution_count": 2,
   "id": "f1d580a2-7ea1-4a07-8060-bcf0df690316",
   "metadata": {},
   "outputs": [
    {
     "name": "stdout",
     "output_type": "stream",
     "text": [
      "invalid literal for int() with base 10: 'sneha'\n"
     ]
    }
   ],
   "source": [
    "try:\n",
    "    int(\"sneha\")\n",
    "except (ValueError, TypeError) as e:\n",
    "    print(e)"
   ]
  },
  {
   "cell_type": "code",
   "execution_count": 3,
   "id": "34d26425-8bda-4389-ba14-35f06e1b7dd4",
   "metadata": {},
   "outputs": [
    {
     "name": "stdout",
     "output_type": "stream",
     "text": [
      "this will catch error\n"
     ]
    }
   ],
   "source": [
    "try:\n",
    "    int(\"aashi\")\n",
    "except:\n",
    "    print(\"this will catch error\")"
   ]
  },
  {
   "cell_type": "code",
   "execution_count": 4,
   "id": "36b371dd-0d8d-4345-ba75-6cbad04bed8b",
   "metadata": {},
   "outputs": [
    {
     "name": "stdout",
     "output_type": "stream",
     "text": [
      "No module named 'sneha'\n"
     ]
    }
   ],
   "source": [
    "try:\n",
    "    import sneha\n",
    "except ImportError as e:\n",
    "    print(e)"
   ]
  },
  {
   "cell_type": "code",
   "execution_count": 5,
   "id": "41ab0c03-5d57-4c23-af34-0f48f9ea1e85",
   "metadata": {},
   "outputs": [
    {
     "name": "stdout",
     "output_type": "stream",
     "text": [
      "'key2'\n"
     ]
    }
   ],
   "source": [
    "try :\n",
    "    dic={\"name\":\"sneha\",1:[2,3,4,4]}\n",
    "    print(dic['key2'])\n",
    "except KeyError as e:\n",
    "    print(e)"
   ]
  },
  {
   "cell_type": "code",
   "execution_count": 6,
   "id": "c0c3f955-b2de-4898-aff9-d8fbfcdce0e8",
   "metadata": {},
   "outputs": [
    {
     "name": "stdout",
     "output_type": "stream",
     "text": [
      "'str' object has no attribute 'test'\n"
     ]
    }
   ],
   "source": [
    "try:\n",
    "    \"sneha\".test()\n",
    "except AttributeError as e:\n",
    "    print(e)"
   ]
  },
  {
   "cell_type": "code",
   "execution_count": 7,
   "id": "23dca791-9dbd-4cf9-92d0-1267c797591a",
   "metadata": {},
   "outputs": [
    {
     "name": "stdout",
     "output_type": "stream",
     "text": [
      "list index out of range\n"
     ]
    }
   ],
   "source": [
    "try:\n",
    "    l=[1,2,3]\n",
    "    print(l[6])\n",
    "except IndexError as e:\n",
    "    print(e)"
   ]
  },
  {
   "cell_type": "code",
   "execution_count": 8,
   "id": "56834563-b752-4161-809c-256c4ea5ab9c",
   "metadata": {},
   "outputs": [
    {
     "name": "stdout",
     "output_type": "stream",
     "text": [
      "unsupported operand type(s) for +: 'int' and 'str'\n"
     ]
    }
   ],
   "source": [
    "try:\n",
    "    123+\"sneha\"\n",
    "except TypeError as e:\n",
    "    print(e)\n"
   ]
  },
  {
   "cell_type": "code",
   "execution_count": 9,
   "id": "59f723b5-fb35-4628-bd1e-9da99cd96054",
   "metadata": {},
   "outputs": [
    {
     "name": "stdout",
     "output_type": "stream",
     "text": [
      "[Errno 2] No such file or directory: 'snwij.txt'\n"
     ]
    }
   ],
   "source": [
    "try:\n",
    "    with open(\"snwij.txt\",'r')as f:\n",
    "        test= f.read()\n",
    "except FileNotFoundError as e:\n",
    "    print(e)\n",
    "    "
   ]
  },
  {
   "cell_type": "code",
   "execution_count": 10,
   "id": "48ed91f4-3975-4c7f-8f31-22965c5eee42",
   "metadata": {},
   "outputs": [
    {
     "data": {
      "text/plain": [
       "['__cause__',\n",
       " '__class__',\n",
       " '__context__',\n",
       " '__delattr__',\n",
       " '__dict__',\n",
       " '__dir__',\n",
       " '__doc__',\n",
       " '__eq__',\n",
       " '__format__',\n",
       " '__ge__',\n",
       " '__getattribute__',\n",
       " '__gt__',\n",
       " '__hash__',\n",
       " '__init__',\n",
       " '__init_subclass__',\n",
       " '__le__',\n",
       " '__lt__',\n",
       " '__ne__',\n",
       " '__new__',\n",
       " '__reduce__',\n",
       " '__reduce_ex__',\n",
       " '__repr__',\n",
       " '__setattr__',\n",
       " '__setstate__',\n",
       " '__sizeof__',\n",
       " '__str__',\n",
       " '__subclasshook__',\n",
       " '__suppress_context__',\n",
       " '__traceback__',\n",
       " 'args',\n",
       " 'with_traceback']"
      ]
     },
     "execution_count": 10,
     "metadata": {},
     "output_type": "execute_result"
    }
   ],
   "source": [
    "dir(Exception)"
   ]
  },
  {
   "cell_type": "code",
   "execution_count": 11,
   "id": "973f3505-598c-4e60-a6ea-618a3e928c00",
   "metadata": {},
   "outputs": [
    {
     "name": "stdout",
     "output_type": "stream",
     "text": [
      "[Errno 2] No such file or directory: 'snwij.txt'\n"
     ]
    }
   ],
   "source": [
    "try:\n",
    "    with open(\"snwij.txt\",'r')as f:\n",
    "        test= f.read()\n",
    "except Exception as e:\n",
    "    print(e)\n",
    "except FileNotFoundError as e:\n",
    "    print(\"sneha is great\",e)\n",
    "    "
   ]
  },
  {
   "cell_type": "markdown",
   "id": "d17bb831-92ce-4e46-9404-322575a77014",
   "metadata": {},
   "source": [
    "## here above it will first goes to first except, since we are giving Exception which superset it will going to handle all the error.\n",
    "If first exception faisl to handle then it will goes to next described error\n"
   ]
  },
  {
   "cell_type": "code",
   "execution_count": 14,
   "id": "1d218f1e-2980-4c68-bc9b-9323507c6668",
   "metadata": {},
   "outputs": [],
   "source": [
    "def test(file):\n",
    "                try:\n",
    "                    with open(\"snwij.txt\",'r')as f:\n",
    "                        test= f.read()\n",
    "                except Exception as e:\n",
    "                    print(e)\n",
    "                except FileNotFoundError as e:\n",
    "                    print(\"sneha is great\",e)\n",
    "\n"
   ]
  },
  {
   "cell_type": "code",
   "execution_count": 15,
   "id": "1b967426-9672-4c71-a213-2dba5df0d66b",
   "metadata": {},
   "outputs": [],
   "source": [
    "## we can write the try or exception hadling code inside function or class anywhere"
   ]
  },
  {
   "cell_type": "code",
   "execution_count": null,
   "id": "f92a8127-c2c3-4155-88e5-589d14e2fac2",
   "metadata": {},
   "outputs": [],
   "source": []
  }
 ],
 "metadata": {
  "kernelspec": {
   "display_name": "Python 3 (ipykernel)",
   "language": "python",
   "name": "python3"
  },
  "language_info": {
   "codemirror_mode": {
    "name": "ipython",
    "version": 3
   },
   "file_extension": ".py",
   "mimetype": "text/x-python",
   "name": "python",
   "nbconvert_exporter": "python",
   "pygments_lexer": "ipython3",
   "version": "3.10.8"
  }
 },
 "nbformat": 4,
 "nbformat_minor": 5
}
