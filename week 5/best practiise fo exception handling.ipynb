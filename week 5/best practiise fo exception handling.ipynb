{
 "cells": [
  {
   "cell_type": "code",
   "execution_count": 1,
   "id": "6d52fc9f-8ded-47fc-ad49-f5e9195e025b",
   "metadata": {},
   "outputs": [
    {
     "name": "stdout",
     "output_type": "stream",
     "text": [
      "division by zero\n"
     ]
    }
   ],
   "source": [
    "#use always the sepcific exception\n",
    "try:\n",
    "    10/0\n",
    "except Exception as e:\n",
    "    print(e)"
   ]
  },
  {
   "cell_type": "code",
   "execution_count": 2,
   "id": "af79e869-80bb-47fc-9c95-712942a00106",
   "metadata": {},
   "outputs": [
    {
     "name": "stdout",
     "output_type": "stream",
     "text": [
      "division by zero\n"
     ]
    }
   ],
   "source": [
    "try:\n",
    "    10/0\n",
    "except ZeroDivisionError as e:\n",
    "    print(e)"
   ]
  },
  {
   "cell_type": "code",
   "execution_count": 3,
   "id": "2ad74499-0558-46c4-84e6-fc6d41053207",
   "metadata": {},
   "outputs": [],
   "source": [
    "##write a good message\n"
   ]
  },
  {
   "cell_type": "code",
   "execution_count": 4,
   "id": "4f234f17-f369-4c01-9543-f9deb77e492d",
   "metadata": {},
   "outputs": [],
   "source": [
    "## log the errors instead of print\n",
    "\n",
    "import logging\n",
    "\n",
    "logging.basicConfig(filename=\"ghj.log\" ,level=logging.ERROR)\n",
    "try:\n",
    "    10/0\n",
    "except ZeroDivisionError as e:\n",
    "    logging.error(\"I am trying to handle zero division error{}\".format(e))"
   ]
  },
  {
   "cell_type": "code",
   "execution_count": 5,
   "id": "16b12605-bacd-4a9f-bfa2-54716d2923ca",
   "metadata": {},
   "outputs": [],
   "source": [
    "##don not write multiple exception handling, wriet sepcific exception handling\n"
   ]
  },
  {
   "cell_type": "code",
   "execution_count": 6,
   "id": "f50197db-f533-4666-b2d7-0967449ad87e",
   "metadata": {},
   "outputs": [],
   "source": [
    "##cleanup all the resouxces\n",
    "\n",
    "try:\n",
    "    with open(\"dfg.txt\",\"w\") as f:\n",
    "        f.write(\"helps to write into the file\")\n",
    "        \n",
    "except FileNotFoundError as e:\n",
    "    logging.error(\"i am handling file not found error  {}\".format(e))\n",
    "    \n",
    "finally:\n",
    "    f.close()\n",
    "    "
   ]
  },
  {
   "cell_type": "code",
   "execution_count": null,
   "id": "0a037ef9-f29a-4ad1-a5e7-cc5b18bf651e",
   "metadata": {},
   "outputs": [],
   "source": []
  }
 ],
 "metadata": {
  "kernelspec": {
   "display_name": "Python 3 (ipykernel)",
   "language": "python",
   "name": "python3"
  },
  "language_info": {
   "codemirror_mode": {
    "name": "ipython",
    "version": 3
   },
   "file_extension": ".py",
   "mimetype": "text/x-python",
   "name": "python",
   "nbconvert_exporter": "python",
   "pygments_lexer": "ipython3",
   "version": "3.10.8"
  }
 },
 "nbformat": 4,
 "nbformat_minor": 5
}
