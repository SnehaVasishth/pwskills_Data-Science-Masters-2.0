{
 "cells": [
  {
   "cell_type": "code",
   "execution_count": 1,
   "id": "6e8b10af-5589-4900-9a0a-911f5d492a9e",
   "metadata": {},
   "outputs": [
    {
     "name": "stdout",
     "output_type": "stream",
     "text": [
      "this is my print\n"
     ]
    }
   ],
   "source": [
    "print(\"this is my print\")"
   ]
  },
  {
   "cell_type": "code",
   "execution_count": 2,
   "id": "2f768e49-785e-4600-a079-8bf01611c71d",
   "metadata": {},
   "outputs": [],
   "source": [
    "import logging"
   ]
  },
  {
   "cell_type": "code",
   "execution_count": 3,
   "id": "fb22baa4-b2f2-4ec2-ae6a-b4666629e7ac",
   "metadata": {},
   "outputs": [],
   "source": [
    "logging.basicConfig(filename=\"test.log\",level= logging.INFO)"
   ]
  },
  {
   "cell_type": "code",
   "execution_count": 4,
   "id": "40f7f1cc-fef5-4f6b-aba2-d26394045141",
   "metadata": {},
   "outputs": [],
   "source": [
    "logging.info(\"log tjis line of execution\")"
   ]
  },
  {
   "cell_type": "code",
   "execution_count": 5,
   "id": "702edc23-4482-4637-8387-8dd2f5688605",
   "metadata": {},
   "outputs": [],
   "source": [
    "logging.info(\"this is my print\")"
   ]
  },
  {
   "cell_type": "markdown",
   "id": "4bfdbcbb-164a-4ed2-b232-dfc26163484c",
   "metadata": {},
   "source": [
    "## LEVELS OF LOGGING\n",
    "1. NOTSET\n",
    "2. DEBUG\n",
    "3. INFO\n",
    "4. WARNING\n",
    "5. ERROR\n",
    "6. CRITICAL"
   ]
  },
  {
   "cell_type": "code",
   "execution_count": 6,
   "id": "0f696a18-796d-44bb-94d2-b5f699a16914",
   "metadata": {},
   "outputs": [],
   "source": [
    "logging.error(\"this is my error msg\")"
   ]
  },
  {
   "cell_type": "code",
   "execution_count": 7,
   "id": "8805ecfd-33a9-4353-ba69-222a1ba8b884",
   "metadata": {},
   "outputs": [],
   "source": [
    "logging.warning(\"this is the warnung msg\")"
   ]
  },
  {
   "cell_type": "code",
   "execution_count": 8,
   "id": "59c5910b-f254-448a-a14f-e72b3fb08439",
   "metadata": {},
   "outputs": [],
   "source": [
    "logging.critical(\"this is a critical msg\")"
   ]
  },
  {
   "cell_type": "code",
   "execution_count": 9,
   "id": "cdca2b27-5d94-44c1-917a-4f39933625e8",
   "metadata": {},
   "outputs": [],
   "source": [
    "logging.shutdown()"
   ]
  },
  {
   "cell_type": "code",
   "execution_count": 10,
   "id": "fa5a5dcf-27a7-47b0-86c9-4502e008b2d2",
   "metadata": {},
   "outputs": [],
   "source": [
    "import logging"
   ]
  },
  {
   "cell_type": "code",
   "execution_count": 11,
   "id": "49ad3c3c-8377-4876-8920-7881fa23328e",
   "metadata": {},
   "outputs": [],
   "source": [
    "logging.basicConfig(filename=\"sneha2.log\", level=logging.DEBUG,format= '%(asctime)s %(message)s')"
   ]
  },
  {
   "cell_type": "code",
   "execution_count": 12,
   "id": "0f99c6fc-b298-49a4-9f9c-73318f4287c7",
   "metadata": {},
   "outputs": [],
   "source": [
    "logging.debug(\"this is debug msg\")\n",
    "logging.info(\"this is info msg\")\n",
    "logging.error(\"this is error msg\")"
   ]
  },
  {
   "cell_type": "code",
   "execution_count": 13,
   "id": "e7bcecef-e1ee-481b-a9dc-1c5c1a90756d",
   "metadata": {},
   "outputs": [],
   "source": [
    "logging.shutdown()"
   ]
  },
  {
   "cell_type": "code",
   "execution_count": null,
   "id": "22afcd65-f673-4cfc-b873-b2e2d853e3ef",
   "metadata": {},
   "outputs": [],
   "source": []
  },
  {
   "cell_type": "code",
   "execution_count": 14,
   "id": "4746a2de-72d6-4e88-a7f7-fe459bfd1d8a",
   "metadata": {},
   "outputs": [],
   "source": [
    "logging.basicConfig(filename=\"vasishth2.log\", level=logging.DEBUG, format='%(asctime)s %(name)s %(levelname)s %(message)s')"
   ]
  },
  {
   "cell_type": "code",
   "execution_count": 15,
   "id": "14e970a6-070e-424c-9170-988a43168081",
   "metadata": {},
   "outputs": [],
   "source": [
    "logging.debug(\"this is debug msg\")\n",
    "logging.info(\"this is info msg\")\n",
    "logging.error(\"this is error msg\")"
   ]
  },
  {
   "cell_type": "code",
   "execution_count": 16,
   "id": "cb14ad2c-80c7-4d69-ad8a-91eb935623d4",
   "metadata": {},
   "outputs": [],
   "source": [
    "logging.shutdown()"
   ]
  },
  {
   "cell_type": "code",
   "execution_count": null,
   "id": "f135b8c5-262b-457d-a9e0-35608639d30e",
   "metadata": {},
   "outputs": [],
   "source": []
  }
 ],
 "metadata": {
  "kernelspec": {
   "display_name": "Python 3 (ipykernel)",
   "language": "python",
   "name": "python3"
  },
  "language_info": {
   "codemirror_mode": {
    "name": "ipython",
    "version": 3
   },
   "file_extension": ".py",
   "mimetype": "text/x-python",
   "name": "python",
   "nbconvert_exporter": "python",
   "pygments_lexer": "ipython3",
   "version": "3.10.8"
  }
 },
 "nbformat": 4,
 "nbformat_minor": 5
}
