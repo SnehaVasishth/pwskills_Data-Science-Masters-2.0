{
 "cells": [
  {
   "cell_type": "markdown",
   "id": "0e709edd-dc1b-407f-9f97-005a97bb5b2a",
   "metadata": {},
   "source": [
    "## every core is alloted with different programs. If we want to run multiple programs in the sme core then we say mutlithreading, threr are two librarires for this in python one is thread which is obselete now another is threading which is in use"
   ]
  },
  {
   "cell_type": "code",
   "execution_count": 2,
   "id": "5d5481cd-a3ba-4f10-83b5-d49d529c4d4d",
   "metadata": {},
   "outputs": [],
   "source": [
    "import threading"
   ]
  },
  {
   "cell_type": "code",
   "execution_count": 7,
   "id": "1f523013-8ddd-4cb4-be0b-910ec18ee42c",
   "metadata": {},
   "outputs": [],
   "source": [
    "def test(id):\n",
    "    print(\"prog start %d\"%id)"
   ]
  },
  {
   "cell_type": "code",
   "execution_count": 8,
   "id": "db9c09be-a2d3-4672-a41f-216b5bb2e2b4",
   "metadata": {},
   "outputs": [],
   "source": [
    "## 5d is numeric placeholder like in c"
   ]
  },
  {
   "cell_type": "code",
   "execution_count": 9,
   "id": "0d8f362d-3274-421d-bfa4-45849aecdbf8",
   "metadata": {},
   "outputs": [
    {
     "name": "stdout",
     "output_type": "stream",
     "text": [
      "prog start 45\n"
     ]
    }
   ],
   "source": [
    "test(45)"
   ]
  },
  {
   "cell_type": "code",
   "execution_count": 11,
   "id": "680e80f7-4d82-485a-9f28-f2fd3bfd4781",
   "metadata": {},
   "outputs": [],
   "source": [
    "thread=[threading.Thread(target=test,args=(i,)) for i in range(10)]"
   ]
  },
  {
   "cell_type": "code",
   "execution_count": 12,
   "id": "e12b1e05-2ded-4aa7-85b8-b4962edb96e0",
   "metadata": {},
   "outputs": [
    {
     "name": "stdout",
     "output_type": "stream",
     "text": [
      "prog start 0\n",
      "prog start 1\n",
      "prog start 2\n",
      "prog start 3\n",
      "prog start 4\n",
      "prog start 5\n",
      "prog start 6\n",
      "prog start 7\n",
      "prog start 8\n",
      "prog start 9\n"
     ]
    }
   ],
   "source": [
    "for t in thread:\n",
    "    t.start()"
   ]
  },
  {
   "cell_type": "code",
   "execution_count": 13,
   "id": "d9e7ed24-973e-4bd8-865f-9da08747c606",
   "metadata": {},
   "outputs": [
    {
     "data": {
      "text/plain": [
       "[<Thread(Thread-5 (test), stopped 140259924891200)>,\n",
       " <Thread(Thread-6 (test), stopped 140259924891200)>,\n",
       " <Thread(Thread-7 (test), stopped 140259924891200)>,\n",
       " <Thread(Thread-8 (test), stopped 140259924891200)>,\n",
       " <Thread(Thread-9 (test), stopped 140259924891200)>,\n",
       " <Thread(Thread-10 (test), stopped 140259924891200)>,\n",
       " <Thread(Thread-11 (test), stopped 140259924891200)>,\n",
       " <Thread(Thread-12 (test), stopped 140259924891200)>,\n",
       " <Thread(Thread-13 (test), stopped 140259924891200)>,\n",
       " <Thread(Thread-14 (test), stopped 140259924891200)>]"
      ]
     },
     "execution_count": 13,
     "metadata": {},
     "output_type": "execute_result"
    }
   ],
   "source": [
    "thread"
   ]
  },
  {
   "cell_type": "code",
   "execution_count": 14,
   "id": "f34ac49f-82eb-4eff-9723-4a3b2a3b5d61",
   "metadata": {},
   "outputs": [
    {
     "data": {
      "text/plain": [
       "140260415957696"
      ]
     },
     "execution_count": 14,
     "metadata": {},
     "output_type": "execute_result"
    }
   ],
   "source": [
    "id(thread)"
   ]
  },
  {
   "cell_type": "code",
   "execution_count": 15,
   "id": "2db19a82-e7c8-488c-aae2-87abd47b802f",
   "metadata": {},
   "outputs": [],
   "source": [
    "import threading\n",
    "import urllib.request\n",
    "\n",
    "def file_download(url,filename):\n",
    "    urllib.request.urlretrieve(url,filename)"
   ]
  },
  {
   "cell_type": "code",
   "execution_count": 16,
   "id": "bc54bf36-c56d-4adc-89bf-29f84b7998a3",
   "metadata": {},
   "outputs": [],
   "source": [
    "url_list=['https://en.wikipedia.org/wiki/Mathura','https://en.wikipedia.org/wiki/Udaipur']"
   ]
  },
  {
   "cell_type": "code",
   "execution_count": 17,
   "id": "2e383033-1132-4cf3-bef7-5ae1b6219ff3",
   "metadata": {},
   "outputs": [],
   "source": [
    "file_list=['datas1.txt','datas2.txt']"
   ]
  },
  {
   "cell_type": "code",
   "execution_count": 18,
   "id": "bfe039d4-2f71-46bd-8e88-11b03b45e093",
   "metadata": {},
   "outputs": [
    {
     "data": {
      "text/plain": [
       "['https://en.wikipedia.org/wiki/Mathura',\n",
       " 'https://en.wikipedia.org/wiki/Udaipur']"
      ]
     },
     "execution_count": 18,
     "metadata": {},
     "output_type": "execute_result"
    }
   ],
   "source": [
    "url_list"
   ]
  },
  {
   "cell_type": "code",
   "execution_count": 20,
   "id": "b83e6f9d-0547-4914-87dd-7f0f105ecc64",
   "metadata": {},
   "outputs": [],
   "source": [
    "ther=[threading.Thread(target=file_download,args=(url_list[i],file_list[i])) for i in range(len(url_list))]"
   ]
  },
  {
   "cell_type": "raw",
   "id": "cf1969b7-6b7e-41c8-be53-6f49948e344f",
   "metadata": {},
   "source": [
    "ther"
   ]
  },
  {
   "cell_type": "code",
   "execution_count": 21,
   "id": "7709fa5d-c781-4c44-97d3-19e1f4cafcec",
   "metadata": {},
   "outputs": [
    {
     "data": {
      "text/plain": [
       "[<Thread(Thread-15 (file_download), initial)>,\n",
       " <Thread(Thread-16 (file_download), initial)>]"
      ]
     },
     "execution_count": 21,
     "metadata": {},
     "output_type": "execute_result"
    }
   ],
   "source": [
    "ther"
   ]
  },
  {
   "cell_type": "code",
   "execution_count": 22,
   "id": "bf72812f-e591-4a97-9c77-0165c6b25bd8",
   "metadata": {},
   "outputs": [],
   "source": [
    "for t in ther:\n",
    "    t.start()"
   ]
  },
  {
   "cell_type": "code",
   "execution_count": 23,
   "id": "b9f99bc1-003c-4be2-8b13-fc0f1ebb6162",
   "metadata": {},
   "outputs": [
    {
     "data": {
      "text/plain": [
       "140260283684992"
      ]
     },
     "execution_count": 23,
     "metadata": {},
     "output_type": "execute_result"
    }
   ],
   "source": [
    "id(ther)"
   ]
  },
  {
   "cell_type": "code",
   "execution_count": 24,
   "id": "4283bf8d-81fe-4bd7-9411-5fcf21e524c9",
   "metadata": {},
   "outputs": [
    {
     "data": {
      "text/plain": [
       "140260415766592"
      ]
     },
     "execution_count": 24,
     "metadata": {},
     "output_type": "execute_result"
    }
   ],
   "source": [
    "id(file_download)"
   ]
  },
  {
   "cell_type": "code",
   "execution_count": 25,
   "id": "d2acdd71-33c6-4026-9a7b-a7ec80507d91",
   "metadata": {},
   "outputs": [],
   "source": [
    "import time"
   ]
  },
  {
   "cell_type": "code",
   "execution_count": 48,
   "id": "2ddb08e9-20a7-41a3-a806-9c9b54a4538d",
   "metadata": {},
   "outputs": [],
   "source": [
    "def test1(id):\n",
    "    for i in range(10):\n",
    "        print(\"test1 %d printing %d time %s\"%(id,i,time.ctime()))\n",
    "        time.sleep(1)"
   ]
  },
  {
   "cell_type": "code",
   "execution_count": 49,
   "id": "2ea0562e-3aed-43ee-bc3c-9bc70f03d518",
   "metadata": {},
   "outputs": [
    {
     "name": "stdout",
     "output_type": "stream",
     "text": [
      "test1 0 printing 0 time Tue Jul 18 17:30:02 2023\n",
      "test1 0 printing 1 time Tue Jul 18 17:30:03 2023\n",
      "test1 0 printing 2 time Tue Jul 18 17:30:04 2023\n",
      "test1 0 printing 3 time Tue Jul 18 17:30:05 2023\n",
      "test1 0 printing 4 time Tue Jul 18 17:30:06 2023\n",
      "test1 0 printing 5 time Tue Jul 18 17:30:07 2023\n",
      "test1 0 printing 6 time Tue Jul 18 17:30:08 2023\n",
      "test1 0 printing 7 time Tue Jul 18 17:30:09 2023\n",
      "test1 0 printing 8 time Tue Jul 18 17:30:10 2023\n",
      "test1 0 printing 9 time Tue Jul 18 17:30:11 2023\n"
     ]
    }
   ],
   "source": [
    "test1(0)"
   ]
  },
  {
   "cell_type": "code",
   "execution_count": 50,
   "id": "4d663a5b-6f3f-45a5-8cb6-e63a2e4170c7",
   "metadata": {},
   "outputs": [],
   "source": [
    "thread1=[threading.Thread(target=test1,args=(i,)) for i in range(3)]"
   ]
  },
  {
   "cell_type": "code",
   "execution_count": 51,
   "id": "210c8b3c-2734-40b5-abaa-632d2b31da1b",
   "metadata": {},
   "outputs": [
    {
     "name": "stdout",
     "output_type": "stream",
     "text": [
      "test1 0 printing 0 time Tue Jul 18 17:31:18 2023\n",
      "test1 1 printing 0 time Tue Jul 18 17:31:18 2023\n",
      "test1 2 printing 0 time Tue Jul 18 17:31:18 2023\n",
      "test1 0 printing 1 time Tue Jul 18 17:31:19 2023test1 1 printing 1 time Tue Jul 18 17:31:19 2023\n",
      "test1 2 printing 1 time Tue Jul 18 17:31:19 2023\n",
      "\n",
      "test1 1 printing 2 time Tue Jul 18 17:31:20 2023\n",
      "test1 2 printing 2 time Tue Jul 18 17:31:20 2023\n",
      "test1 0 printing 2 time Tue Jul 18 17:31:20 2023\n",
      "test1 1 printing 3 time Tue Jul 18 17:31:21 2023\n",
      "test1 2 printing 3 time Tue Jul 18 17:31:21 2023\n",
      "test1 0 printing 3 time Tue Jul 18 17:31:21 2023\n",
      "test1 1 printing 4 time Tue Jul 18 17:31:22 2023\n",
      "test1 2 printing 4 time Tue Jul 18 17:31:22 2023\n",
      "test1 0 printing 4 time Tue Jul 18 17:31:22 2023\n",
      "test1 2 printing 5 time Tue Jul 18 17:31:23 2023test1 1 printing 5 time Tue Jul 18 17:31:23 2023\n",
      "\n",
      "test1 0 printing 5 time Tue Jul 18 17:31:23 2023\n",
      "test1 1 printing 6 time Tue Jul 18 17:31:24 2023test1 2 printing 6 time Tue Jul 18 17:31:24 2023\n",
      "test1 0 printing 6 time Tue Jul 18 17:31:24 2023\n",
      "\n",
      "test1 2 printing 7 time Tue Jul 18 17:31:25 2023\n",
      "test1 0 printing 7 time Tue Jul 18 17:31:25 2023\n",
      "test1 1 printing 7 time Tue Jul 18 17:31:25 2023\n",
      "test1 2 printing 8 time Tue Jul 18 17:31:26 2023\n",
      "test1 0 printing 8 time Tue Jul 18 17:31:26 2023\n",
      "test1 1 printing 8 time Tue Jul 18 17:31:26 2023\n",
      "test1 2 printing 9 time Tue Jul 18 17:31:27 2023\n",
      "test1 1 printing 9 time Tue Jul 18 17:31:27 2023\n",
      "test1 0 printing 9 time Tue Jul 18 17:31:27 2023\n"
     ]
    }
   ],
   "source": [
    "for t in thread1:\n",
    "    t.start()"
   ]
  },
  {
   "cell_type": "code",
   "execution_count": 46,
   "id": "22978187-eea5-42a1-8633-3fee538dce1b",
   "metadata": {},
   "outputs": [],
   "source": [
    "## sice we are giving time for sleep so processor makes the current thread to sleep while another in same core is excuted"
   ]
  },
  {
   "cell_type": "code",
   "execution_count": 47,
   "id": "1ac66287-813e-4327-8ebe-fddcf6bcc925",
   "metadata": {},
   "outputs": [],
   "source": [
    "## by sleep every get chance to get executed since when thread goes in sleep at the sem time another thread is executed"
   ]
  },
  {
   "cell_type": "code",
   "execution_count": 55,
   "id": "00efb9d4-25cd-477f-af4a-7e79319e908f",
   "metadata": {},
   "outputs": [
    {
     "name": "stdout",
     "output_type": "stream",
     "text": [
      "test2 is 0 has increaded the value of shared varibale by 1\n",
      "test2 is 1 has increaded the value of shared varibale by 2\n",
      "test2 is 2 has increaded the value of shared varibale by 3\n"
     ]
    }
   ],
   "source": [
    "shared_var=0\n",
    "lock_var=threading.Lock()\n",
    "def test2(id):\n",
    "    global shared_var\n",
    "    with lock_var:\n",
    "        shared_var=shared_var+1\n",
    "        print(\"test2 is %d has increaded the value of shared varibale by %d\"%(id,shared_var))\n",
    "        time.sleep(1)\n",
    "ther3=[threading.Thread(target=test2, args=(i,)) for i in range(3)]\n",
    "\n",
    "for t in ther3:\n",
    "    t.start()"
   ]
  },
  {
   "cell_type": "code",
   "execution_count": null,
   "id": "ff569e23-b8a7-4c98-8a80-d612a588b605",
   "metadata": {},
   "outputs": [],
   "source": []
  }
 ],
 "metadata": {
  "kernelspec": {
   "display_name": "Python 3 (ipykernel)",
   "language": "python",
   "name": "python3"
  },
  "language_info": {
   "codemirror_mode": {
    "name": "ipython",
    "version": 3
   },
   "file_extension": ".py",
   "mimetype": "text/x-python",
   "name": "python",
   "nbconvert_exporter": "python",
   "pygments_lexer": "ipython3",
   "version": "3.10.8"
  }
 },
 "nbformat": 4,
 "nbformat_minor": 5
}
