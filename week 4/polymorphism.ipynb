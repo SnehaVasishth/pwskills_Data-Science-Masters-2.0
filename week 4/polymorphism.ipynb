{
 "cells": [
  {
   "cell_type": "code",
   "execution_count": 1,
   "id": "a5e6ad29-1d9e-47c8-95c5-cf4e4850d400",
   "metadata": {},
   "outputs": [],
   "source": [
    "def test(a,b):\n",
    "    return a+b"
   ]
  },
  {
   "cell_type": "code",
   "execution_count": 2,
   "id": "12284eda-0e4a-4abe-91b3-06022d7732fa",
   "metadata": {},
   "outputs": [
    {
     "data": {
      "text/plain": [
       "7"
      ]
     },
     "execution_count": 2,
     "metadata": {},
     "output_type": "execute_result"
    }
   ],
   "source": [
    "test(3,4)"
   ]
  },
  {
   "cell_type": "code",
   "execution_count": 3,
   "id": "62a707fe-92bf-46ea-9d84-40b1d6fae2ba",
   "metadata": {},
   "outputs": [
    {
     "data": {
      "text/plain": [
       "'sudhsneha'"
      ]
     },
     "execution_count": 3,
     "metadata": {},
     "output_type": "execute_result"
    }
   ],
   "source": [
    "test(\"sudh\",\"sneha\")"
   ]
  },
  {
   "cell_type": "code",
   "execution_count": 5,
   "id": "6e63e347-26d3-4cf1-809e-eac3cab2ba4e",
   "metadata": {},
   "outputs": [
    {
     "data": {
      "text/plain": [
       "[1, 2, 3, 45, 5, 3, 5, 7, 8, 22]"
      ]
     },
     "execution_count": 5,
     "metadata": {},
     "output_type": "execute_result"
    }
   ],
   "source": [
    "test([1,2,3,45,5],[3,5,7,8,22])"
   ]
  },
  {
   "cell_type": "code",
   "execution_count": 6,
   "id": "0a09a35e-2eaf-401d-a937-5dae90eba697",
   "metadata": {},
   "outputs": [],
   "source": [
    "class data_science:\n",
    "    def syllabus(self):\n",
    "        print(\"This is my sylabus for data science amsters\")\n",
    "    "
   ]
  },
  {
   "cell_type": "code",
   "execution_count": 7,
   "id": "162d66f4-ccc6-4863-8e8e-52a5b33fe8fe",
   "metadata": {},
   "outputs": [],
   "source": [
    "class web_dev:\n",
    "    def syllabus(self):\n",
    "        print(\"syllabus for web dev\")"
   ]
  },
  {
   "cell_type": "code",
   "execution_count": 8,
   "id": "7ae3670c-3333-4c67-926d-2ded0bfa8bee",
   "metadata": {},
   "outputs": [],
   "source": [
    "def class_parcer(class_obj):\n",
    "    for i in class_obj:\n",
    "        i.syllabus()"
   ]
  },
  {
   "cell_type": "code",
   "execution_count": 9,
   "id": "bec37dfe-6fa4-4513-808a-8c833b2b4563",
   "metadata": {},
   "outputs": [],
   "source": [
    "data=data_science()"
   ]
  },
  {
   "cell_type": "code",
   "execution_count": 10,
   "id": "bb19ff47-5fce-4af4-bb1c-18bb4aa8db71",
   "metadata": {},
   "outputs": [],
   "source": [
    "web=web_dev()"
   ]
  },
  {
   "cell_type": "code",
   "execution_count": 12,
   "id": "43ca8cfd-7b84-4290-b78d-af8f8c66be90",
   "metadata": {},
   "outputs": [],
   "source": [
    "class_obj=[data,web]"
   ]
  },
  {
   "cell_type": "code",
   "execution_count": 13,
   "id": "bae2ee69-ac0f-4b59-a7d0-68ca81ab6695",
   "metadata": {},
   "outputs": [
    {
     "name": "stdout",
     "output_type": "stream",
     "text": [
      "This is my sylabus for data science amsters\n",
      "syllabus for web dev\n"
     ]
    }
   ],
   "source": [
    "class_parcer(class_obj)"
   ]
  },
  {
   "cell_type": "code",
   "execution_count": 14,
   "id": "a7df71b7-f0e5-4cfe-92a8-89201fb32b63",
   "metadata": {},
   "outputs": [],
   "source": [
    "## polymorphism means same person but different behaviour accordingt o context, like in above eexample syllabus is same but depending on type object working of syllabus changes this is called polymorphism"
   ]
  },
  {
   "cell_type": "code",
   "execution_count": null,
   "id": "85e506f4-89eb-4c8a-bc23-57ec04bdc377",
   "metadata": {},
   "outputs": [],
   "source": []
  }
 ],
 "metadata": {
  "kernelspec": {
   "display_name": "Python 3 (ipykernel)",
   "language": "python",
   "name": "python3"
  },
  "language_info": {
   "codemirror_mode": {
    "name": "ipython",
    "version": 3
   },
   "file_extension": ".py",
   "mimetype": "text/x-python",
   "name": "python",
   "nbconvert_exporter": "python",
   "pygments_lexer": "ipython3",
   "version": "3.10.8"
  }
 },
 "nbformat": 4,
 "nbformat_minor": 5
}
