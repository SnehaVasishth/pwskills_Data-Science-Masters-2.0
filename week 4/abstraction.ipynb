{
 "cells": [
  {
   "cell_type": "code",
   "execution_count": 5,
   "id": "90303f6d-be05-4681-bc5b-49f8dae38b6e",
   "metadata": {},
   "outputs": [],
   "source": [
    "import abc\n",
    "class pwskills:\n",
    "    @abc.abstractclassmethod\n",
    "    def students_details(self):\n",
    "        pass\n",
    "    @abc.abstractclassmethod\n",
    "    def studebt_assignment(self):\n",
    "        pass\n",
    "    @abc.abstractclassmethod\n",
    "    def student_marks(self):\n",
    "        pass\n",
    "    "
   ]
  },
  {
   "cell_type": "code",
   "execution_count": 7,
   "id": "7cd2b21b-6d33-49b9-bdc4-1d352cfa8ac4",
   "metadata": {},
   "outputs": [],
   "source": [
    "class students_details(pwskills):\n",
    "    def students_details(self):\n",
    "        return \"this is a methode for taking student details\"\n",
    "    def student_marks(self):\n",
    "        return\"this is method returms marks of student\"\n",
    "    "
   ]
  },
  {
   "cell_type": "code",
   "execution_count": 8,
   "id": "18e9b4a2-4ec3-464a-9e36-a1e7f2b9264b",
   "metadata": {},
   "outputs": [],
   "source": [
    "class data_science(pwskills):\n",
    "    def students_details(self):\n",
    "        return \"details of data sceince sr=tudents\"\n",
    "    def student_marks(self):\n",
    "        return \"retun marks of data science students\""
   ]
  },
  {
   "cell_type": "code",
   "execution_count": 9,
   "id": "f10a22b7-40cb-4adf-8e48-172dd98dcb97",
   "metadata": {},
   "outputs": [],
   "source": [
    "dsm=data_science()"
   ]
  },
  {
   "cell_type": "code",
   "execution_count": 11,
   "id": "ef9a8f59-31b0-4f2e-b0b9-7113d31b10a2",
   "metadata": {},
   "outputs": [
    {
     "data": {
      "text/plain": [
       "'details of data sceince sr=tudents'"
      ]
     },
     "execution_count": 11,
     "metadata": {},
     "output_type": "execute_result"
    }
   ],
   "source": [
    "dsm.students_details()"
   ]
  },
  {
   "cell_type": "code",
   "execution_count": 13,
   "id": "d931710c-ac9d-49b7-8c2b-a044d6b3adfa",
   "metadata": {},
   "outputs": [],
   "source": [
    "dsm.studebt_assignment()"
   ]
  },
  {
   "cell_type": "code",
   "execution_count": 14,
   "id": "d165b8b1-212b-45d1-b5d8-feb9499efba3",
   "metadata": {},
   "outputs": [
    {
     "data": {
      "text/plain": [
       "'retun marks of data science students'"
      ]
     },
     "execution_count": 14,
     "metadata": {},
     "output_type": "execute_result"
    }
   ],
   "source": [
    "dsm.student_marks()"
   ]
  },
  {
   "cell_type": "code",
   "execution_count": null,
   "id": "81fe8e61-beec-463c-b7bb-cd9dad1ac1c6",
   "metadata": {},
   "outputs": [],
   "source": []
  }
 ],
 "metadata": {
  "kernelspec": {
   "display_name": "Python 3 (ipykernel)",
   "language": "python",
   "name": "python3"
  },
  "language_info": {
   "codemirror_mode": {
    "name": "ipython",
    "version": 3
   },
   "file_extension": ".py",
   "mimetype": "text/x-python",
   "name": "python",
   "nbconvert_exporter": "python",
   "pygments_lexer": "ipython3",
   "version": "3.10.8"
  }
 },
 "nbformat": 4,
 "nbformat_minor": 5
}
