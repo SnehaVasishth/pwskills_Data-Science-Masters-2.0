{
 "cells": [
  {
   "cell_type": "code",
   "execution_count": 9,
   "id": "600569fb-1442-4256-ad9e-6679e2e30c1c",
   "metadata": {},
   "outputs": [],
   "source": [
    "class pwskills:\n",
    "    def __init__(self,course_price,course_name):\n",
    "        self.__course_price=course_price\n",
    "        self.course_name=course_name\n",
    "    @property\n",
    "    def course_price_access(self):\n",
    "        return self.__course_price\n",
    "    \n",
    "    \n",
    "    @course_price_access.setter  ## used for changing the value of private variavle through this function\n",
    "    def course_price_set(self,price):\n",
    "        if price<=3500:\n",
    "            pass\n",
    "        else:\n",
    "            self.__course_price=price\n",
    "    \n",
    "    @course_price_access.deleter\n",
    "    def delete_course_price(self):\n",
    "        del self.__course_price"
   ]
  },
  {
   "cell_type": "code",
   "execution_count": 10,
   "id": "57c8a005-0cc6-40b8-886d-358c00d5e3c9",
   "metadata": {},
   "outputs": [],
   "source": [
    "pw=pwskills(3500,\"data science masters\")"
   ]
  },
  {
   "cell_type": "code",
   "execution_count": 11,
   "id": "96876fd3-1b82-4f2b-bc82-d2a120c9b02d",
   "metadata": {},
   "outputs": [
    {
     "data": {
      "text/plain": [
       "3500"
      ]
     },
     "execution_count": 11,
     "metadata": {},
     "output_type": "execute_result"
    }
   ],
   "source": [
    "pw._pwskills__course_price  ##another user can'y\\t see the name of this variable hence can't able to access and modify it"
   ]
  },
  {
   "cell_type": "code",
   "execution_count": 12,
   "id": "d14321e5-8ef4-4f01-9f68-f4bea7849453",
   "metadata": {},
   "outputs": [
    {
     "data": {
      "text/plain": [
       "'data science masters'"
      ]
     },
     "execution_count": 12,
     "metadata": {},
     "output_type": "execute_result"
    }
   ],
   "source": [
    "pw.course_name"
   ]
  },
  {
   "cell_type": "code",
   "execution_count": 13,
   "id": "c0bdce15-34b7-4a5d-a071-98cbded5fd6d",
   "metadata": {},
   "outputs": [
    {
     "data": {
      "text/plain": [
       "3500"
      ]
     },
     "execution_count": 13,
     "metadata": {},
     "output_type": "execute_result"
    }
   ],
   "source": [
    "pw.course_price_access  ##through the function we can able to access the private variable also"
   ]
  },
  {
   "cell_type": "code",
   "execution_count": 7,
   "id": "50c0915b-bade-4daf-8f1c-80209310cfad",
   "metadata": {},
   "outputs": [],
   "source": [
    "pw.course_price_set=120000"
   ]
  },
  {
   "cell_type": "code",
   "execution_count": 8,
   "id": "358224fa-b541-4d99-8e86-dbf120c9d1cf",
   "metadata": {},
   "outputs": [
    {
     "data": {
      "text/plain": [
       "120000"
      ]
     },
     "execution_count": 8,
     "metadata": {},
     "output_type": "execute_result"
    }
   ],
   "source": [
    "pw.course_price_access"
   ]
  },
  {
   "cell_type": "code",
   "execution_count": 16,
   "id": "f2377e08-ad93-4140-9008-5bdf98875e32",
   "metadata": {},
   "outputs": [],
   "source": [
    "pw2=pwskills(12930,\"dsa\")"
   ]
  },
  {
   "cell_type": "code",
   "execution_count": 18,
   "id": "5d714a57-8aaa-471f-9685-05f436553066",
   "metadata": {},
   "outputs": [
    {
     "data": {
      "text/plain": [
       "12930"
      ]
     },
     "execution_count": 18,
     "metadata": {},
     "output_type": "execute_result"
    }
   ],
   "source": [
    "pw2.course_price_access"
   ]
  },
  {
   "cell_type": "code",
   "execution_count": 21,
   "id": "575065bd-552d-46a3-8842-4722c3b23af6",
   "metadata": {},
   "outputs": [],
   "source": [
    "del pw2.delete_course_price"
   ]
  },
  {
   "cell_type": "code",
   "execution_count": 22,
   "id": "77ecbea5-1eca-4512-8da4-def1a00ebd6f",
   "metadata": {},
   "outputs": [
    {
     "ename": "AttributeError",
     "evalue": "'pwskills' object has no attribute '_pwskills__course_price'",
     "output_type": "error",
     "traceback": [
      "\u001b[0;31m---------------------------------------------------------------------------\u001b[0m",
      "\u001b[0;31mAttributeError\u001b[0m                            Traceback (most recent call last)",
      "Cell \u001b[0;32mIn[22], line 1\u001b[0m\n\u001b[0;32m----> 1\u001b[0m \u001b[43mpw2\u001b[49m\u001b[38;5;241;43m.\u001b[39;49m\u001b[43mcourse_price_access\u001b[49m\n",
      "Cell \u001b[0;32mIn[9], line 7\u001b[0m, in \u001b[0;36mpwskills.course_price_access\u001b[0;34m(self)\u001b[0m\n\u001b[1;32m      5\u001b[0m \u001b[38;5;129m@property\u001b[39m\n\u001b[1;32m      6\u001b[0m \u001b[38;5;28;01mdef\u001b[39;00m \u001b[38;5;21mcourse_price_access\u001b[39m(\u001b[38;5;28mself\u001b[39m):\n\u001b[0;32m----> 7\u001b[0m     \u001b[38;5;28;01mreturn\u001b[39;00m \u001b[38;5;28;43mself\u001b[39;49m\u001b[38;5;241;43m.\u001b[39;49m\u001b[43m__course_price\u001b[49m\n",
      "\u001b[0;31mAttributeError\u001b[0m: 'pwskills' object has no attribute '_pwskills__course_price'"
     ]
    }
   ],
   "source": [
    "pw2.course_price_access"
   ]
  },
  {
   "cell_type": "code",
   "execution_count": null,
   "id": "946c5eb8-bb4d-4706-ab25-8cd89b318cb4",
   "metadata": {},
   "outputs": [],
   "source": []
  }
 ],
 "metadata": {
  "kernelspec": {
   "display_name": "Python 3 (ipykernel)",
   "language": "python",
   "name": "python3"
  },
  "language_info": {
   "codemirror_mode": {
    "name": "ipython",
    "version": 3
   },
   "file_extension": ".py",
   "mimetype": "text/x-python",
   "name": "python",
   "nbconvert_exporter": "python",
   "pygments_lexer": "ipython3",
   "version": "3.10.8"
  }
 },
 "nbformat": 4,
 "nbformat_minor": 5
}
