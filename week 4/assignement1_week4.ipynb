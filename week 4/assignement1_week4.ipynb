{
 "cells": [
  {
   "cell_type": "code",
   "execution_count": 1,
   "id": "70690471-17f7-4c86-b327-3060a187feeb",
   "metadata": {},
   "outputs": [],
   "source": [
    "##ques 1\n",
    "\n",
    "class students:\n",
    "    def __init__(self,name,rollno):\n",
    "        self.name=name\n",
    "        self.rollno=rollno\n",
    "    def details(self):\n",
    "        return self.name,self.rollno"
   ]
  },
  {
   "cell_type": "code",
   "execution_count": 2,
   "id": "4e68cdcc-fdfe-4017-b137-edbbaa5d0e05",
   "metadata": {},
   "outputs": [],
   "source": [
    "stu1=students(\"sneha\",2113091)   ##this is the obeject of class students"
   ]
  },
  {
   "cell_type": "code",
   "execution_count": 3,
   "id": "c134d683-23cf-410d-afcb-006c78ea9045",
   "metadata": {},
   "outputs": [
    {
     "data": {
      "text/plain": [
       "('sneha', 2113091)"
      ]
     },
     "execution_count": 3,
     "metadata": {},
     "output_type": "execute_result"
    }
   ],
   "source": [
    "stu1.details()"
   ]
  },
  {
   "cell_type": "code",
   "execution_count": null,
   "id": "87fe88d0-6f18-4944-ab49-65275ef3bf95",
   "metadata": {},
   "outputs": [],
   "source": [
    "\n"
   ]
  },
  {
   "cell_type": "markdown",
   "id": "ceb3c3b6-0c14-43cf-a6a6-710dcbbef0b8",
   "metadata": {},
   "source": [
    "ques 2\n",
    "1. Encapulation= Capulating the class variables so that users can not set or access directly some varibales\n",
    "\n",
    "2. Inheritance- properties or characterstics inherited by child from parents. Here in OOPS, some class are inhrited from other due to this the object of child class can access the functions and methods of parent class\n",
    "\n",
    "\n",
    "3. Polymorphism- This propeety suggest that a person can have muktiple roles though that person is same. Here in oops, a function can play different roles. \n",
    "\n",
    "4. Abstraction- It is used in oops for mking the design for the class , this design later can be inherited by other class .\n"
   ]
  },
  {
   "cell_type": "code",
   "execution_count": null,
   "id": "5fd4b421-ecdf-4f37-9079-b8032e8346c5",
   "metadata": {},
   "outputs": [],
   "source": []
  },
  {
   "cell_type": "markdown",
   "id": "efa27c69-84e2-49a0-97cb-e4a437498b4b",
   "metadata": {},
   "source": [
    "##ques 3\n",
    "\n",
    "\n",
    "__init__ is a dunder function which is called by python for making the object and to initailaise the attributes of object of  class"
   ]
  },
  {
   "cell_type": "code",
   "execution_count": 4,
   "id": "f0328a0e-b163-4e54-9d67-c9c48400c1ee",
   "metadata": {},
   "outputs": [],
   "source": [
    "class house:\n",
    "    def __init__(self,house_price):\n",
    "        self.price=house_price"
   ]
  },
  {
   "cell_type": "code",
   "execution_count": null,
   "id": "04d8fd2a-0c24-4bc5-a99f-804c235aab6e",
   "metadata": {},
   "outputs": [],
   "source": []
  },
  {
   "cell_type": "markdown",
   "id": "32eeb9a4-2d02-4664-9ba9-da005392cdfc",
   "metadata": {},
   "source": [
    "##ques 4\n",
    "\n",
    "Self is a object which is used to bind the methods with a paticular class within which it is define\n",
    "Self is used to access attributes used within method\n"
   ]
  },
  {
   "cell_type": "code",
   "execution_count": null,
   "id": "47e1094b-d6a6-4ed6-b241-022d57beeeee",
   "metadata": {},
   "outputs": [],
   "source": []
  },
  {
   "cell_type": "markdown",
   "id": "f66c7ab6-1aa1-44e5-95f6-78e10746018b",
   "metadata": {},
   "source": [
    "##ques 5\n",
    "\n",
    "Inheritance is a concept of oops which indicates the properity of how a child inherit the charcterstics from his parents .\n",
    "Similarly a class if inherited from other than object of child class can access all of the functions and methods of parent class\n",
    "\n",
    "\n",
    "\n"
   ]
  },
  {
   "cell_type": "markdown",
   "id": "9c27365b-b6a5-40d7-8d59-6c6d777e5db1",
   "metadata": {},
   "source": [
    "TYPES :"
   ]
  },
  {
   "cell_type": "code",
   "execution_count": 7,
   "id": "f9a40ba7-c222-4027-99ed-8d38aa7415bc",
   "metadata": {},
   "outputs": [
    {
     "name": "stdout",
     "output_type": "stream",
     "text": [
      "this parent function\n",
      "this is child function\n"
     ]
    }
   ],
   "source": [
    "##1. Single level inheritance\n",
    "\n",
    "class parent:\n",
    "    def func1(self):\n",
    "        print(\"this parent function\")\n",
    "\n",
    "class child(parent):\n",
    "    def func2(self):\n",
    "        print(\"this is child function\")\n",
    "\n",
    "child1=child()\n",
    "child1.func1()\n",
    "child1.func2()\n"
   ]
  },
  {
   "cell_type": "code",
   "execution_count": 9,
   "id": "1b5dbb52-b250-4f3a-8346-a3cbc4a9c1db",
   "metadata": {},
   "outputs": [
    {
     "name": "stdout",
     "output_type": "stream",
     "text": [
      "this grandparent function\n",
      "this is parent function\n",
      "this grandparent function\n"
     ]
    }
   ],
   "source": [
    "##2.  MUltilevel inheritance\n",
    "\n",
    "class grandparent:\n",
    "      def func1(self):\n",
    "        print(\"this grandparent function\")\n",
    "\n",
    "class parent(grandparent):\n",
    "    def func2(self):\n",
    "        print(\"this is parent function\")\n",
    "\n",
    "        \n",
    "class child(parent):\n",
    "    def func3(self):\n",
    "        print(\"this is child function\")\n",
    "        \n",
    "parent1=parent()\n",
    "parent1.func1()\n",
    "child1=child()\n",
    "child1.func2()\n",
    "child1.func1()"
   ]
  },
  {
   "cell_type": "code",
   "execution_count": 10,
   "id": "26931956-f827-45a1-b68e-3110adcef4b9",
   "metadata": {},
   "outputs": [
    {
     "name": "stdout",
     "output_type": "stream",
     "text": [
      "I am mother\n",
      "I am father\n"
     ]
    }
   ],
   "source": [
    "## 3. Multiple inheritance\n",
    "\n",
    "class mother:\n",
    "    def func1(self):\n",
    "        print(\"I am mother\")\n",
    "        \n",
    "class father:\n",
    "    def func2(self):\n",
    "        print(\"I am father\")\n",
    "        \n",
    "        \n",
    "class child(mother,father):\n",
    "    def func3(self):\n",
    "        print(\"I am child\")\n",
    "        \n",
    "        \n",
    "child1=child()\n",
    "child1.func1()\n",
    "child1.func2()"
   ]
  },
  {
   "cell_type": "code",
   "execution_count": 11,
   "id": "c7961aec-fc9c-4662-9712-5fbdade79a41",
   "metadata": {},
   "outputs": [
    {
     "name": "stdout",
     "output_type": "stream",
     "text": [
      "this is parent function\n",
      "this is parent function\n"
     ]
    }
   ],
   "source": [
    "## 4. heirarchy inheritance\n",
    "\n",
    "class parent:\n",
    "    def func1(self):\n",
    "        print(\"this is parent function\")\n",
    "\n",
    "        \n",
    "class son(parent):\n",
    "    def func2(self):\n",
    "        print(\"this is son\")\n",
    "        \n",
    "        \n",
    "class daughter(parent):\n",
    "    def func3(self):\n",
    "        print(\"this is daughter\")\n",
    "        \n",
    "daughter1=daughter()\n",
    "daughter1.func1()\n",
    "son1=son()\n",
    "son1.func1()\n",
    "\n"
   ]
  },
  {
   "cell_type": "code",
   "execution_count": 12,
   "id": "b190d519-8612-41e7-a8bc-cec390bf1155",
   "metadata": {},
   "outputs": [
    {
     "name": "stdout",
     "output_type": "stream",
     "text": [
      "i am mother\n",
      "this is parent function\n",
      "this is daughter\n",
      "this is parent function\n"
     ]
    }
   ],
   "source": [
    "##5. hybrid inheritamce (below example is the mixture of herirchay and multiple inheritance)\n",
    "class mother:\n",
    "    def func0(self):\n",
    "        print(\"i am mother\")\n",
    "        \n",
    "        \n",
    "class parent:\n",
    "    def func1(self):\n",
    "        print(\"this is parent function\")\n",
    "\n",
    "        \n",
    "class son(parent):\n",
    "    def func2(self):\n",
    "        print(\"this is son\")\n",
    "        \n",
    "        \n",
    "class daughter(parent,mother):\n",
    "    def func3(self):\n",
    "        print(\"this is daughter\")\n",
    "\n",
    "        \n",
    "        \n",
    "daughter2=daughter()\n",
    "daughter2.func0()\n",
    "daughter2.func1()\n",
    "daughter2.func3()\n",
    "son2=son()\n",
    "son2.func1()\n",
    "        "
   ]
  },
  {
   "cell_type": "code",
   "execution_count": null,
   "id": "964af67a-c617-40f1-87f9-5c6aaf45b687",
   "metadata": {},
   "outputs": [],
   "source": []
  }
 ],
 "metadata": {
  "kernelspec": {
   "display_name": "Python 3 (ipykernel)",
   "language": "python",
   "name": "python3"
  },
  "language_info": {
   "codemirror_mode": {
    "name": "ipython",
    "version": 3
   },
   "file_extension": ".py",
   "mimetype": "text/x-python",
   "name": "python",
   "nbconvert_exporter": "python",
   "pygments_lexer": "ipython3",
   "version": "3.10.8"
  }
 },
 "nbformat": 4,
 "nbformat_minor": 5
}
