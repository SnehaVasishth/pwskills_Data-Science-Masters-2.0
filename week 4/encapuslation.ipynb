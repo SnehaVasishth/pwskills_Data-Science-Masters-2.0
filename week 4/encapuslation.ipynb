{
 "cells": [
  {
   "cell_type": "code",
   "execution_count": 2,
   "id": "54ee94fd-a740-4855-8ee7-463592c79ebf",
   "metadata": {},
   "outputs": [],
   "source": [
    "class test:\n",
    "    def __init__(self,a,b):\n",
    "        self.a=a\n",
    "        self.b=b\n",
    "        "
   ]
  },
  {
   "cell_type": "code",
   "execution_count": 3,
   "id": "2840e859-2104-429c-b4eb-6c1430a29231",
   "metadata": {},
   "outputs": [],
   "source": [
    "t=test(23,56)"
   ]
  },
  {
   "cell_type": "code",
   "execution_count": 4,
   "id": "88d225d1-8e49-47fc-80db-b08b9e9819cb",
   "metadata": {},
   "outputs": [
    {
     "data": {
      "text/plain": [
       "23"
      ]
     },
     "execution_count": 4,
     "metadata": {},
     "output_type": "execute_result"
    }
   ],
   "source": [
    "t.a"
   ]
  },
  {
   "cell_type": "code",
   "execution_count": 5,
   "id": "a1cc89f7-c334-4ee9-befa-fcbe96dd9788",
   "metadata": {},
   "outputs": [
    {
     "data": {
      "text/plain": [
       "56"
      ]
     },
     "execution_count": 5,
     "metadata": {},
     "output_type": "execute_result"
    }
   ],
   "source": [
    "t.b"
   ]
  },
  {
   "cell_type": "code",
   "execution_count": 6,
   "id": "3a90a9d7-4524-4cdc-a26c-4d59785d4052",
   "metadata": {},
   "outputs": [],
   "source": [
    "t.a=34556\n"
   ]
  },
  {
   "cell_type": "code",
   "execution_count": 8,
   "id": "245c317e-5a55-4092-b7b2-ad5c83af9ecc",
   "metadata": {},
   "outputs": [
    {
     "data": {
      "text/plain": [
       "34556"
      ]
     },
     "execution_count": 8,
     "metadata": {},
     "output_type": "execute_result"
    }
   ],
   "source": [
    "t.a  # here the value of a get modified, if a user comes to know about what kind of variables in the class then it can modify them also.Encapsulation helps to hide the internal structaure\n",
    "#and variable of class from useer"
   ]
  },
  {
   "cell_type": "code",
   "execution_count": 9,
   "id": "022cef97-6c55-416c-bfc8-8b0aaf51a0d7",
   "metadata": {},
   "outputs": [],
   "source": [
    "# encapsulation helps to capsulate or wrap up the class so that we can control how much access has to give toa  user"
   ]
  },
  {
   "cell_type": "code",
   "execution_count": 13,
   "id": "baa6ae76-2242-44a1-af0a-883f8b6b2ed4",
   "metadata": {},
   "outputs": [],
   "source": [
    "class car:\n",
    "    def __init__(self,make,year,model,speed):\n",
    "        self.__year=year  # this variable will be hidden from the user\n",
    "        self.__make=make\n",
    "        self.__model=model\n",
    "        self.__speed=speed"
   ]
  },
  {
   "cell_type": "markdown",
   "id": "01112456-377d-4aa5-9912-72f2d1e8121b",
   "metadata": {},
   "source": [
    "c=car() # no permiter passed"
   ]
  },
  {
   "cell_type": "code",
   "execution_count": 15,
   "id": "2fdc6036-c85c-4191-847f-b4ecf6137858",
   "metadata": {},
   "outputs": [],
   "source": [
    "c=car(\"toyata\",2010,\"innova\",100)"
   ]
  },
  {
   "cell_type": "markdown",
   "id": "5964805d-2145-4908-99be-12bd5872ed10",
   "metadata": {},
   "source": [
    "c.  #on pressing tab its not showing th list of methods attributes of class car"
   ]
  },
  {
   "cell_type": "markdown",
   "id": "88f18fe5-c45b-4ab6-b56b-35c1da5ff426",
   "metadata": {},
   "source": [
    "c.__year  #yeh wala bhi nhi chal raha"
   ]
  },
  {
   "cell_type": "markdown",
   "id": "414d4e60-38ba-40ca-a73c-2a14b2ef6ef5",
   "metadata": {},
   "source": [
    "c.year  # no usch attribute wala error"
   ]
  },
  {
   "cell_type": "code",
   "execution_count": 18,
   "id": "5ad454f7-482b-4330-a94d-a4f9b823ff33",
   "metadata": {},
   "outputs": [
    {
     "data": {
      "text/plain": [
       "2010"
      ]
     },
     "execution_count": 18,
     "metadata": {},
     "output_type": "execute_result"
    }
   ],
   "source": [
    "c._car__year  "
   ]
  },
  {
   "cell_type": "code",
   "execution_count": 23,
   "id": "ad3144bf-500e-4312-a8cb-76a2359cb3ad",
   "metadata": {},
   "outputs": [],
   "source": [
    "class car1:\n",
    "    def __init__(self,make,year,model,speed):\n",
    "        self.__year=year  # this variable will be hidden from the user\n",
    "        self.__make=make\n",
    "        self.__model=model\n",
    "        self.__speed=speed\n",
    "    def set_speed(self,speed):\n",
    "        self.__speed=0 if speed<0 else speed\n",
    "    def get_speed(self):\n",
    "        return self.__speed"
   ]
  },
  {
   "cell_type": "code",
   "execution_count": 24,
   "id": "dc89a9fb-be0e-42af-ba7a-e545d2d4e924",
   "metadata": {},
   "outputs": [],
   "source": [
    "a=car1(\"maruti\",2006,\"swift\",100)"
   ]
  },
  {
   "cell_type": "code",
   "execution_count": 30,
   "id": "e89f2845-923f-4ee4-9b6e-95d230d84ccf",
   "metadata": {},
   "outputs": [
    {
     "data": {
      "text/plain": [
       "<bound method car1.get_speed of <__main__.car1 object at 0x7fa8e4c2ce20>>"
      ]
     },
     "execution_count": 30,
     "metadata": {},
     "output_type": "execute_result"
    }
   ],
   "source": [
    "a.get_speed\n",
    "# now its showing set speed and get speed as methods ,a l other variables and __init__ stolll hidden"
   ]
  },
  {
   "cell_type": "code",
   "execution_count": 31,
   "id": "6f34c7e7-271f-4aa7-a382-b16953896bcd",
   "metadata": {},
   "outputs": [
    {
     "data": {
      "text/plain": [
       "0"
      ]
     },
     "execution_count": 31,
     "metadata": {},
     "output_type": "execute_result"
    }
   ],
   "source": [
    "a.get_speed()"
   ]
  },
  {
   "cell_type": "code",
   "execution_count": 32,
   "id": "f4e0abd4-2a4c-4bf5-9069-270782a9100f",
   "metadata": {},
   "outputs": [],
   "source": [
    "a.set_speed(-234)"
   ]
  },
  {
   "cell_type": "code",
   "execution_count": 33,
   "id": "ea62b050-51f8-45b2-80f3-64f152e1a107",
   "metadata": {},
   "outputs": [
    {
     "data": {
      "text/plain": [
       "0"
      ]
     },
     "execution_count": 33,
     "metadata": {},
     "output_type": "execute_result"
    }
   ],
   "source": [
    "a.get_speed()"
   ]
  },
  {
   "cell_type": "code",
   "execution_count": 48,
   "id": "ebf889b1-d924-4973-a35d-e85c7c26bdb7",
   "metadata": {},
   "outputs": [],
   "source": [
    "class bank_account:\n",
    "    def __init__(self,balance):\n",
    "        self.__balance=balance\n",
    "    def deposite(self,amount):\n",
    "        self.__balance=self.__balance+amount\n",
    "    def withdraw(self,amount):\n",
    "        if(self.__balance>=amount):\n",
    "            self.__balance=self.__balance-amount\n",
    "            return True\n",
    "        else:\n",
    "            return False\n",
    "    def get_balance(self):\n",
    "        return self.__balance"
   ]
  },
  {
   "cell_type": "code",
   "execution_count": 49,
   "id": "447eefb5-16aa-4e98-97cb-5a64b9d8db39",
   "metadata": {},
   "outputs": [],
   "source": [
    "sneha=bank_account(1200)"
   ]
  },
  {
   "cell_type": "markdown",
   "id": "5164fb9c-e029-4dd4-8b30-4a0763c6fd59",
   "metadata": {},
   "source": [
    "sneha.  #on pressing tab only public functions are visible , the variables like amount \n",
    "#and balance is still hidden"
   ]
  },
  {
   "cell_type": "code",
   "execution_count": 50,
   "id": "294c1cf3-168c-45e6-83f3-0499aaf2d7b9",
   "metadata": {},
   "outputs": [
    {
     "data": {
      "text/plain": [
       "1200"
      ]
     },
     "execution_count": 50,
     "metadata": {},
     "output_type": "execute_result"
    }
   ],
   "source": [
    "sneha.get_balance()"
   ]
  },
  {
   "cell_type": "code",
   "execution_count": 51,
   "id": "30b20c8c-e377-414c-969b-6d5987e46061",
   "metadata": {},
   "outputs": [],
   "source": [
    "sneha.deposite(4500)"
   ]
  },
  {
   "cell_type": "code",
   "execution_count": 52,
   "id": "aa5ecd40-3ca2-4358-a090-14caa025c6a8",
   "metadata": {},
   "outputs": [
    {
     "data": {
      "text/plain": [
       "5700"
      ]
     },
     "execution_count": 52,
     "metadata": {},
     "output_type": "execute_result"
    }
   ],
   "source": [
    "sneha.get_balance()"
   ]
  },
  {
   "cell_type": "code",
   "execution_count": 54,
   "id": "88928c6e-11ea-4e2b-9d25-9efb1c4bb465",
   "metadata": {},
   "outputs": [
    {
     "data": {
      "text/plain": [
       "False"
      ]
     },
     "execution_count": 54,
     "metadata": {},
     "output_type": "execute_result"
    }
   ],
   "source": [
    "sneha.withdraw(239944) "
   ]
  },
  {
   "cell_type": "code",
   "execution_count": null,
   "id": "568c3dc3-b4f1-49f7-a97d-27f406ef4b0f",
   "metadata": {},
   "outputs": [],
   "source": []
  }
 ],
 "metadata": {
  "kernelspec": {
   "display_name": "Python 3 (ipykernel)",
   "language": "python",
   "name": "python3"
  },
  "language_info": {
   "codemirror_mode": {
    "name": "ipython",
    "version": 3
   },
   "file_extension": ".py",
   "mimetype": "text/x-python",
   "name": "python",
   "nbconvert_exporter": "python",
   "pygments_lexer": "ipython3",
   "version": "3.10.8"
  }
 },
 "nbformat": 4,
 "nbformat_minor": 5
}
