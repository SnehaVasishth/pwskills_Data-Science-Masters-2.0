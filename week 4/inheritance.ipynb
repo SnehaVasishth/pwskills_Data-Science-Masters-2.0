{
 "cells": [
  {
   "cell_type": "code",
   "execution_count": 7,
   "id": "23f26911-c664-4b4b-877f-1c652fba3597",
   "metadata": {},
   "outputs": [],
   "source": [
    "class test:\n",
    "    def test_meth(self):\n",
    "        return \"this is my firest class\""
   ]
  },
  {
   "cell_type": "code",
   "execution_count": 8,
   "id": "d76a71e5-7d14-4ade-b68d-d351a78df133",
   "metadata": {},
   "outputs": [],
   "source": [
    "class child_test(test):\n",
    "    pass"
   ]
  },
  {
   "cell_type": "code",
   "execution_count": 11,
   "id": "54fc25b7-6cc5-4850-a1ff-f3260486293f",
   "metadata": {},
   "outputs": [],
   "source": [
    "child_test_obj=child_test()"
   ]
  },
  {
   "cell_type": "code",
   "execution_count": 12,
   "id": "91f5788c-ca95-42d6-a098-89e3c653161f",
   "metadata": {},
   "outputs": [
    {
     "data": {
      "text/plain": [
       "'this is my firest class'"
      ]
     },
     "execution_count": 12,
     "metadata": {},
     "output_type": "execute_result"
    }
   ],
   "source": [
    "child_test_obj.test_meth()  #though child_test_obj is the object of child_test still its uding method of test"
   ]
  },
  {
   "cell_type": "code",
   "execution_count": 13,
   "id": "0a3c31ab-2f5d-4ae1-9d15-d9fd492cd737",
   "metadata": {},
   "outputs": [],
   "source": [
    "class class1:\n",
    "    def test_class1(self):\n",
    "        return \"this is a meth from class 1\"\n",
    "    \n"
   ]
  },
  {
   "cell_type": "code",
   "execution_count": 14,
   "id": "7bd50b8f-5f1c-4384-9366-1f96ea426d60",
   "metadata": {},
   "outputs": [],
   "source": [
    "class class2(class1):\n",
    "    def test_class2(self):\n",
    "        return \"this is a method of class 2\""
   ]
  },
  {
   "cell_type": "code",
   "execution_count": 15,
   "id": "289b212c-d435-403a-b443-276d1185a66b",
   "metadata": {},
   "outputs": [],
   "source": [
    "class class3(class2):\n",
    "    pass"
   ]
  },
  {
   "cell_type": "code",
   "execution_count": 16,
   "id": "161701a2-384c-4875-a8bc-f9d078de23ca",
   "metadata": {},
   "outputs": [],
   "source": [
    "obj_class3= class3()\n"
   ]
  },
  {
   "cell_type": "code",
   "execution_count": 17,
   "id": "00a63409-0468-434b-a4dc-25a7dc89b3ff",
   "metadata": {},
   "outputs": [
    {
     "data": {
      "text/plain": [
       "<bound method class1.test_class1 of <__main__.class3 object at 0x7f25e32956c0>>"
      ]
     },
     "execution_count": 17,
     "metadata": {},
     "output_type": "execute_result"
    }
   ],
   "source": [
    "obj_class3.test_class1"
   ]
  },
  {
   "cell_type": "code",
   "execution_count": 18,
   "id": "56cb15df-f215-43a0-9b6a-6c2b45427fd5",
   "metadata": {},
   "outputs": [
    {
     "data": {
      "text/plain": [
       "'this is a meth from class 1'"
      ]
     },
     "execution_count": 18,
     "metadata": {},
     "output_type": "execute_result"
    }
   ],
   "source": [
    "obj_class3.test_class1()"
   ]
  },
  {
   "cell_type": "code",
   "execution_count": 19,
   "id": "b7f58a50-a8e9-4440-80a7-60db0422d5d8",
   "metadata": {},
   "outputs": [
    {
     "data": {
      "text/plain": [
       "'this is a method of class 2'"
      ]
     },
     "execution_count": 19,
     "metadata": {},
     "output_type": "execute_result"
    }
   ],
   "source": [
    "obj_class3.test_class2()"
   ]
  },
  {
   "cell_type": "code",
   "execution_count": 20,
   "id": "cc1275d9-90d3-4189-b794-f9bfb82b47d0",
   "metadata": {},
   "outputs": [],
   "source": [
    "# above example of multilevel inheritance"
   ]
  },
  {
   "cell_type": "code",
   "execution_count": 21,
   "id": "e3e4913c-eadc-413f-9307-e0c48fb31a92",
   "metadata": {},
   "outputs": [],
   "source": [
    "class class1:\n",
    "    def test_class(self):\n",
    "        return \"this is a class 1\""
   ]
  },
  {
   "cell_type": "code",
   "execution_count": 22,
   "id": "5243bb65-17d5-4a0a-bebc-2001a8c5a973",
   "metadata": {},
   "outputs": [],
   "source": [
    "class class2:\n",
    "    def test_class2(self):\n",
    "        return \"this is class2\""
   ]
  },
  {
   "cell_type": "code",
   "execution_count": 23,
   "id": "fe391e85-23ff-42ef-aa4b-b35aa90e5ba1",
   "metadata": {},
   "outputs": [],
   "source": [
    "class class3(class1,class2):\n",
    "    pass"
   ]
  },
  {
   "cell_type": "code",
   "execution_count": 24,
   "id": "b4885f5f-fbc4-403c-a1f8-e64480ae35ab",
   "metadata": {},
   "outputs": [],
   "source": [
    "class3_obj=class3()"
   ]
  },
  {
   "cell_type": "code",
   "execution_count": 25,
   "id": "22566381-94a6-4691-8eb5-c8bb2ad044d7",
   "metadata": {},
   "outputs": [
    {
     "data": {
      "text/plain": [
       "'this is a class 1'"
      ]
     },
     "execution_count": 25,
     "metadata": {},
     "output_type": "execute_result"
    }
   ],
   "source": [
    "class3_obj.test_class()"
   ]
  },
  {
   "cell_type": "code",
   "execution_count": 26,
   "id": "edf2e488-c322-42b8-8aec-d8867c8fce87",
   "metadata": {},
   "outputs": [
    {
     "data": {
      "text/plain": [
       "'this is class2'"
      ]
     },
     "execution_count": 26,
     "metadata": {},
     "output_type": "execute_result"
    }
   ],
   "source": [
    "class3_obj.test_class2()"
   ]
  },
  {
   "cell_type": "code",
   "execution_count": 27,
   "id": "0063567a-7dc2-41f7-ac4d-d1e97e72d643",
   "metadata": {},
   "outputs": [],
   "source": [
    "#above example of multipele inheritance"
   ]
  },
  {
   "cell_type": "code",
   "execution_count": null,
   "id": "1468907b-a0ac-4d87-8312-976f8a280446",
   "metadata": {},
   "outputs": [],
   "source": []
  }
 ],
 "metadata": {
  "kernelspec": {
   "display_name": "Python 3 (ipykernel)",
   "language": "python",
   "name": "python3"
  },
  "language_info": {
   "codemirror_mode": {
    "name": "ipython",
    "version": 3
   },
   "file_extension": ".py",
   "mimetype": "text/x-python",
   "name": "python",
   "nbconvert_exporter": "python",
   "pygments_lexer": "ipython3",
   "version": "3.10.8"
  }
 },
 "nbformat": 4,
 "nbformat_minor": 5
}
