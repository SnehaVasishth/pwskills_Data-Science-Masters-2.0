{
 "cells": [
  {
   "cell_type": "code",
   "execution_count": 1,
   "id": "62f4f658-fdd9-4e70-90cb-bb6abe52cd86",
   "metadata": {},
   "outputs": [
    {
     "name": "stdout",
     "output_type": "stream",
     "text": [
      "<class 'int'>\n"
     ]
    }
   ],
   "source": [
    "a=1\n",
    "print(type(a))"
   ]
  },
  {
   "cell_type": "markdown",
   "id": "d72552d3-c418-4adb-81f2-6e7db8a13776",
   "metadata": {},
   "source": [
    "class test:"
   ]
  },
  {
   "cell_type": "code",
   "execution_count": 2,
   "id": "09ae2bfc-6783-44e0-ad5a-ef2258b19497",
   "metadata": {},
   "outputs": [],
   "source": [
    "class test:\n",
    "    pass"
   ]
  },
  {
   "cell_type": "code",
   "execution_count": 3,
   "id": "a7dc3959-9861-4999-8ce3-c22f9222d21d",
   "metadata": {},
   "outputs": [
    {
     "name": "stdout",
     "output_type": "stream",
     "text": [
      "<class '__main__.test'>\n"
     ]
    }
   ],
   "source": [
    "a=test()\n",
    "print(type(a))"
   ]
  },
  {
   "cell_type": "code",
   "execution_count": 4,
   "id": "f7bf8787-ca1b-4e4d-abe1-cf8e05f7d0d5",
   "metadata": {},
   "outputs": [],
   "source": [
    "class pwskills:\n",
    "    def welcome_msg(self):\n",
    "        print(\"welcome to pwskills\")"
   ]
  },
  {
   "cell_type": "code",
   "execution_count": 5,
   "id": "a80b796e-5f70-4f3a-bd00-7b309cc81a96",
   "metadata": {},
   "outputs": [
    {
     "name": "stdout",
     "output_type": "stream",
     "text": [
      "<class '__main__.pwskills'>\n"
     ]
    }
   ],
   "source": [
    "sneha=pwskills()\n",
    "print(type(sneha))  #senha is the object of class pwkillsss() class"
   ]
  },
  {
   "cell_type": "code",
   "execution_count": 6,
   "id": "0add1be7-c59c-4a81-985f-e43bbbd6b703",
   "metadata": {},
   "outputs": [
    {
     "name": "stdout",
     "output_type": "stream",
     "text": [
      "welcome to pwskills\n"
     ]
    }
   ],
   "source": [
    "sneha.welcome_msg()"
   ]
  },
  {
   "cell_type": "code",
   "execution_count": 7,
   "id": "f704fee8-5533-4a4c-a987-de037e4467ff",
   "metadata": {},
   "outputs": [],
   "source": [
    "gaurav=pwskills()"
   ]
  },
  {
   "cell_type": "code",
   "execution_count": 10,
   "id": "67ac32c4-0b87-4894-a094-f6364cb0bef2",
   "metadata": {},
   "outputs": [
    {
     "name": "stdout",
     "output_type": "stream",
     "text": [
      "welcome to pwskills\n"
     ]
    }
   ],
   "source": [
    "gaurav.welcome_msg()"
   ]
  },
  {
   "cell_type": "code",
   "execution_count": 18,
   "id": "3b20eee6-d6bc-4eae-ac26-c6632ba74f75",
   "metadata": {},
   "outputs": [],
   "source": [
    "class pwskills1:\n",
    "    def __init__(self,phone_number,email_id,student_id):\n",
    "        self.phone_number=phone_number\n",
    "        self.email_id=email_id\n",
    "        self.student_id=student_id\n",
    "    def return_student_detail(self):\n",
    "        return self.student_id,self.email_id,self.phone_number\n",
    "    "
   ]
  },
  {
   "cell_type": "markdown",
   "id": "3d2629a2-3224-4084-a55c-d162986a2452",
   "metadata": {},
   "source": [
    "sneha=pwskills1()"
   ]
  },
  {
   "cell_type": "code",
   "execution_count": 19,
   "id": "87c6dfc8-9b47-4262-afae-7e093c92db62",
   "metadata": {},
   "outputs": [],
   "source": [
    "sneha=pwskills1(9315269634,\"snehavasishth03@gmail.com\",2113091)"
   ]
  },
  {
   "cell_type": "code",
   "execution_count": 20,
   "id": "05092ee7-cdcd-4297-ba9f-fb01453f59c3",
   "metadata": {},
   "outputs": [],
   "source": [
    "#to access class variab;e we have to use self."
   ]
  },
  {
   "cell_type": "code",
   "execution_count": 21,
   "id": "fb13ad65-5e47-4bab-9791-63b54e9841f8",
   "metadata": {},
   "outputs": [
    {
     "data": {
      "text/plain": [
       "(2113091, 'snehavasishth03@gmail.com', 9315269634)"
      ]
     },
     "execution_count": 21,
     "metadata": {},
     "output_type": "execute_result"
    }
   ],
   "source": [
    "sneha.return_student_detail()"
   ]
  },
  {
   "cell_type": "code",
   "execution_count": 22,
   "id": "9e962564-3c24-4d42-b50e-932dce4f40e3",
   "metadata": {},
   "outputs": [
    {
     "data": {
      "text/plain": [
       "2113091"
      ]
     },
     "execution_count": 22,
     "metadata": {},
     "output_type": "execute_result"
    }
   ],
   "source": [
    "sneha.student_id"
   ]
  },
  {
   "cell_type": "code",
   "execution_count": 23,
   "id": "21cd33f5-0068-42c0-8e4a-dd4cc58c73e0",
   "metadata": {},
   "outputs": [
    {
     "data": {
      "text/plain": [
       "'snehavasishth03@gmail.com'"
      ]
     },
     "execution_count": 23,
     "metadata": {},
     "output_type": "execute_result"
    }
   ],
   "source": [
    "sneha.email_id"
   ]
  },
  {
   "cell_type": "code",
   "execution_count": 26,
   "id": "10e93287-7969-47a2-8435-1909b6bb7790",
   "metadata": {},
   "outputs": [],
   "source": [
    "class pwskills2:\n",
    "    def __init__(self,phone_number,email_id,student_id):\n",
    "        self.phone_number1 =phone_number\n",
    "        self.email_id1 =email_id\n",
    "        self.student_id1 =student_id\n",
    "    def return_student_detail(self):\n",
    "        return self.student_id,self.email_id,self.phone_number\n",
    "    "
   ]
  },
  {
   "cell_type": "code",
   "execution_count": 28,
   "id": "459968e9-d1bd-409a-b969-87ffffe67d77",
   "metadata": {},
   "outputs": [],
   "source": [
    "sneha=pwskills2(123456789,\"snehavasishth3@gmail.com\",2113091)"
   ]
  },
  {
   "cell_type": "markdown",
   "id": "b4cf9813-08ee-4ba2-b888-e9abba0661a3",
   "metadata": {},
   "source": [
    "sneha.phone_number   #phone_numberis  not the variable of the class pwskills(), it is used as parameter , but phone_number1 is the variable linked with class\n"
   ]
  },
  {
   "cell_type": "code",
   "execution_count": 33,
   "id": "91d301e0-c334-4488-9fcd-c3ad618adef4",
   "metadata": {},
   "outputs": [
    {
     "data": {
      "text/plain": [
       "123456789"
      ]
     },
     "execution_count": 33,
     "metadata": {},
     "output_type": "execute_result"
    }
   ],
   "source": [
    "sneha.phone_number1"
   ]
  },
  {
   "cell_type": "code",
   "execution_count": 35,
   "id": "a8eab52a-f40e-4ee6-8faf-665a31f414d4",
   "metadata": {},
   "outputs": [
    {
     "data": {
      "text/plain": [
       "'snehavasishth3@gmail.com'"
      ]
     },
     "execution_count": 35,
     "metadata": {},
     "output_type": "execute_result"
    }
   ],
   "source": [
    "sneha.email_id1"
   ]
  },
  {
   "cell_type": "markdown",
   "id": "5bcadffb-fceb-4f26-9edc-567551588800",
   "metadata": {},
   "source": [
    "sneha.return_student_detail()  #its returing the values which are not the elemesnt of class"
   ]
  },
  {
   "cell_type": "code",
   "execution_count": 38,
   "id": "ea581c7e-4699-4144-b673-b2b6d13581a8",
   "metadata": {},
   "outputs": [],
   "source": [
    "class pwskills3:\n",
    "    def __init__(self,phone_number,email_id,student_id):\n",
    "        self.phone_number1 =phone_number\n",
    "        self.email_id1 =email_id\n",
    "        self.student_id1 =student_id\n",
    "    def return_student_detail(self):\n",
    "        return self.student_id1,self.email_id1,self.phone_number1\n",
    "    "
   ]
  },
  {
   "cell_type": "code",
   "execution_count": 39,
   "id": "38cc3002-8f38-47c4-bb09-26bd0a1d3ffa",
   "metadata": {},
   "outputs": [],
   "source": [
    "sneha=pwskills3(1234,\"sneakjksj@gmail.com\",21332435543)"
   ]
  },
  {
   "cell_type": "code",
   "execution_count": 41,
   "id": "557ae700-83ad-4dfc-bf84-0cae4dade93c",
   "metadata": {},
   "outputs": [
    {
     "data": {
      "text/plain": [
       "(21332435543, 'sneakjksj@gmail.com', 1234)"
      ]
     },
     "execution_count": 41,
     "metadata": {},
     "output_type": "execute_result"
    }
   ],
   "source": [
    "sneha.return_student_detail()"
   ]
  },
  {
   "cell_type": "code",
   "execution_count": 47,
   "id": "8e9f6c2a-bd38-4843-b343-5eac7089b7b7",
   "metadata": {},
   "outputs": [],
   "source": [
    "class pwskills4:\n",
    "    def __init__(sneha,phone_number,email_id,student_id):\n",
    "        sneha.phone_number1 =phone_number\n",
    "        sneha.email_id1 =email_id\n",
    "        sneha.student_id1 =student_id\n",
    "    def return_student_detail(self):\n",
    "        return sneha.student_id1,sneha.email_id1,sneha.phone_number1\n"
   ]
  },
  {
   "cell_type": "code",
   "execution_count": 48,
   "id": "b5af4fa3-6e44-4bce-abb5-0aafa3d588cf",
   "metadata": {},
   "outputs": [],
   "source": [
    "aashi=pwskills4(1224455,\"asshi@gmail.com\",22445)"
   ]
  },
  {
   "cell_type": "code",
   "execution_count": 49,
   "id": "83a9e037-4779-4618-9cb1-4cb0e995bea9",
   "metadata": {},
   "outputs": [
    {
     "data": {
      "text/plain": [
       "(21332435543, 'sneakjksj@gmail.com', 1234)"
      ]
     },
     "execution_count": 49,
     "metadata": {},
     "output_type": "execute_result"
    }
   ],
   "source": [
    "aashi.return_student_detail()"
   ]
  },
  {
   "cell_type": "code",
   "execution_count": 50,
   "id": "86886f0c-9657-4bb8-be4e-43fc436b82e2",
   "metadata": {},
   "outputs": [],
   "source": [
    "# self is not reserved keyword, but we have to give first variable which points function methods, variable declaerd in class to get linked with that class"
   ]
  },
  {
   "cell_type": "code",
   "execution_count": 51,
   "id": "8f10de46-760f-471a-b2b1-d7a335a942d4",
   "metadata": {},
   "outputs": [
    {
     "data": {
      "text/plain": [
       "1224455"
      ]
     },
     "execution_count": 51,
     "metadata": {},
     "output_type": "execute_result"
    }
   ],
   "source": [
    "aashi.phone_number1"
   ]
  },
  {
   "cell_type": "code",
   "execution_count": null,
   "id": "3e4ae6f9-6295-4931-aa7a-979ad6bf09cc",
   "metadata": {},
   "outputs": [],
   "source": []
  }
 ],
 "metadata": {
  "kernelspec": {
   "display_name": "Python 3 (ipykernel)",
   "language": "python",
   "name": "python3"
  },
  "language_info": {
   "codemirror_mode": {
    "name": "ipython",
    "version": 3
   },
   "file_extension": ".py",
   "mimetype": "text/x-python",
   "name": "python",
   "nbconvert_exporter": "python",
   "pygments_lexer": "ipython3",
   "version": "3.10.8"
  }
 },
 "nbformat": 4,
 "nbformat_minor": 5
}
