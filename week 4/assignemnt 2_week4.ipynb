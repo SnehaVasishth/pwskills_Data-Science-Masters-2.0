{
 "cells": [
  {
   "cell_type": "markdown",
   "id": "b41162bb-3cfa-4278-8127-ad9f6da2862c",
   "metadata": {},
   "source": [
    "##ques 1\n",
    "\n",
    "Abstraction is a concept of oops, which means to design a layout for class which can later be inherited by other classes . Other classes can use those design set through abstraction"
   ]
  },
  {
   "cell_type": "code",
   "execution_count": 1,
   "id": "8bc1bad8-c425-4706-9fcf-fcb9ec7dfa64",
   "metadata": {},
   "outputs": [
    {
     "name": "stdin",
     "output_type": "stream",
     "text": [
      " data science\n"
     ]
    },
    {
     "name": "stdout",
     "output_type": "stream",
     "text": [
      "course taken: data science\n"
     ]
    },
    {
     "name": "stdin",
     "output_type": "stream",
     "text": [
      " 3500\n"
     ]
    },
    {
     "name": "stdout",
     "output_type": "stream",
     "text": [
      "price: 3500\n"
     ]
    }
   ],
   "source": [
    "##ques 1\n",
    "import abc\n",
    "class course:\n",
    "    \n",
    "    @abc.abstractmethod\n",
    "    def course_name(self):\n",
    "        pass\n",
    "    @abc.abstractmethod\n",
    "    def course_price(self):\n",
    "        pass\n",
    "    \n",
    "    \n",
    "class student(course):\n",
    "    coursename=\"\"\n",
    "    courseprice=0\n",
    "    \n",
    "    def course_name(self):\n",
    "        self.coursename=input()\n",
    "        print(\"course taken:\", self.coursename)\n",
    "    \n",
    "    def course_price(self):\n",
    "        self.courseprice=int(input())\n",
    "        print(\"price:\", self.courseprice)\n",
    "        \n",
    "\n",
    "    \n",
    "stud1=student()\n",
    "stud1.course_name()\n",
    "stud1.course_price()"
   ]
  },
  {
   "cell_type": "code",
   "execution_count": null,
   "id": "c9deec38-ec9b-4109-8145-26830559f7f2",
   "metadata": {},
   "outputs": [],
   "source": [
    "\n"
   ]
  },
  {
   "cell_type": "markdown",
   "id": "264b0395-a0ba-40c6-8812-8b8dbacf878e",
   "metadata": {},
   "source": [
    "##ques 2\n",
    "Abstraction means to divide the work into differnet layers. Abstraction is used to design the layout of classes while enacpuslation means to hide the hidden working of different methods\n",
    "\n",
    "\n"
   ]
  },
  {
   "cell_type": "code",
   "execution_count": 3,
   "id": "a7622ed0-db44-4459-a352-f6f7a4b9f3ce",
   "metadata": {},
   "outputs": [
    {
     "name": "stdout",
     "output_type": "stream",
     "text": [
      "20\n",
      "21\n"
     ]
    }
   ],
   "source": [
    "##example of encapsulation\n",
    "\n",
    "class student:\n",
    "    def __init__(self,name,age):\n",
    "        self.__name=name\n",
    "        self.__age=age\n",
    "    def get_name(self):\n",
    "        return self.__name\n",
    "    def set_age(self,age):\n",
    "        if age<0:\n",
    "            pass\n",
    "        else:\n",
    "            self.__age=age\n",
    "    def get_age(self):\n",
    "        print(self.__age)\n",
    "    \n",
    "stud1=student(\"sneha\",20)\n",
    "stud1.get_age()\n",
    "stud1.set_age(21)\n",
    "stud1.get_age()\n",
    "\n",
    "        "
   ]
  },
  {
   "cell_type": "code",
   "execution_count": 4,
   "id": "c71af9f2-fb5e-494a-b382-66deb8eef998",
   "metadata": {},
   "outputs": [
    {
     "name": "stdin",
     "output_type": "stream",
     "text": [
      " data science\n"
     ]
    },
    {
     "name": "stdout",
     "output_type": "stream",
     "text": [
      "course taken: data science\n"
     ]
    },
    {
     "name": "stdin",
     "output_type": "stream",
     "text": [
      " 20000\n"
     ]
    },
    {
     "name": "stdout",
     "output_type": "stream",
     "text": [
      "price: 20000\n"
     ]
    }
   ],
   "source": [
    "##example of abstraction\n",
    "\n",
    "import abc\n",
    "class course:\n",
    "    \n",
    "    @abc.abstractmethod\n",
    "    def course_name(self):\n",
    "        pass\n",
    "    @abc.abstractmethod\n",
    "    def course_price(self):\n",
    "        pass\n",
    "    \n",
    "    \n",
    "class student(course):\n",
    "    coursename=\"\"\n",
    "    courseprice=0\n",
    "    \n",
    "    def course_name(self):\n",
    "        self.coursename=input()\n",
    "        print(\"course taken:\", self.coursename)\n",
    "    \n",
    "    def course_price(self):\n",
    "        self.courseprice=int(input())\n",
    "        print(\"price:\", self.courseprice)\n",
    "        \n",
    "\n",
    "    \n",
    "stud1=student()\n",
    "stud1.course_name()\n",
    "stud1.course_price()"
   ]
  },
  {
   "cell_type": "code",
   "execution_count": null,
   "id": "4836a307-0dc5-4e9b-ad19-67dc0e654b54",
   "metadata": {},
   "outputs": [],
   "source": []
  },
  {
   "cell_type": "markdown",
   "id": "ab85b495-69db-4a22-8387-cfcab040a165",
   "metadata": {},
   "source": [
    "##ques 3\n",
    "abc means abstract base class. abc is a pyhton module which acts like base class or a layout of class . Whosover will inherit this base class has to redefine those function which were there in abstract base class and to customise accoding to the need. \n",
    "\n",
    "It can be used when certain function will going to use same kind of functions . In such case we can make a abstract base class which can be inherited later by other classes and can modify the functions which are present inside abstract base class accordingly"
   ]
  },
  {
   "cell_type": "code",
   "execution_count": null,
   "id": "ebc3d2f9-21b3-4901-8e58-15b668660df9",
   "metadata": {},
   "outputs": [],
   "source": []
  },
  {
   "cell_type": "markdown",
   "id": "0fecbcc5-e857-48d8-a70d-93588a80b97a",
   "metadata": {},
   "source": [
    "##ques 4\n",
    "\n",
    "Data Abstraction can be achieved through creting abstract class which can be later inherited by other classes"
   ]
  },
  {
   "cell_type": "code",
   "execution_count": null,
   "id": "85ab3d5e-1444-4b80-abc3-6128dc869d28",
   "metadata": {},
   "outputs": [],
   "source": []
  },
  {
   "cell_type": "markdown",
   "id": "a99012bb-5fde-428d-8405-6cfe873d52ae",
   "metadata": {},
   "source": [
    "##ques 5\n",
    "\n",
    "While making abstract classes we dont compelte certain function instead write pass over there. Since its just a layout not a complete class thus object or instance can not be creayed for abstract classes"
   ]
  }
 ],
 "metadata": {
  "kernelspec": {
   "display_name": "Python 3 (ipykernel)",
   "language": "python",
   "name": "python3"
  },
  "language_info": {
   "codemirror_mode": {
    "name": "ipython",
    "version": 3
   },
   "file_extension": ".py",
   "mimetype": "text/x-python",
   "name": "python",
   "nbconvert_exporter": "python",
   "pygments_lexer": "ipython3",
   "version": "3.10.8"
  }
 },
 "nbformat": 4,
 "nbformat_minor": 5
}
