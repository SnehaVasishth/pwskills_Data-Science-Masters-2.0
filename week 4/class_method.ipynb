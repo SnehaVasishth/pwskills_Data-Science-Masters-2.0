{
 "cells": [
  {
   "cell_type": "code",
   "execution_count": 1,
   "id": "a9ede386-c914-4a29-9d8a-465c4d6216cd",
   "metadata": {},
   "outputs": [],
   "source": [
    "class test:\n",
    "    mobile=3456789\n",
    "    \n",
    "    def __init__(self,name):\n",
    "        self.name=name\n",
    "    def info(self):\n",
    "        return self.name,test.mobile"
   ]
  },
  {
   "cell_type": "code",
   "execution_count": 2,
   "id": "d35a143b-2474-475a-ba8b-00dd0e5356ef",
   "metadata": {},
   "outputs": [],
   "source": [
    "sneha=test(\"sneha\")"
   ]
  },
  {
   "cell_type": "code",
   "execution_count": null,
   "id": "b5dd0b38-17de-4f77-bf96-a1f6a4890b2f",
   "metadata": {},
   "outputs": [],
   "source": []
  },
  {
   "cell_type": "code",
   "execution_count": 3,
   "id": "2d712270-7745-42bd-967e-6f0ec3f695e3",
   "metadata": {},
   "outputs": [
    {
     "data": {
      "text/plain": [
       "('sneha', 3456789)"
      ]
     },
     "execution_count": 3,
     "metadata": {},
     "output_type": "execute_result"
    }
   ],
   "source": [
    "sneha.info()"
   ]
  },
  {
   "cell_type": "code",
   "execution_count": 4,
   "id": "6e7032c2-7c1b-49b8-80db-4d3958a1486e",
   "metadata": {},
   "outputs": [
    {
     "data": {
      "text/plain": [
       "3456789"
      ]
     },
     "execution_count": 4,
     "metadata": {},
     "output_type": "execute_result"
    }
   ],
   "source": [
    "sneha.mobile   ##if you want to access class variable thhrough class object \n",
    "## we can do by writing \"class name.variable\""
   ]
  },
  {
   "cell_type": "code",
   "execution_count": 5,
   "id": "6c310d39-11dd-46f3-9cd7-aad4f5d7b2b1",
   "metadata": {},
   "outputs": [],
   "source": [
    "class pwskills:\n",
    "    def __init__(self,name,email):\n",
    "        self.name=name\n",
    "        self.mail=email\n",
    "    def students_details(self):\n",
    "        print(self.name,self.mail)"
   ]
  },
  {
   "cell_type": "code",
   "execution_count": 6,
   "id": "10fae306-1882-4647-a2be-e036583bf794",
   "metadata": {},
   "outputs": [],
   "source": [
    "pw=pwskills(\"sneha\",\"sneha@gmail.com\")"
   ]
  },
  {
   "cell_type": "code",
   "execution_count": 7,
   "id": "7cd1aa5d-8e7b-4dcd-8024-33909a86c312",
   "metadata": {},
   "outputs": [
    {
     "name": "stdout",
     "output_type": "stream",
     "text": [
      "sneha sneha@gmail.com\n"
     ]
    }
   ],
   "source": [
    "pw.students_details()"
   ]
  },
  {
   "cell_type": "code",
   "execution_count": 8,
   "id": "cfdf60e8-b225-4124-9d2b-9d6ddcfce1b9",
   "metadata": {},
   "outputs": [],
   "source": [
    "class pwskills1:\n",
    "    def __init__(self,name,email):\n",
    "        self.name=name\n",
    "        self.mail=email\n",
    "    @classmethod\n",
    "    def details(cls,name,mail):\n",
    "        return cls(name,mail)\n",
    "        \n",
    "    def students_details(self):\n",
    "        print(self.name,self.mail)"
   ]
  },
  {
   "cell_type": "code",
   "execution_count": 9,
   "id": "ad309981-3f0c-4a4e-9436-e5060066af04",
   "metadata": {},
   "outputs": [
    {
     "data": {
      "text/plain": [
       "<__main__.pwskills1 at 0x7efe644f0cd0>"
      ]
     },
     "execution_count": 9,
     "metadata": {},
     "output_type": "execute_result"
    }
   ],
   "source": [
    "pwskills1.details(\"sneha\",\"sneha@gmailc.om\")"
   ]
  },
  {
   "cell_type": "code",
   "execution_count": null,
   "id": "10ffb10b-76da-4f3e-9677-4c4facfda0b1",
   "metadata": {},
   "outputs": [],
   "source": []
  },
  {
   "cell_type": "code",
   "execution_count": 10,
   "id": "99827dbf-8708-4280-9dd5-402c3d6f05e4",
   "metadata": {},
   "outputs": [
    {
     "data": {
      "text/plain": [
       "<__main__.pwskills1 at 0x7efe644f3520>"
      ]
     },
     "execution_count": 10,
     "metadata": {},
     "output_type": "execute_result"
    }
   ],
   "source": [
    "pws=pwskills1.details(\"sneha\",\"sneha@gmail.com\")\n",
    "pws"
   ]
  },
  {
   "cell_type": "code",
   "execution_count": 11,
   "id": "d55f06ee-9481-4493-bdb8-4fb22b413e92",
   "metadata": {},
   "outputs": [
    {
     "name": "stdout",
     "output_type": "stream",
     "text": [
      "<__main__.pwskills1 object at 0x7efe644f3520>\n"
     ]
    }
   ],
   "source": [
    "print(pws)"
   ]
  },
  {
   "cell_type": "code",
   "execution_count": 12,
   "id": "a506fa0a-12c2-43e0-997f-b950375ded19",
   "metadata": {},
   "outputs": [
    {
     "data": {
      "text/plain": [
       "'sneha'"
      ]
     },
     "execution_count": 12,
     "metadata": {},
     "output_type": "execute_result"
    }
   ],
   "source": [
    "pws.name"
   ]
  },
  {
   "cell_type": "code",
   "execution_count": 13,
   "id": "08ce4a20-b471-44ed-8ba4-30b37352dd43",
   "metadata": {},
   "outputs": [
    {
     "data": {
      "text/plain": [
       "'sneha@gmail.com'"
      ]
     },
     "execution_count": 13,
     "metadata": {},
     "output_type": "execute_result"
    }
   ],
   "source": [
    "pws.mail"
   ]
  },
  {
   "cell_type": "code",
   "execution_count": 14,
   "id": "34009d61-d2eb-4f8e-bc52-a00ea58b7f33",
   "metadata": {},
   "outputs": [
    {
     "name": "stdout",
     "output_type": "stream",
     "text": [
      "sneha sneha@gmail.com\n"
     ]
    }
   ],
   "source": [
    "pws.students_details()"
   ]
  },
  {
   "cell_type": "code",
   "execution_count": 15,
   "id": "51d58145-bbe2-4928-9706-7677e30697bc",
   "metadata": {},
   "outputs": [],
   "source": [
    "class pwskills2:\n",
    "    mobile_num=3472918373\n",
    "    def __init__(self,name,email):\n",
    "        self.name=name\n",
    "        self.mail=email\n",
    "    @classmethod\n",
    "    def details(cls,name,mail):\n",
    "        return cls(name,mail)\n",
    "    @classmethod\n",
    "    def change(cls,mobile):\n",
    "        pwskills2.mobile_num=mobile\n",
    "        \n",
    "    def students_details(self):\n",
    "        print(self.name,self.mail)"
   ]
  },
  {
   "cell_type": "code",
   "execution_count": 16,
   "id": "058ff802-41d5-44ff-b8fb-1084d8721d55",
   "metadata": {},
   "outputs": [
    {
     "data": {
      "text/plain": [
       "3472918373"
      ]
     },
     "execution_count": 16,
     "metadata": {},
     "output_type": "execute_result"
    }
   ],
   "source": [
    "pwskills2.mobile_num"
   ]
  },
  {
   "cell_type": "code",
   "execution_count": null,
   "id": "305e110a-fd9f-4814-bfac-4ab00782a425",
   "metadata": {},
   "outputs": [],
   "source": []
  },
  {
   "cell_type": "code",
   "execution_count": 17,
   "id": "65410969-0feb-4732-a0a5-e88fdf9c0d7f",
   "metadata": {},
   "outputs": [],
   "source": [
    "pwskills2.change(1283984)"
   ]
  },
  {
   "cell_type": "code",
   "execution_count": 18,
   "id": "8ad51be5-9ba7-41f2-963b-69c315c2a157",
   "metadata": {},
   "outputs": [
    {
     "data": {
      "text/plain": [
       "1283984"
      ]
     },
     "execution_count": 18,
     "metadata": {},
     "output_type": "execute_result"
    }
   ],
   "source": [
    "pwskills2.mobile_num"
   ]
  },
  {
   "cell_type": "code",
   "execution_count": 19,
   "id": "81384749-6523-4c93-84cf-aafae8afcb12",
   "metadata": {},
   "outputs": [],
   "source": [
    "pw2=pwskills2.details(\"rohan\",\"rohan@gmail.com\")"
   ]
  },
  {
   "cell_type": "code",
   "execution_count": 20,
   "id": "af183235-fae5-4eb8-91e8-515151e0c390",
   "metadata": {},
   "outputs": [
    {
     "name": "stdout",
     "output_type": "stream",
     "text": [
      "rohan rohan@gmail.com\n"
     ]
    }
   ],
   "source": [
    "pw2.students_details()"
   ]
  },
  {
   "cell_type": "code",
   "execution_count": 21,
   "id": "0a21008e-cd4a-4c06-aaba-eb835d6c9e99",
   "metadata": {},
   "outputs": [],
   "source": [
    "class pwskills4:\n",
    "    mobile_num=3472918373\n",
    "    def __init__(self,name,email):\n",
    "        self.name=name\n",
    "        self.mail=email\n",
    "    @classmethod\n",
    "    def details(cls,name,mail):\n",
    "        return cls(name,mail)\n",
    "    @classmethod\n",
    "    def change(cls,mobile):\n",
    "        pwskills4.mobile_num=mobile\n",
    "        \n",
    "    def students_details(self):\n",
    "        print(self.name,self.mail,pwskills4.mobile_num)"
   ]
  },
  {
   "cell_type": "code",
   "execution_count": 22,
   "id": "64a59ebb-d31d-4058-a110-f31f86fc72e1",
   "metadata": {},
   "outputs": [],
   "source": [
    "pw3=pwskills4.details(\"subham\",\"subham@gmail.com\")"
   ]
  },
  {
   "cell_type": "markdown",
   "id": "dd010a88-c17a-4a04-9e98-cdf974e2fe5f",
   "metadata": {},
   "source": []
  },
  {
   "cell_type": "code",
   "execution_count": 23,
   "id": "efea095a-f6b9-4a23-ae0e-be205acc116f",
   "metadata": {},
   "outputs": [
    {
     "name": "stdout",
     "output_type": "stream",
     "text": [
      "subham subham@gmail.com 3472918373\n"
     ]
    }
   ],
   "source": [
    "pw3.students_details()"
   ]
  },
  {
   "cell_type": "code",
   "execution_count": 24,
   "id": "5d5dfdd9-bfa9-4368-90e8-7a903b258835",
   "metadata": {},
   "outputs": [],
   "source": [
    "pw3.change(12398493)"
   ]
  },
  {
   "cell_type": "code",
   "execution_count": 25,
   "id": "526806d8-28b7-4566-9eeb-3bea2f449b02",
   "metadata": {},
   "outputs": [
    {
     "name": "stdout",
     "output_type": "stream",
     "text": [
      "subham subham@gmail.com 12398493\n"
     ]
    }
   ],
   "source": [
    "pw3.students_details()"
   ]
  },
  {
   "cell_type": "code",
   "execution_count": 26,
   "id": "06a7b497-08ca-46b1-8c1a-cbb0d264cf8f",
   "metadata": {},
   "outputs": [],
   "source": [
    "def course_details(cls,course_name):\n",
    "    print(\"course name is \",course_name)"
   ]
  },
  {
   "cell_type": "code",
   "execution_count": 27,
   "id": "221bdc1b-d25a-452d-ae9e-1a20f084e34b",
   "metadata": {},
   "outputs": [],
   "source": [
    "pwskills4.course_details=classmethod(course_details)"
   ]
  },
  {
   "cell_type": "code",
   "execution_count": 28,
   "id": "20e2e7af-a94b-46fb-ba32-208a05995593",
   "metadata": {},
   "outputs": [
    {
     "name": "stdout",
     "output_type": "stream",
     "text": [
      "course name is  data scinece\n"
     ]
    }
   ],
   "source": [
    "pwskills4.course_details(\"data scinece\")"
   ]
  },
  {
   "cell_type": "code",
   "execution_count": 29,
   "id": "8201363b-f345-4673-af7c-bc0cffe56e24",
   "metadata": {},
   "outputs": [],
   "source": [
    "pw5=pwskills4(\"sneha\",\"sneah@gmail.com\")"
   ]
  },
  {
   "cell_type": "code",
   "execution_count": 30,
   "id": "d713b4fe-eade-4cd7-b99b-35726e85fe8a",
   "metadata": {},
   "outputs": [
    {
     "name": "stdout",
     "output_type": "stream",
     "text": [
      "course name is  maths\n"
     ]
    }
   ],
   "source": [
    "pw5.course_details(\"maths\")"
   ]
  },
  {
   "cell_type": "code",
   "execution_count": 31,
   "id": "bc4ce882-383c-4833-8a73-95ebcc0ff801",
   "metadata": {},
   "outputs": [],
   "source": [
    "class pwskills5:\n",
    "    mobile_num=3472918373\n",
    "    def __init__(self,name,email):\n",
    "        self.name=name\n",
    "        self.mail=email\n",
    "    @classmethod\n",
    "    def details(cls,name,mail):\n",
    "        return cls(name,mail)\n",
    "    @classmethod\n",
    "    def change(cls,mobile):\n",
    "        pwskills5.mobile_num=mobile\n",
    "        \n",
    "    def students_details(self):\n",
    "        print(self.name,self.mail,pwskills5.mobile_num)"
   ]
  },
  {
   "cell_type": "code",
   "execution_count": 32,
   "id": "1a528b03-9ac1-42ff-8f0c-bc7c54aac0f4",
   "metadata": {},
   "outputs": [],
   "source": [
    "del pwskills5.change"
   ]
  },
  {
   "cell_type": "markdown",
   "id": "b94af442-aa2a-4026-acff-b026ec534e68",
   "metadata": {},
   "source": [
    "pwskills5.change(1235689)"
   ]
  },
  {
   "cell_type": "code",
   "execution_count": 33,
   "id": "35d17c32-3def-493a-ad04-0a46b5cd4112",
   "metadata": {},
   "outputs": [],
   "source": [
    "delattr(pwskills5,\"details\")"
   ]
  },
  {
   "cell_type": "code",
   "execution_count": 34,
   "id": "a36b0979-e03e-4080-a6d1-6120f9d2c938",
   "metadata": {},
   "outputs": [],
   "source": [
    "del pwskills5.students_details"
   ]
  },
  {
   "cell_type": "code",
   "execution_count": 35,
   "id": "5bec9a88-eb47-46d1-97ed-1da1e27a1457",
   "metadata": {},
   "outputs": [],
   "source": [
    "delattr(pwskills5,\"mobile_num\")"
   ]
  },
  {
   "cell_type": "code",
   "execution_count": null,
   "id": "ffa6881f-63a4-49d4-b45d-c4dc101be386",
   "metadata": {},
   "outputs": [],
   "source": []
  }
 ],
 "metadata": {
  "kernelspec": {
   "display_name": "Python 3 (ipykernel)",
   "language": "python",
   "name": "python3"
  },
  "language_info": {
   "codemirror_mode": {
    "name": "ipython",
    "version": 3
   },
   "file_extension": ".py",
   "mimetype": "text/x-python",
   "name": "python",
   "nbconvert_exporter": "python",
   "pygments_lexer": "ipython3",
   "version": "3.10.8"
  }
 },
 "nbformat": 4,
 "nbformat_minor": 5
}
