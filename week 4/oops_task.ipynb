{
 "cells": [
  {
   "cell_type": "code",
   "execution_count": 1,
   "id": "01a368e4-2f77-4249-b129-797355fb005e",
   "metadata": {},
   "outputs": [],
   "source": [
    "#ques 1\n",
    "\n",
    "class vehicle():\n",
    "    def __init__(self,name,speed,average):\n",
    "        self.name_of_vehicle=name\n",
    "        self.max_speed=speed\n",
    "        self.average_of_vehicle=average\n",
    "    def output(self):\n",
    "        return self.name_of_vehicle,self.max_speed,self.average_of_vehicle"
   ]
  },
  {
   "cell_type": "code",
   "execution_count": 2,
   "id": "da618104-3087-43a3-b77c-5486afb2fd50",
   "metadata": {},
   "outputs": [],
   "source": [
    "#ques 1\n",
    "\n",
    "maruti=vehicle(\"maruti\",100,60)"
   ]
  },
  {
   "cell_type": "code",
   "execution_count": 3,
   "id": "62440d51-b72b-4ce2-b8fa-98306f3e2234",
   "metadata": {},
   "outputs": [
    {
     "data": {
      "text/plain": [
       "('maruti', 100, 60)"
      ]
     },
     "execution_count": 3,
     "metadata": {},
     "output_type": "execute_result"
    }
   ],
   "source": [
    "#ques 1\n",
    "maruti.output()"
   ]
  },
  {
   "cell_type": "code",
   "execution_count": 4,
   "id": "2b5eada3-a5bf-492b-9f3f-1019f91f531b",
   "metadata": {},
   "outputs": [],
   "source": [
    "# ques 2\n",
    "\n",
    "class car(vehicle):\n",
    "    def seating_capacity(self,capacity):\n",
    "        self.capacity=capacity\n",
    "        return self.name_of_vehicle,self.capacity"
   ]
  },
  {
   "cell_type": "code",
   "execution_count": 5,
   "id": "771beef4-57d3-47ff-ab78-98ab8bd861bc",
   "metadata": {},
   "outputs": [
    {
     "data": {
      "text/plain": [
       "('santro', 56)"
      ]
     },
     "execution_count": 5,
     "metadata": {},
     "output_type": "execute_result"
    }
   ],
   "source": [
    "# ques 2\n",
    "\n",
    "car1=car(\"santro\",100,45)\n",
    "car1.seating_capacity(56)"
   ]
  },
  {
   "cell_type": "code",
   "execution_count": 6,
   "id": "ee59d31e-9c88-4da1-aa93-ec1fd6c3d3a7",
   "metadata": {},
   "outputs": [],
   "source": [
    "# ques 3\n",
    "\n",
    "#in multiple inheritance a class is inherited to several \n",
    "#other classes where those classes are not inherited to \n",
    "#each other. Example class 1 and class 2 are independent\n",
    "#to each other but clss3 is inherited to both class 1 and\n",
    "#class 2, this is multiple inheritance"
   ]
  },
  {
   "cell_type": "code",
   "execution_count": 7,
   "id": "67e2eaa9-6c40-4335-b582-8ff6cfff106d",
   "metadata": {},
   "outputs": [],
   "source": [
    "#ques 3\n",
    "\n",
    "class marks:\n",
    "    def maths(self,marks_math):\n",
    "        self.marks_math=marks_math\n",
    "    def sci(self,marks_science):\n",
    "        self.marks_science=marks_science\n",
    "\n",
    "        \n",
    "class detail:\n",
    "    def roll(self,roll_no):\n",
    "        self.roll_no=roll_no\n",
    "        \n",
    "    def dob(self,birth):\n",
    "        self.birth=birth\n",
    "\n",
    "\n",
    "        \n",
    "        \n",
    "class student(marks,detail):\n",
    "    def name(self,n):\n",
    "        self.name_std=n\n",
    "    def output(self):\n",
    "        return self.name_std,self.marks_math,self.marks_science,self.roll_no,self.birth\n"
   ]
  },
  {
   "cell_type": "code",
   "execution_count": 8,
   "id": "0c1523de-ea5f-4bf0-b259-15ce709c6f37",
   "metadata": {},
   "outputs": [],
   "source": [
    "#ques 3\n",
    "s1=student()"
   ]
  },
  {
   "cell_type": "code",
   "execution_count": 9,
   "id": "8c941b6d-27fd-48cd-b1ee-72456f978820",
   "metadata": {},
   "outputs": [
    {
     "data": {
      "text/plain": [
       "('sneha', 95, 90, 23, '21oct2002')"
      ]
     },
     "execution_count": 9,
     "metadata": {},
     "output_type": "execute_result"
    }
   ],
   "source": [
    "s1.marks_math=95\n",
    "s1.marks_science=90\n",
    "s1.roll_no=23\n",
    "s1.birth=\"21oct2002\"\n",
    "s1.name(\"sneha\")\n",
    "s1.output()"
   ]
  },
  {
   "cell_type": "code",
   "execution_count": 11,
   "id": "f5992abf-f8fc-402c-a110-1365f9a24b40",
   "metadata": {},
   "outputs": [],
   "source": [
    "# ques 4\n",
    "\n",
    "#getter and setter is used in encapsulation,in order to hide the variables of class\n",
    "class tests:\n",
    "    def __init__(self,marks):\n",
    "        self.__mark=marks\n",
    "    def get_marks(self):\n",
    "        return self.__mark\n",
    "    def set_marks(self,x):\n",
    "        self.__mark=x\n",
    "        "
   ]
  },
  {
   "cell_type": "code",
   "execution_count": 12,
   "id": "7272ceae-3e97-499a-9580-e52ab3e60c2e",
   "metadata": {},
   "outputs": [],
   "source": [
    "sneha=tests(23)"
   ]
  },
  {
   "cell_type": "code",
   "execution_count": 14,
   "id": "7374ead8-80d9-4726-84cd-ffae0291a31d",
   "metadata": {},
   "outputs": [
    {
     "name": "stdout",
     "output_type": "stream",
     "text": [
      "23\n"
     ]
    }
   ],
   "source": [
    "print(sneha.get_marks())\n"
   ]
  },
  {
   "cell_type": "code",
   "execution_count": 15,
   "id": "3b42b107-3ea7-4126-9f0b-13419ce4d56b",
   "metadata": {},
   "outputs": [
    {
     "name": "stdout",
     "output_type": "stream",
     "text": [
      "100\n"
     ]
    }
   ],
   "source": [
    "sneha.set_marks(100)\n",
    "print(sneha.get_marks())\n"
   ]
  },
  {
   "cell_type": "code",
   "execution_count": 18,
   "id": "58a6a48f-dcbc-42db-b5a8-72a395095499",
   "metadata": {},
   "outputs": [],
   "source": [
    "# ques 5\n",
    "\n",
    "\n",
    "# when parent class has same method having same property and same return value nad same name as if of child class's method has, this is called\n",
    "# method overridding. If we invoke child class then method which is overridden of child will be active while parent class is invoked then the \n",
    "# parent version of method will be invoked\n",
    "\n",
    "class parent:\n",
    "    def __init__(self,name):\n",
    "        self.name=name\n",
    "    def return_val(self):  #same as of child method \n",
    "        return self.name\n",
    "    \n",
    "class child(parent):\n",
    "    def __init__(self,name):\n",
    "        self.name=name\n",
    "    def return_val(self):   # same as of parent method\n",
    "        return self.name"
   ]
  },
  {
   "cell_type": "code",
   "execution_count": 19,
   "id": "12b1c420-5ca5-4982-9a47-ccea16e69c98",
   "metadata": {},
   "outputs": [],
   "source": [
    "papa=parent(\"Sudhir\")\n",
    "bacha=child(\"Sneha\")"
   ]
  },
  {
   "cell_type": "code",
   "execution_count": 20,
   "id": "7a2728db-3b6a-495e-aae7-fab15ab16e37",
   "metadata": {},
   "outputs": [
    {
     "name": "stdout",
     "output_type": "stream",
     "text": [
      "Sudhir\n",
      "Sneha\n"
     ]
    }
   ],
   "source": [
    "print(papa.return_val())\n",
    "print(bacha.return_val())"
   ]
  },
  {
   "cell_type": "code",
   "execution_count": null,
   "id": "912647e0-8e65-41b7-b3ed-f1cbac54f963",
   "metadata": {},
   "outputs": [],
   "source": []
  }
 ],
 "metadata": {
  "kernelspec": {
   "display_name": "Python 3 (ipykernel)",
   "language": "python",
   "name": "python3"
  },
  "language_info": {
   "codemirror_mode": {
    "name": "ipython",
    "version": 3
   },
   "file_extension": ".py",
   "mimetype": "text/x-python",
   "name": "python",
   "nbconvert_exporter": "python",
   "pygments_lexer": "ipython3",
   "version": "3.10.8"
  }
 },
 "nbformat": 4,
 "nbformat_minor": 5
}
