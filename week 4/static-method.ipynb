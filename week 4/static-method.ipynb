{
 "cells": [
  {
   "cell_type": "code",
   "execution_count": 1,
   "id": "6b46e76a-f81e-47c4-b4d9-21ab2d9a439e",
   "metadata": {},
   "outputs": [],
   "source": [
    "class pwskills:\n",
    "    def student_details(self,name,mail,phone):\n",
    "        print(name,mail,phone)"
   ]
  },
  {
   "cell_type": "code",
   "execution_count": 2,
   "id": "7ac77898-ee83-41b3-88b5-2793f2b1b813",
   "metadata": {},
   "outputs": [],
   "source": [
    "pw=pwskills()"
   ]
  },
  {
   "cell_type": "code",
   "execution_count": 3,
   "id": "61d38d6a-94a8-4efa-a25c-a0e2816b90b3",
   "metadata": {},
   "outputs": [
    {
     "name": "stdout",
     "output_type": "stream",
     "text": [
      "sneha sneha@gmail.com 28372899\n"
     ]
    }
   ],
   "source": [
    "pw.student_details(\"sneha\",\"sneha@gmail.com\",28372899)"
   ]
  },
  {
   "cell_type": "code",
   "execution_count": 9,
   "id": "4f9c6514-7335-4d0d-a164-607ee48f08b3",
   "metadata": {},
   "outputs": [],
   "source": [
    "class pwskills2:\n",
    "    def student_details(self,name,mail,phone):\n",
    "        print(name,mail,phone)\n",
    "    @staticmethod\n",
    "    def mentor_class(list_mentor): ##no need of binding the function with any pointer like self\n",
    "        print(list_mentor)"
   ]
  },
  {
   "cell_type": "code",
   "execution_count": 10,
   "id": "cedbb7bf-11e0-4754-86c3-e28a4b337f03",
   "metadata": {},
   "outputs": [
    {
     "name": "stdout",
     "output_type": "stream",
     "text": [
      "['sneha', 'khushi']\n"
     ]
    }
   ],
   "source": [
    "pwskills2.mentor_class([\"sneha\", \"khushi\"])"
   ]
  },
  {
   "cell_type": "code",
   "execution_count": 11,
   "id": "79182ef8-8c37-4cb8-910f-b49d98975c42",
   "metadata": {},
   "outputs": [],
   "source": [
    "##instance functions are those which get linkd to the class and can be accessed through object. whenever a object is created a copy for instance fucntion will be created.number of obejctes same would be the number of instance function copies. \n",
    "##If the data for la all the objects to a paticular function of class will going to remain to same in such situation we can make static method which would not be linked to class as instance function thus static function can be accessed throught\n",
    "##the name of class also. Thus in static function it will be created only once , no multiple copies would be differently for dofferent objects. Same static function will be fr all the objects."
   ]
  },
  {
   "cell_type": "code",
   "execution_count": 27,
   "id": "f6d11ca0-305f-4895-ae1f-f589d9c8db26",
   "metadata": {},
   "outputs": [],
   "source": [
    "class pwskills3:\n",
    "    def student_details(self,name,mail,phone):\n",
    "        print(name,mail,phone)\n",
    "    @staticmethod\n",
    "    def mentor_mail(mail_id):\n",
    "        print(mail_id)\n",
    "     ##to call static function iside another staic function   \n",
    "    @staticmethod\n",
    "    def mentor_class(list_mentor): ##no need of binding the function with any pointer like self\n",
    "        pwskills3.mentor_mail([\"sneha@gmail.com\",\"khushi@gmail.com\"])\n",
    "        print(list_mentor)\n",
    "    ##to call staic function inside class method\n",
    "    @classmethod\n",
    "    def class_name(cls):\n",
    "        cls.mentor_class([\"sneha\",\"Kanha\"])\n",
    "        \n",
    "        \n",
    "    def mentor(self,mentor_list):\n",
    "        print(mentor_list)\n",
    "        pwskills3.mentor_class([\"sneha\",\"khsuhi\"])\n",
    "        ##by using either  self.mentor_class or pwskills3.mentor_class both are working"
   ]
  },
  {
   "cell_type": "code",
   "execution_count": 28,
   "id": "ae2863b2-80b3-467b-b0a4-a41c2a40baa5",
   "metadata": {},
   "outputs": [
    {
     "name": "stdout",
     "output_type": "stream",
     "text": [
      "['sneha@gmail.com', 'khushi@gmail.com']\n",
      "['sneha', 'Kanha']\n"
     ]
    }
   ],
   "source": [
    "pwskills3.class_name()  ##here inside class method one static method is called that static method is further calling  another static functiion"
   ]
  },
  {
   "cell_type": "code",
   "execution_count": null,
   "id": "7ab7451e-60b6-4044-9976-2aea0296b34c",
   "metadata": {},
   "outputs": [],
   "source": []
  },
  {
   "cell_type": "code",
   "execution_count": 29,
   "id": "e8367708-2214-4c60-a8bd-5586cae0f619",
   "metadata": {},
   "outputs": [],
   "source": [
    "pw4=pwskills3()\n"
   ]
  },
  {
   "cell_type": "code",
   "execution_count": 26,
   "id": "31f1726a-f547-4c48-9fc7-d3e54e91d658",
   "metadata": {},
   "outputs": [
    {
     "name": "stdout",
     "output_type": "stream",
     "text": [
      "['sneha', 'kanha']\n",
      "['sneha@gmail.com', 'khushi@gmail.com']\n",
      "['sneha', 'khsuhi']\n"
     ]
    }
   ],
   "source": [
    "pw4.mentor([\"sneha\",\"kanha\"])"
   ]
  },
  {
   "cell_type": "code",
   "execution_count": null,
   "id": "2703eae8-1c5f-4199-93d9-2de4b8c0c239",
   "metadata": {},
   "outputs": [],
   "source": []
  }
 ],
 "metadata": {
  "kernelspec": {
   "display_name": "Python 3 (ipykernel)",
   "language": "python",
   "name": "python3"
  },
  "language_info": {
   "codemirror_mode": {
    "name": "ipython",
    "version": 3
   },
   "file_extension": ".py",
   "mimetype": "text/x-python",
   "name": "python",
   "nbconvert_exporter": "python",
   "pygments_lexer": "ipython3",
   "version": "3.10.8"
  }
 },
 "nbformat": 4,
 "nbformat_minor": 5
}
