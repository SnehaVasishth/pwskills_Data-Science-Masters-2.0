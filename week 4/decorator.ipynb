{
 "cells": [
  {
   "cell_type": "code",
   "execution_count": 1,
   "id": "8abfc078-8c4d-48e5-b9e7-7b572327861d",
   "metadata": {},
   "outputs": [],
   "source": [
    "#when there is a function in my homw i decorate my home but my home remain same\n",
    "\n",
    "#decorator is used to decorate the function in pyhton "
   ]
  },
  {
   "cell_type": "code",
   "execution_count": 2,
   "id": "ae52076f-28d7-45d9-b2bc-c11c11b56ae2",
   "metadata": {},
   "outputs": [],
   "source": [
    "def test():\n",
    "    print(\"this is my functiom\")"
   ]
  },
  {
   "cell_type": "code",
   "execution_count": 3,
   "id": "56d700ed-17ba-4646-b5e3-a0a98cd79f6a",
   "metadata": {},
   "outputs": [
    {
     "name": "stdout",
     "output_type": "stream",
     "text": [
      "this is my functiom\n"
     ]
    }
   ],
   "source": [
    "test()"
   ]
  },
  {
   "cell_type": "code",
   "execution_count": 4,
   "id": "a54307bd-1ca4-495c-a1f1-43129e137319",
   "metadata": {},
   "outputs": [],
   "source": [
    "def test():\n",
    "    print(\"this is the start of my function\")\n",
    "    print(\"this is my functiom\")\n",
    "    print(4*7)\n",
    "    print(\"this is my end of my function\")"
   ]
  },
  {
   "cell_type": "code",
   "execution_count": 5,
   "id": "d6981efc-baeb-4fe6-b31b-df175996133a",
   "metadata": {},
   "outputs": [
    {
     "name": "stdout",
     "output_type": "stream",
     "text": [
      "this is the start of my function\n",
      "this is my functiom\n",
      "28\n",
      "this is my end of my function\n"
     ]
    }
   ],
   "source": [
    "test()"
   ]
  },
  {
   "cell_type": "code",
   "execution_count": 6,
   "id": "13224302-a304-4b48-8178-5ece409ddf13",
   "metadata": {},
   "outputs": [],
   "source": [
    "#suppose i want to add when my function starts and when it ends for all of my function it is tedious to add prnt statment in all of the function. for this purpose we will going to decorate the function\n"
   ]
  },
  {
   "cell_type": "code",
   "execution_count": 7,
   "id": "c3be7a15-fe81-43c2-a684-9608e4436806",
   "metadata": {},
   "outputs": [],
   "source": [
    "def deco(func):\n",
    "    def inner_dec():\n",
    "        print(\"this is the start of my func\")\n",
    "        a=func()\n",
    "        print(a)\n",
    "        print(\"this is the end of my function\")\n",
    "    return inner_dec\n",
    "    "
   ]
  },
  {
   "cell_type": "code",
   "execution_count": 8,
   "id": "aea6c48a-fe24-44e1-b9e5-2a553b52e3a0",
   "metadata": {},
   "outputs": [],
   "source": [
    "def test1():\n",
    "    return(3*6)"
   ]
  },
  {
   "cell_type": "code",
   "execution_count": 9,
   "id": "8c349e50-b0a7-460e-922f-964fba9ab4c1",
   "metadata": {},
   "outputs": [
    {
     "data": {
      "text/plain": [
       "18"
      ]
     },
     "execution_count": 9,
     "metadata": {},
     "output_type": "execute_result"
    }
   ],
   "source": [
    "test1()"
   ]
  },
  {
   "cell_type": "code",
   "execution_count": 10,
   "id": "0a24d9ac-c3dc-4f2e-ba9d-2b39df4bb0d0",
   "metadata": {},
   "outputs": [],
   "source": [
    "@deco   # by writing deco compiler automatically pass test1 as paramtere in the deco function\n",
    "def test1():\n",
    "    return(3*6)\n"
   ]
  },
  {
   "cell_type": "code",
   "execution_count": 11,
   "id": "07a12b64-d9f2-48ea-8b3a-96e7c2edfb8c",
   "metadata": {},
   "outputs": [
    {
     "name": "stdout",
     "output_type": "stream",
     "text": [
      "this is the start of my func\n",
      "18\n",
      "this is the end of my function\n"
     ]
    }
   ],
   "source": [
    "test1()"
   ]
  },
  {
   "cell_type": "code",
   "execution_count": null,
   "id": "f19f536a-0b3d-43da-9a09-4e4434b675ba",
   "metadata": {},
   "outputs": [],
   "source": []
  },
  {
   "cell_type": "code",
   "execution_count": 25,
   "id": "fee6e639-8356-4992-911b-9638eb95f2e0",
   "metadata": {},
   "outputs": [],
   "source": [
    "import time\n",
    "def timer_test(func):\n",
    "    def timer_test_inner():\n",
    "        start= time.time()\n",
    "#         a=func()\n",
    "#         print(a)\n",
    "        func()\n",
    "        end=time.time()\n",
    "        print(end-start)\n",
    "    return timer_test_inner"
   ]
  },
  {
   "cell_type": "code",
   "execution_count": 26,
   "id": "0bb7947d-746e-43e7-93ec-557757c71326",
   "metadata": {},
   "outputs": [],
   "source": [
    "def test2():\n",
    "    return(3*12)"
   ]
  },
  {
   "cell_type": "code",
   "execution_count": 27,
   "id": "c3a40433-d4be-4e25-8dc0-a702727fb7f9",
   "metadata": {},
   "outputs": [
    {
     "data": {
      "text/plain": [
       "36"
      ]
     },
     "execution_count": 27,
     "metadata": {},
     "output_type": "execute_result"
    }
   ],
   "source": [
    "test2()"
   ]
  },
  {
   "cell_type": "code",
   "execution_count": 28,
   "id": "c056bf1d-feb6-4d8e-a39f-d4d0a2ea6f21",
   "metadata": {},
   "outputs": [
    {
     "name": "stdout",
     "output_type": "stream",
     "text": [
      "36\n",
      "4.673004150390625e-05\n"
     ]
    }
   ],
   "source": [
    "@timer_test\n",
    "def test3():\n",
    "    print(3*12)\n",
    "test3()"
   ]
  },
  {
   "cell_type": "code",
   "execution_count": 29,
   "id": "5b809e3a-5625-4a79-99d5-df1d823707a4",
   "metadata": {},
   "outputs": [
    {
     "name": "stdout",
     "output_type": "stream",
     "text": [
      "7.152557373046875e-07\n"
     ]
    }
   ],
   "source": [
    "@timer_test\n",
    "def test3():\n",
    "    return(3*12)\n",
    "test3()"
   ]
  },
  {
   "cell_type": "code",
   "execution_count": 32,
   "id": "6d1caff5-0cdf-4e3b-807e-ecf3e111e3e4",
   "metadata": {},
   "outputs": [],
   "source": [
    "@timer_test\n",
    "def test4():\n",
    "    for i in range (100000):\n",
    "        pass"
   ]
  },
  {
   "cell_type": "code",
   "execution_count": 33,
   "id": "586ec979-6723-43e5-930e-f0e282470d08",
   "metadata": {},
   "outputs": [
    {
     "name": "stdout",
     "output_type": "stream",
     "text": [
      "0.0025246143341064453\n"
     ]
    }
   ],
   "source": [
    "test4()"
   ]
  },
  {
   "cell_type": "code",
   "execution_count": null,
   "id": "f4c3089d-7eee-4b36-b160-7e98cd03fe5f",
   "metadata": {},
   "outputs": [],
   "source": []
  }
 ],
 "metadata": {
  "kernelspec": {
   "display_name": "Python 3 (ipykernel)",
   "language": "python",
   "name": "python3"
  },
  "language_info": {
   "codemirror_mode": {
    "name": "ipython",
    "version": 3
   },
   "file_extension": ".py",
   "mimetype": "text/x-python",
   "name": "python",
   "nbconvert_exporter": "python",
   "pygments_lexer": "ipython3",
   "version": "3.10.8"
  }
 },
 "nbformat": 4,
 "nbformat_minor": 5
}
