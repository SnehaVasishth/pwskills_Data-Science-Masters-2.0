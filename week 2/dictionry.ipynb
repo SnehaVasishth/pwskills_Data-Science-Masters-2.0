{
 "cells": [
  {
   "cell_type": "code",
   "execution_count": 1,
   "id": "5f037357-64e0-4667-9c3e-a62d129a37f2",
   "metadata": {},
   "outputs": [
    {
     "data": {
      "text/plain": [
       "dict"
      ]
     },
     "execution_count": 1,
     "metadata": {},
     "output_type": "execute_result"
    }
   ],
   "source": [
    "s={}\n",
    "type(s)"
   ]
  },
  {
   "cell_type": "code",
   "execution_count": 2,
   "id": "c7e9493e-a20a-4ab5-b785-f51b08491185",
   "metadata": {},
   "outputs": [
    {
     "data": {
      "text/plain": [
       "{'key': 'sneha'}"
      ]
     },
     "execution_count": 2,
     "metadata": {},
     "output_type": "execute_result"
    }
   ],
   "source": [
    "s={'key':\"sneha\"}\n",
    "s"
   ]
  },
  {
   "cell_type": "code",
   "execution_count": 3,
   "id": "d27a59af-00c3-4964-a505-91beffe06bfd",
   "metadata": {},
   "outputs": [],
   "source": [
    "d2={'name':\"sneha\",'gmail':\"snehavasishth03@gmail.com\", 'number':9315269634}"
   ]
  },
  {
   "cell_type": "code",
   "execution_count": 4,
   "id": "cc9ae362-74e9-48f1-9dbf-04b9c2526ec9",
   "metadata": {},
   "outputs": [
    {
     "data": {
      "text/plain": [
       "{'key': 'sneha'}"
      ]
     },
     "execution_count": 4,
     "metadata": {},
     "output_type": "execute_result"
    }
   ],
   "source": [
    "s"
   ]
  },
  {
   "cell_type": "code",
   "execution_count": 6,
   "id": "7419c816-6443-4644-b797-0d7a1ad51526",
   "metadata": {},
   "outputs": [
    {
     "data": {
      "text/plain": [
       "{'name': 'sneha', 'gmail': 'snehavasishth03@gmail.com', 'number': 9315269634}"
      ]
     },
     "execution_count": 6,
     "metadata": {},
     "output_type": "execute_result"
    }
   ],
   "source": [
    "d2"
   ]
  },
  {
   "cell_type": "code",
   "execution_count": 7,
   "id": "c22cde44-68f1-4b20-9d10-3a8f750e5aef",
   "metadata": {},
   "outputs": [],
   "source": [
    "s={\"%sneha\":\"#aashi\"}"
   ]
  },
  {
   "cell_type": "code",
   "execution_count": 8,
   "id": "99bf455a-acca-45bd-8aff-6a2fd5794ed3",
   "metadata": {},
   "outputs": [
    {
     "data": {
      "text/plain": [
       "{'%sneha': '#aashi'}"
      ]
     },
     "execution_count": 8,
     "metadata": {},
     "output_type": "execute_result"
    }
   ],
   "source": [
    "s"
   ]
  },
  {
   "cell_type": "code",
   "execution_count": 9,
   "id": "fbfe2698-d80c-4f2c-9414-e7a87378d417",
   "metadata": {},
   "outputs": [],
   "source": [
    "d3={12:\"sneha\",\"_@&\":1234,True:3849}"
   ]
  },
  {
   "cell_type": "code",
   "execution_count": 10,
   "id": "3bf6d6b9-7816-4ad6-a8b8-cf2169836006",
   "metadata": {},
   "outputs": [
    {
     "data": {
      "text/plain": [
       "{12: 'sneha', '_@&': 1234, True: 3849}"
      ]
     },
     "execution_count": 10,
     "metadata": {},
     "output_type": "execute_result"
    }
   ],
   "source": [
    "d3"
   ]
  },
  {
   "cell_type": "code",
   "execution_count": 11,
   "id": "f4a98f88-6333-4084-9a99-f2f1b4938330",
   "metadata": {},
   "outputs": [
    {
     "data": {
      "text/plain": [
       "'sneha'"
      ]
     },
     "execution_count": 11,
     "metadata": {},
     "output_type": "execute_result"
    }
   ],
   "source": [
    "d3[12]"
   ]
  },
  {
   "cell_type": "markdown",
   "id": "963b12ba-47e9-46ca-b99d-a22f2979822b",
   "metadata": {},
   "source": [
    "d3[2] #2is not prresent as key"
   ]
  },
  {
   "cell_type": "code",
   "execution_count": 13,
   "id": "262b552b-71c7-4b72-b142-ee6bc80ac63c",
   "metadata": {},
   "outputs": [
    {
     "data": {
      "text/plain": [
       "3849"
      ]
     },
     "execution_count": 13,
     "metadata": {},
     "output_type": "execute_result"
    }
   ],
   "source": [
    "d3[1]  #true is equal to 1"
   ]
  },
  {
   "cell_type": "code",
   "execution_count": 14,
   "id": "252e5e66-565b-4b73-b2d4-af1b59271fcc",
   "metadata": {},
   "outputs": [],
   "source": [
    "d4={'name':\"sneha\",'mumber':1234, \"name\":\"aashi\"}"
   ]
  },
  {
   "cell_type": "code",
   "execution_count": 15,
   "id": "67b17c7c-d88d-4871-ba96-14df423c1ccf",
   "metadata": {},
   "outputs": [
    {
     "data": {
      "text/plain": [
       "{'name': 'aashi', 'mumber': 1234}"
      ]
     },
     "execution_count": 15,
     "metadata": {},
     "output_type": "execute_result"
    }
   ],
   "source": [
    "d4"
   ]
  },
  {
   "cell_type": "code",
   "execution_count": 17,
   "id": "8a7f2307-f5b8-450e-a5d9-80d0535a9c69",
   "metadata": {},
   "outputs": [
    {
     "data": {
      "text/plain": [
       "'aashi'"
      ]
     },
     "execution_count": 17,
     "metadata": {},
     "output_type": "execute_result"
    }
   ],
   "source": [
    "d4['name']  #value updates"
   ]
  },
  {
   "cell_type": "code",
   "execution_count": 18,
   "id": "3d2a122d-86f2-4866-95c0-386c76c763b0",
   "metadata": {},
   "outputs": [],
   "source": [
    "d5={'company':\"pwskills\", 'course':[\"web dev\",\"aap dev\",\"datascience\"]}"
   ]
  },
  {
   "cell_type": "code",
   "execution_count": 19,
   "id": "b31ba7e7-b7fb-42c9-8b17-305a79d5b816",
   "metadata": {},
   "outputs": [
    {
     "data": {
      "text/plain": [
       "{'company': 'pwskills', 'course': ['web dev', 'aap dev', 'datascience']}"
      ]
     },
     "execution_count": 19,
     "metadata": {},
     "output_type": "execute_result"
    }
   ],
   "source": [
    "d5"
   ]
  },
  {
   "cell_type": "code",
   "execution_count": 21,
   "id": "71f2d590-1f0f-4e63-911b-25e2402b145d",
   "metadata": {},
   "outputs": [
    {
     "data": {
      "text/plain": [
       "['web dev', 'aap dev', 'datascience']"
      ]
     },
     "execution_count": 21,
     "metadata": {},
     "output_type": "execute_result"
    }
   ],
   "source": [
    "d5['course']"
   ]
  },
  {
   "cell_type": "code",
   "execution_count": 22,
   "id": "aaedc81b-3d73-472d-9ec6-e4e96e54af94",
   "metadata": {},
   "outputs": [
    {
     "data": {
      "text/plain": [
       "'datascience'"
      ]
     },
     "execution_count": 22,
     "metadata": {},
     "output_type": "execute_result"
    }
   ],
   "source": [
    "d5['course'][-1]"
   ]
  },
  {
   "cell_type": "code",
   "execution_count": 24,
   "id": "06266b20-9ebd-4f5a-a490-7c873988d69c",
   "metadata": {},
   "outputs": [
    {
     "data": {
      "text/plain": [
       "{'Nmae': 'sneha',\n",
       " 'number': [2, 3, 4, 2, 3.44],\n",
       " 'assignment': (1, 2, 4, 4.44, 56),\n",
       " 'launch_date': {12, 14, 23}}"
      ]
     },
     "execution_count": 24,
     "metadata": {},
     "output_type": "execute_result"
    }
   ],
   "source": [
    "d6"
   ]
  },
  {
   "cell_type": "code",
   "execution_count": 27,
   "id": "ea9e60e7-6861-4428-a25d-74a14dd93aca",
   "metadata": {},
   "outputs": [],
   "source": [
    "d6={\"Nmae\":\"sneha\", \"number\":[2,3,4,2,3.44], \"assignment\":(1,2,4,4.44,56),\"launch_date\":{23,12,14}, 'class_time':{\"dev\":12,\"aap\":13,\"datascience\":2}}"
   ]
  },
  {
   "cell_type": "code",
   "execution_count": 28,
   "id": "4d043ceb-ca12-4397-b390-4d81887d685a",
   "metadata": {},
   "outputs": [
    {
     "data": {
      "text/plain": [
       "56"
      ]
     },
     "execution_count": 28,
     "metadata": {},
     "output_type": "execute_result"
    }
   ],
   "source": [
    "d6[\"assignment\"][-1]  # dictionary can contain tuple,list,string,number,set,dictionary as value. "
   ]
  },
  {
   "cell_type": "code",
   "execution_count": 29,
   "id": "7107340c-f5ba-44e1-bae6-126ca173bef3",
   "metadata": {},
   "outputs": [],
   "source": [
    "d6[\"mentor\"]=[\"smeha\",\"aashi\",\"khushi\"]"
   ]
  },
  {
   "cell_type": "code",
   "execution_count": 30,
   "id": "baf55c02-57b1-43aa-b9e9-acc79eec6594",
   "metadata": {},
   "outputs": [
    {
     "data": {
      "text/plain": [
       "{'Nmae': 'sneha',\n",
       " 'number': [2, 3, 4, 2, 3.44],\n",
       " 'assignment': (1, 2, 4, 4.44, 56),\n",
       " 'launch_date': {12, 14, 23},\n",
       " 'class_time': {'dev': 12, 'aap': 13, 'datascience': 2},\n",
       " 'mentor': ['smeha', 'aashi', 'khushi']}"
      ]
     },
     "execution_count": 30,
     "metadata": {},
     "output_type": "execute_result"
    }
   ],
   "source": [
    "d6 #if key not present new key pair will form otherwise key already presen then value will be updated"
   ]
  },
  {
   "cell_type": "code",
   "execution_count": null,
   "id": "4ad8fd5b-d4ba-4e0d-af18-110f68edea6b",
   "metadata": {},
   "outputs": [],
   "source": []
  },
  {
   "cell_type": "code",
   "execution_count": 32,
   "id": "1a58bac7-b113-465f-a8d4-1a3246ef2523",
   "metadata": {},
   "outputs": [
    {
     "data": {
      "text/plain": [
       "dict_keys(['Nmae', 'number', 'assignment', 'launch_date', 'class_time', 'mentor'])"
      ]
     },
     "execution_count": 32,
     "metadata": {},
     "output_type": "execute_result"
    }
   ],
   "source": [
    "d6.keys()  #it gives the list of key"
   ]
  },
  {
   "cell_type": "code",
   "execution_count": 33,
   "id": "a66c0149-e955-4d99-84bd-50c216b61069",
   "metadata": {},
   "outputs": [
    {
     "data": {
      "text/plain": [
       "dict_values(['sneha', [2, 3, 4, 2, 3.44], (1, 2, 4, 4.44, 56), {12, 14, 23}, {'dev': 12, 'aap': 13, 'datascience': 2}, ['smeha', 'aashi', 'khushi']])"
      ]
     },
     "execution_count": 33,
     "metadata": {},
     "output_type": "execute_result"
    }
   ],
   "source": [
    "d6.values()"
   ]
  },
  {
   "cell_type": "code",
   "execution_count": 35,
   "id": "72eea870-d9fe-4e1b-8022-408fb987bf58",
   "metadata": {},
   "outputs": [
    {
     "data": {
      "text/plain": [
       "dict_items([('Nmae', 'sneha'), ('number', [2, 3, 4, 2, 3.44]), ('assignment', (1, 2, 4, 4.44, 56)), ('launch_date', {12, 14, 23}), ('class_time', {'dev': 12, 'aap': 13, 'datascience': 2}), ('mentor', ['smeha', 'aashi', 'khushi'])])"
      ]
     },
     "execution_count": 35,
     "metadata": {},
     "output_type": "execute_result"
    }
   ],
   "source": [
    "d6.items()  #gives the list of tuples where each tuple represnt a jey value pair"
   ]
  },
  {
   "cell_type": "code",
   "execution_count": 36,
   "id": "b8826c39-a100-470c-b092-b9d0620e00c5",
   "metadata": {},
   "outputs": [
    {
     "data": {
      "text/plain": [
       "[('Nmae', 'sneha'),\n",
       " ('number', [2, 3, 4, 2, 3.44]),\n",
       " ('assignment', (1, 2, 4, 4.44, 56)),\n",
       " ('launch_date', {12, 14, 23}),\n",
       " ('class_time', {'dev': 12, 'aap': 13, 'datascience': 2}),\n",
       " ('mentor', ['smeha', 'aashi', 'khushi'])]"
      ]
     },
     "execution_count": 36,
     "metadata": {},
     "output_type": "execute_result"
    }
   ],
   "source": [
    "list(d6.items())"
   ]
  },
  {
   "cell_type": "code",
   "execution_count": 37,
   "id": "a05ba5d5-d8f8-4a8c-a259-6066f5583b86",
   "metadata": {},
   "outputs": [
    {
     "data": {
      "text/plain": [
       "'sneha'"
      ]
     },
     "execution_count": 37,
     "metadata": {},
     "output_type": "execute_result"
    }
   ],
   "source": [
    "d6.pop('Nmae')"
   ]
  },
  {
   "cell_type": "code",
   "execution_count": 38,
   "id": "c9365b6d-0170-4bc8-9b3f-e7ecdc13e79c",
   "metadata": {},
   "outputs": [
    {
     "data": {
      "text/plain": [
       "{'number': [2, 3, 4, 2, 3.44],\n",
       " 'assignment': (1, 2, 4, 4.44, 56),\n",
       " 'launch_date': {12, 14, 23},\n",
       " 'class_time': {'dev': 12, 'aap': 13, 'datascience': 2},\n",
       " 'mentor': ['smeha', 'aashi', 'khushi']}"
      ]
     },
     "execution_count": 38,
     "metadata": {},
     "output_type": "execute_result"
    }
   ],
   "source": [
    "d6"
   ]
  },
  {
   "cell_type": "markdown",
   "id": "fc966ad0-1b3c-4666-bbb5-fd9479ec3a4b",
   "metadata": {},
   "source": [
    "d6.pop()  # it will give ee\\rror, we have to give key inside pop "
   ]
  },
  {
   "cell_type": "code",
   "execution_count": null,
   "id": "137d0589-ff16-4718-aa6c-f51eaf0e22ff",
   "metadata": {},
   "outputs": [],
   "source": []
  }
 ],
 "metadata": {
  "kernelspec": {
   "display_name": "Python 3 (ipykernel)",
   "language": "python",
   "name": "python3"
  },
  "language_info": {
   "codemirror_mode": {
    "name": "ipython",
    "version": 3
   },
   "file_extension": ".py",
   "mimetype": "text/x-python",
   "name": "python",
   "nbconvert_exporter": "python",
   "pygments_lexer": "ipython3",
   "version": "3.10.8"
  }
 },
 "nbformat": 4,
 "nbformat_minor": 5
}
