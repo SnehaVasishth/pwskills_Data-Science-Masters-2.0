{
 "cells": [
  {
   "cell_type": "code",
   "execution_count": 1,
   "id": "07688da4-6582-4412-8814-7a70a372974d",
   "metadata": {},
   "outputs": [],
   "source": [
    "#single line comment     ques1"
   ]
  },
  {
   "cell_type": "code",
   "execution_count": 2,
   "id": "191f9ff7-d599-45e9-8b40-0a2deb4a4400",
   "metadata": {},
   "outputs": [],
   "source": [
    "#sneha\n",
    "#Vasishth     ques1\n",
    "#Example of multiline comments using hash in front of each line"
   ]
  },
  {
   "cell_type": "code",
   "execution_count": 3,
   "id": "4f5bf9bf-3e10-4a51-b78d-1a26e37ef585",
   "metadata": {},
   "outputs": [
    {
     "name": "stdout",
     "output_type": "stream",
     "text": [
      "above single line comment using string literal will be ignored\n"
     ]
    }
   ],
   "source": [
    "'String literals not assign to variable is treat as comment'\n",
    "print(\"above single line comment using string literal will be ignored\")   #ques1"
   ]
  },
  {
   "cell_type": "code",
   "execution_count": 4,
   "id": "0cf54dcd-6a65-41c9-a84b-5e787bbad90f",
   "metadata": {},
   "outputs": [
    {
     "name": "stdout",
     "output_type": "stream",
     "text": [
      "above is the multiline comment using string literal will be ignored\n"
     ]
    }
   ],
   "source": [
    "\"\"\" This is\n",
    "multiline comment using string literal not assign to any variable\"\"\"\n",
    "print(\"above is the multiline comment using string literal will be ignored\")   #ques 1"
   ]
  },
  {
   "cell_type": "code",
   "execution_count": 5,
   "id": "2e327fe6-3cdc-420e-b659-d3e578f64d88",
   "metadata": {},
   "outputs": [
    {
     "name": "stdout",
     "output_type": "stream",
     "text": [
      " This function is used to tell about the docstrings which is the first line written after any function\n",
      "     method to explain its properties\n",
      "      this is a part of ques1\n"
     ]
    }
   ],
   "source": [
    "def fun():\n",
    "    \"\"\" This function is used to tell about the docstrings which is the first line written after any function\n",
    "     method to explain its properties\n",
    "      this is a part of ques1\"\"\"\n",
    "    \n",
    "print(fun.__doc__)  #ques1"
   ]
  },
  {
   "cell_type": "markdown",
   "id": "2d5a0a1e-8e0a-46c0-b0e5-2f655c2a39e6",
   "metadata": {},
   "source": [
    "# ques 2\n",
    "Variable are the memory places where we store our data. In python there is no facility of declaring variable since \n",
    "python itself a dynamically typed language. \n"
   ]
  },
  {
   "cell_type": "code",
   "execution_count": 6,
   "id": "7d4005c8-6def-44e6-8f21-cb44339db838",
   "metadata": {},
   "outputs": [],
   "source": [
    "#ques 2\n",
    "\n",
    "\n",
    "a=23\n",
    "b=34.5j\n",
    "c=True\n",
    "d=[1,2,3,'Delhi']  #ques 2\n",
    "\n",
    "s={4,5,6,7}       #ques 2\n",
    "\n"
   ]
  },
  {
   "cell_type": "code",
   "execution_count": 7,
   "id": "b6e182d6-775b-479b-ab58-93e534bb95a7",
   "metadata": {},
   "outputs": [
    {
     "name": "stdout",
     "output_type": "stream",
     "text": [
      "23.0\n",
      "[1, 2, 3, 4, 5, 6, 7, 8.88]\n"
     ]
    }
   ],
   "source": [
    "# ques 3\n",
    "\n",
    "\n",
    "a=23\n",
    "b=float(23)     # ques 3\n",
    "\n",
    "print(b)\n",
    "l1=[1,2,3,4,4,4,4,4,5,6,7,8.88,1,1,2]\n",
    "l1=  list(set(l1))     # ques 3\n",
    "\n",
    "print(l1)"
   ]
  },
  {
   "cell_type": "markdown",
   "id": "5220c064-5e5c-416b-87f5-bffe2d769dd8",
   "metadata": {},
   "source": [
    "# ques 4\n",
    "Microsoft Windows [Version 10.0.22621.1702]\n",
    "(c) Microsoft Corporation. All rights reserved.\n",
    "\n",
    "E:\\Sneha\\DataScience_Course_GFG\\Python>python last-day.py\n",
    "enter the day45\n",
    "day before 34\n",
    "4\n",
    "\n",
    "E:\\Sneha\\DataScience_Course_GFG\\Python>\n"
   ]
  },
  {
   "cell_type": "code",
   "execution_count": 8,
   "id": "2aea41c1-4224-4c83-884b-e47d394ddf89",
   "metadata": {},
   "outputs": [
    {
     "data": {
      "text/plain": [
       "[2, 3]"
      ]
     },
     "execution_count": 8,
     "metadata": {},
     "output_type": "execute_result"
    }
   ],
   "source": [
    "#ques 5\n",
    "\n",
    "\n",
    "my_list=[1,2,3,4,5]    #ques 5\n",
    "\n",
    "my_list[1:3]         #ques 5"
   ]
  },
  {
   "cell_type": "markdown",
   "id": "647f22bc-abc2-4cfe-95f3-d4cca8acff14",
   "metadata": {},
   "source": [
    "# ques 6\n",
    "In maths complex numbers are those who have real and imaginary part both. \n",
    "they are represented in the form  a+bj in python.\n",
    "\n"
   ]
  },
  {
   "cell_type": "code",
   "execution_count": 9,
   "id": "5a7f5c0d-5dba-4fce-b218-1426568acbcc",
   "metadata": {},
   "outputs": [
    {
     "data": {
      "text/plain": [
       "(5+3.44j)"
      ]
     },
     "execution_count": 9,
     "metadata": {},
     "output_type": "execute_result"
    }
   ],
   "source": [
    "x= 5+3.44j   #ques6\n",
    "x"
   ]
  },
  {
   "cell_type": "code",
   "execution_count": 10,
   "id": "58437101-bb5c-4768-bd5d-6f9dd19b1876",
   "metadata": {},
   "outputs": [
    {
     "data": {
      "text/plain": [
       "25"
      ]
     },
     "execution_count": 10,
     "metadata": {},
     "output_type": "execute_result"
    }
   ],
   "source": [
    "#ques 7\n",
    "\n",
    "\n",
    "age= 25   #ques 7\n",
    "age\n",
    "\n"
   ]
  },
  {
   "cell_type": "code",
   "execution_count": 11,
   "id": "953a8ef5-24c8-43a4-b527-4e130bbfbc86",
   "metadata": {},
   "outputs": [
    {
     "name": "stdout",
     "output_type": "stream",
     "text": [
      "<class 'float'>\n"
     ]
    }
   ],
   "source": [
    "# ques 8\n",
    "\n",
    "\n",
    "price=9.99   # ques 8\n",
    "print(type(price))"
   ]
  },
  {
   "cell_type": "code",
   "execution_count": 12,
   "id": "bac6ce69-eb26-4015-941b-db3d3f9e133b",
   "metadata": {},
   "outputs": [
    {
     "name": "stdout",
     "output_type": "stream",
     "text": [
      "Sneha Vasishth\n"
     ]
    }
   ],
   "source": [
    "#ques 9\n",
    "\n",
    "name=\"Sneha Vasishth\"    #ques 9\n",
    "print(name)"
   ]
  },
  {
   "cell_type": "code",
   "execution_count": 13,
   "id": "8dee68fb-4c60-4e7b-8013-dbc7e85f6886",
   "metadata": {},
   "outputs": [
    {
     "data": {
      "text/plain": [
       "'World'"
      ]
     },
     "execution_count": 13,
     "metadata": {},
     "output_type": "execute_result"
    }
   ],
   "source": [
    "#ques 10\n",
    "s=\"Hello,World!\"\n",
    "a=s.index(\"W\")\n",
    "b=len(s)\n",
    "s[a:b-1]"
   ]
  },
  {
   "cell_type": "code",
   "execution_count": 14,
   "id": "6aaabc9d-aa02-43bf-a773-e0e7baacb0bf",
   "metadata": {},
   "outputs": [],
   "source": [
    "#ques 11\n",
    "\n",
    "is_student=True"
   ]
  }
 ],
 "metadata": {
  "kernelspec": {
   "display_name": "Python 3 (ipykernel)",
   "language": "python",
   "name": "python3"
  },
  "language_info": {
   "codemirror_mode": {
    "name": "ipython",
    "version": 3
   },
   "file_extension": ".py",
   "mimetype": "text/x-python",
   "name": "python",
   "nbconvert_exporter": "python",
   "pygments_lexer": "ipython3",
   "version": "3.10.8"
  }
 },
 "nbformat": 4,
 "nbformat_minor": 5
}
