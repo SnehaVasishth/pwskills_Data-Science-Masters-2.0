{
 "cells": [
  {
   "cell_type": "code",
   "execution_count": 1,
   "id": "2cd0afa8-deb3-4bcc-a105-782448076a8c",
   "metadata": {},
   "outputs": [],
   "source": [
    "l=[1,2,3,4.56,4.66,\"sneha\", 5+3j]"
   ]
  },
  {
   "cell_type": "code",
   "execution_count": 2,
   "id": "265743d9-f76c-4d09-bc81-1c83bc0e4e97",
   "metadata": {},
   "outputs": [
    {
     "data": {
      "text/plain": [
       "[1, 2, 3, 4.56, 4.66, 'sneha', (5+3j)]"
      ]
     },
     "execution_count": 2,
     "metadata": {},
     "output_type": "execute_result"
    }
   ],
   "source": [
    "l"
   ]
  },
  {
   "cell_type": "code",
   "execution_count": 3,
   "id": "45793c88-b82f-4d61-9049-7569424c18bc",
   "metadata": {},
   "outputs": [
    {
     "data": {
      "text/plain": [
       "list"
      ]
     },
     "execution_count": 3,
     "metadata": {},
     "output_type": "execute_result"
    }
   ],
   "source": [
    "type(l)"
   ]
  },
  {
   "cell_type": "code",
   "execution_count": 4,
   "id": "c60b0fd1-3ef7-4db7-a669-25e8339859fd",
   "metadata": {},
   "outputs": [
    {
     "data": {
      "text/plain": [
       "1"
      ]
     },
     "execution_count": 4,
     "metadata": {},
     "output_type": "execute_result"
    }
   ],
   "source": [
    "l[0]"
   ]
  },
  {
   "cell_type": "code",
   "execution_count": 5,
   "id": "10dc1433-d502-419f-88e1-a146868f0b7d",
   "metadata": {},
   "outputs": [],
   "source": [
    "l.append(\"vasishth\")"
   ]
  },
  {
   "cell_type": "code",
   "execution_count": 6,
   "id": "fdd46604-9b3c-4be9-9bf3-fbb8695e4476",
   "metadata": {},
   "outputs": [
    {
     "data": {
      "text/plain": [
       "[1, 2, 3, 4.56, 4.66, 'sneha', (5+3j), 'vasishth']"
      ]
     },
     "execution_count": 6,
     "metadata": {},
     "output_type": "execute_result"
    }
   ],
   "source": [
    "l"
   ]
  },
  {
   "cell_type": "code",
   "execution_count": 7,
   "id": "b5eccb02-c28d-46d1-ac56-ad79387e1094",
   "metadata": {},
   "outputs": [],
   "source": [
    "s=\"sneha\""
   ]
  },
  {
   "cell_type": "code",
   "execution_count": 8,
   "id": "e4e1790f-8b3d-4e7d-a03a-ce74ea1283d9",
   "metadata": {},
   "outputs": [
    {
     "data": {
      "text/plain": [
       "'sneha1'"
      ]
     },
     "execution_count": 8,
     "metadata": {},
     "output_type": "execute_result"
    }
   ],
   "source": [
    "s+'1'"
   ]
  },
  {
   "cell_type": "code",
   "execution_count": 9,
   "id": "9ca4d7e0-be21-449c-9921-b4804de15d2d",
   "metadata": {},
   "outputs": [
    {
     "data": {
      "text/plain": [
       "'sneha'"
      ]
     },
     "execution_count": 9,
     "metadata": {},
     "output_type": "execute_result"
    }
   ],
   "source": [
    "s"
   ]
  },
  {
   "cell_type": "code",
   "execution_count": 10,
   "id": "e7d64175-458b-456e-be08-84e99b95db1c",
   "metadata": {},
   "outputs": [
    {
     "data": {
      "text/plain": [
       "[1, 2, 3]"
      ]
     },
     "execution_count": 10,
     "metadata": {},
     "output_type": "execute_result"
    }
   ],
   "source": [
    "l[0:3]"
   ]
  },
  {
   "cell_type": "code",
   "execution_count": 11,
   "id": "f4a973a0-77d8-4619-98cf-af000a422857",
   "metadata": {},
   "outputs": [
    {
     "data": {
      "text/plain": [
       "'vasishth'"
      ]
     },
     "execution_count": 11,
     "metadata": {},
     "output_type": "execute_result"
    }
   ],
   "source": [
    "l[-1]"
   ]
  },
  {
   "cell_type": "code",
   "execution_count": 12,
   "id": "ef0dc1d7-ddf0-4f13-a921-ad5ec0944aaf",
   "metadata": {},
   "outputs": [
    {
     "data": {
      "text/plain": [
       "['vasishth', (5+3j), 'sneha', 4.66, 4.56, 3, 2, 1]"
      ]
     },
     "execution_count": 12,
     "metadata": {},
     "output_type": "execute_result"
    }
   ],
   "source": [
    "l[::-1]"
   ]
  },
  {
   "cell_type": "code",
   "execution_count": 13,
   "id": "dfc5a750-21b0-4610-aec8-e596f4a1ef7f",
   "metadata": {},
   "outputs": [
    {
     "data": {
      "text/plain": [
       "[1, 3, 4.66, (5+3j)]"
      ]
     },
     "execution_count": 13,
     "metadata": {},
     "output_type": "execute_result"
    }
   ],
   "source": [
    "l[0:len(l):2]"
   ]
  },
  {
   "cell_type": "code",
   "execution_count": 14,
   "id": "12d15c38-362c-4b0d-8c89-f48c4eb17d19",
   "metadata": {},
   "outputs": [
    {
     "data": {
      "text/plain": [
       "[2, 3, 4, 1, 2, 3, 4.56, 4.66, 'sneha', (5+3j), 'vasishth']"
      ]
     },
     "execution_count": 14,
     "metadata": {},
     "output_type": "execute_result"
    }
   ],
   "source": [
    "l1=[2,3,4]\n",
    "l1+l\n"
   ]
  },
  {
   "cell_type": "code",
   "execution_count": 15,
   "id": "00a1c0b8-cb60-47d0-a27a-27802469cb4e",
   "metadata": {},
   "outputs": [
    {
     "data": {
      "text/plain": [
       "[1, 2, 3, 's', 'n', 'e', 'h', 'a']"
      ]
     },
     "execution_count": 15,
     "metadata": {},
     "output_type": "execute_result"
    }
   ],
   "source": [
    "s=\"sneha\"\n",
    "l2=[1,2,3]\n",
    "\n",
    "l2+list(s)"
   ]
  },
  {
   "cell_type": "code",
   "execution_count": 16,
   "id": "b310bf63-05c3-486a-a6d2-79fd40403651",
   "metadata": {},
   "outputs": [
    {
     "data": {
      "text/plain": [
       "[1, 2, 3]"
      ]
     },
     "execution_count": 16,
     "metadata": {},
     "output_type": "execute_result"
    }
   ],
   "source": [
    "l2"
   ]
  },
  {
   "cell_type": "code",
   "execution_count": 17,
   "id": "0cab8f7f-f186-4d54-a204-4f7f0431f81d",
   "metadata": {},
   "outputs": [
    {
     "data": {
      "text/plain": [
       "[1, 2, 3, 4.56, 4.66, 'sneha', (5+3j), 'vasishth']"
      ]
     },
     "execution_count": 17,
     "metadata": {},
     "output_type": "execute_result"
    }
   ],
   "source": [
    "l"
   ]
  },
  {
   "cell_type": "code",
   "execution_count": 18,
   "id": "cea719aa-1cd1-4597-a5b4-ea42806625b4",
   "metadata": {},
   "outputs": [
    {
     "data": {
      "text/plain": [
       "'sneha'"
      ]
     },
     "execution_count": 18,
     "metadata": {},
     "output_type": "execute_result"
    }
   ],
   "source": [
    "l[5]"
   ]
  },
  {
   "cell_type": "code",
   "execution_count": 19,
   "id": "51957274-aec7-43ac-a567-7d449537b8eb",
   "metadata": {},
   "outputs": [
    {
     "data": {
      "text/plain": [
       "'sn'"
      ]
     },
     "execution_count": 19,
     "metadata": {},
     "output_type": "execute_result"
    }
   ],
   "source": [
    "l[5][0:2]"
   ]
  },
  {
   "cell_type": "markdown",
   "id": "5460756f-4a8f-4a22-a2f9-d01f9fc21e9f",
   "metadata": {},
   "source": [
    "l+5  # list + int not possible"
   ]
  },
  {
   "cell_type": "markdown",
   "id": "c5899749-d323-4542-92c0-ec1c626af389",
   "metadata": {},
   "source": []
  },
  {
   "cell_type": "code",
   "execution_count": 20,
   "id": "81d79541-3540-4b94-913c-2c471833574d",
   "metadata": {},
   "outputs": [
    {
     "data": {
      "text/plain": [
       "[1,\n",
       " 2,\n",
       " 3,\n",
       " 4.56,\n",
       " 4.66,\n",
       " 'sneha',\n",
       " (5+3j),\n",
       " 'vasishth',\n",
       " 1,\n",
       " 2,\n",
       " 3,\n",
       " 4.56,\n",
       " 4.66,\n",
       " 'sneha',\n",
       " (5+3j),\n",
       " 'vasishth',\n",
       " 1,\n",
       " 2,\n",
       " 3,\n",
       " 4.56,\n",
       " 4.66,\n",
       " 'sneha',\n",
       " (5+3j),\n",
       " 'vasishth',\n",
       " 1,\n",
       " 2,\n",
       " 3,\n",
       " 4.56,\n",
       " 4.66,\n",
       " 'sneha',\n",
       " (5+3j),\n",
       " 'vasishth']"
      ]
     },
     "execution_count": 20,
     "metadata": {},
     "output_type": "execute_result"
    }
   ],
   "source": [
    "l * 4"
   ]
  },
  {
   "cell_type": "code",
   "execution_count": 21,
   "id": "61443e83-b18b-4e75-a99a-1d953eb8f6b7",
   "metadata": {},
   "outputs": [
    {
     "data": {
      "text/plain": [
       "8"
      ]
     },
     "execution_count": 21,
     "metadata": {},
     "output_type": "execute_result"
    }
   ],
   "source": [
    "len(l)"
   ]
  },
  {
   "cell_type": "markdown",
   "id": "f06e50ce-bb6b-4ed4-ab6b-51eba28972bc",
   "metadata": {},
   "source": [
    "l+5 # will not work"
   ]
  },
  {
   "cell_type": "code",
   "execution_count": 22,
   "id": "f66f4939-72bb-4992-80d3-15dea17c83ab",
   "metadata": {},
   "outputs": [],
   "source": [
    "l.append(5)"
   ]
  },
  {
   "cell_type": "code",
   "execution_count": 23,
   "id": "783edb05-9f56-4f21-9fd4-42a0a923b9b3",
   "metadata": {},
   "outputs": [
    {
     "data": {
      "text/plain": [
       "[1, 2, 3, 4.56, 4.66, 'sneha', (5+3j), 'vasishth', 5]"
      ]
     },
     "execution_count": 23,
     "metadata": {},
     "output_type": "execute_result"
    }
   ],
   "source": [
    "l"
   ]
  },
  {
   "cell_type": "code",
   "execution_count": 24,
   "id": "7629465d-4384-4460-8f5a-0f21091b66b4",
   "metadata": {},
   "outputs": [],
   "source": [
    "l.append(s)  #not adding as a individaul character as + was doing"
   ]
  },
  {
   "cell_type": "code",
   "execution_count": 25,
   "id": "8c162c74-e367-460d-ba8b-cd8051439186",
   "metadata": {},
   "outputs": [
    {
     "data": {
      "text/plain": [
       "[1, 2, 3, 4.56, 4.66, 'sneha', (5+3j), 'vasishth', 5, 'sneha']"
      ]
     },
     "execution_count": 25,
     "metadata": {},
     "output_type": "execute_result"
    }
   ],
   "source": [
    "l"
   ]
  },
  {
   "cell_type": "code",
   "execution_count": 26,
   "id": "2875077e-cb7b-4930-8c39-51bef270469a",
   "metadata": {},
   "outputs": [],
   "source": [
    "l4=[1,3,5]\n",
    "l5=[1,2.3,3.44,True,\"sneha\"]\n",
    "l5.append(l4)"
   ]
  },
  {
   "cell_type": "code",
   "execution_count": 27,
   "id": "fd691fda-c0c5-4896-9864-2c14fed6ead9",
   "metadata": {},
   "outputs": [
    {
     "data": {
      "text/plain": [
       "[1, 2.3, 3.44, True, 'sneha', [1, 3, 5]]"
      ]
     },
     "execution_count": 27,
     "metadata": {},
     "output_type": "execute_result"
    }
   ],
   "source": [
    "l5"
   ]
  },
  {
   "cell_type": "code",
   "execution_count": 28,
   "id": "e2526100-24ce-4d2f-af4f-64af7bbafd3a",
   "metadata": {},
   "outputs": [
    {
     "data": {
      "text/plain": [
       "3"
      ]
     },
     "execution_count": 28,
     "metadata": {},
     "output_type": "execute_result"
    }
   ],
   "source": [
    "l5[-1][1]"
   ]
  },
  {
   "cell_type": "code",
   "execution_count": 29,
   "id": "7f2b8db5-af31-457f-866e-9e81a7292935",
   "metadata": {},
   "outputs": [],
   "source": [
    "a=[1,2,3]\n",
    "b=[4,5,7,True]\n",
    "a=a+b"
   ]
  },
  {
   "cell_type": "code",
   "execution_count": 30,
   "id": "d34e687f-cded-426d-bfe9-56e20622abac",
   "metadata": {},
   "outputs": [
    {
     "data": {
      "text/plain": [
       "[1, 2, 3, 4, 5, 7, True]"
      ]
     },
     "execution_count": 30,
     "metadata": {},
     "output_type": "execute_result"
    }
   ],
   "source": [
    "a"
   ]
  },
  {
   "cell_type": "code",
   "execution_count": 31,
   "id": "77c21b78-7177-461f-860d-b869fe0c4b0c",
   "metadata": {},
   "outputs": [
    {
     "data": {
      "text/plain": [
       "[4, 5, 7, True]"
      ]
     },
     "execution_count": 31,
     "metadata": {},
     "output_type": "execute_result"
    }
   ],
   "source": [
    "b"
   ]
  },
  {
   "cell_type": "code",
   "execution_count": 32,
   "id": "19d6effe-4217-40ba-a760-e1ed9e1700cd",
   "metadata": {},
   "outputs": [],
   "source": [
    "c=[1,2,3,4]\n",
    "d=[3,5,7,88,90]\n",
    "c.append(d)"
   ]
  },
  {
   "cell_type": "code",
   "execution_count": 33,
   "id": "8ef2d3fc-7dc2-4e8c-a56f-af515db010b4",
   "metadata": {},
   "outputs": [
    {
     "data": {
      "text/plain": [
       "[1, 2, 3, 4, [3, 5, 7, 88, 90]]"
      ]
     },
     "execution_count": 33,
     "metadata": {},
     "output_type": "execute_result"
    }
   ],
   "source": [
    "c"
   ]
  },
  {
   "cell_type": "code",
   "execution_count": 34,
   "id": "eca193c2-158d-4b96-a696-756220dd7710",
   "metadata": {},
   "outputs": [],
   "source": [
    "a=[\"sneha\",\"\" ,1,2,3]\n",
    "b=[4,5.55,5,6]\n",
    "a.extend(b)  # extend working same as +, adding items by separting them taking only iterables as parameter"
   ]
  },
  {
   "cell_type": "code",
   "execution_count": 35,
   "id": "ea16b698-b2ae-44eb-b28a-fe29ad2bfbf2",
   "metadata": {},
   "outputs": [
    {
     "data": {
      "text/plain": [
       "['sneha', '', 1, 2, 3, 4, 5.55, 5, 6]"
      ]
     },
     "execution_count": 35,
     "metadata": {},
     "output_type": "execute_result"
    }
   ],
   "source": [
    "a"
   ]
  },
  {
   "cell_type": "code",
   "execution_count": 36,
   "id": "1039edd6-49e5-4e1b-ac8e-428678f19b0d",
   "metadata": {},
   "outputs": [],
   "source": [
    "s=[\"\",\"sneha\",1,2,3]\n",
    "s.insert(0,1)"
   ]
  },
  {
   "cell_type": "code",
   "execution_count": 37,
   "id": "92b3dbec-c4ed-43d4-be22-f49abd150c55",
   "metadata": {},
   "outputs": [
    {
     "data": {
      "text/plain": [
       "[1, '', 'sneha', 1, 2, 3]"
      ]
     },
     "execution_count": 37,
     "metadata": {},
     "output_type": "execute_result"
    }
   ],
   "source": [
    "s"
   ]
  },
  {
   "cell_type": "code",
   "execution_count": 38,
   "id": "f10c6720-3a7e-416d-aec7-14e7ee6581b6",
   "metadata": {},
   "outputs": [],
   "source": [
    "s.insert(2,[22,3,12]) # working same as append , puts data at sepcifird loaction"
   ]
  },
  {
   "cell_type": "code",
   "execution_count": 39,
   "id": "264f8702-9ff9-4880-aace-c8c53f0d40a0",
   "metadata": {},
   "outputs": [
    {
     "data": {
      "text/plain": [
       "[1, '', [22, 3, 12], 'sneha', 1, 2, 3]"
      ]
     },
     "execution_count": 39,
     "metadata": {},
     "output_type": "execute_result"
    }
   ],
   "source": [
    "s"
   ]
  },
  {
   "cell_type": "code",
   "execution_count": 40,
   "id": "1c2587e8-9415-4353-8525-0a615c61167b",
   "metadata": {},
   "outputs": [],
   "source": [
    "s.insert(-1,233)  # put data at -1 aur sara data ko piche kiskado"
   ]
  },
  {
   "cell_type": "code",
   "execution_count": 41,
   "id": "2342316c-e1fb-4391-8718-d14d0773bd0a",
   "metadata": {},
   "outputs": [
    {
     "data": {
      "text/plain": [
       "[1, '', [22, 3, 12], 'sneha', 1, 2, 233, 3]"
      ]
     },
     "execution_count": 41,
     "metadata": {},
     "output_type": "execute_result"
    }
   ],
   "source": [
    "s"
   ]
  },
  {
   "cell_type": "code",
   "execution_count": 42,
   "id": "424d2b45-f032-4b52-8477-3fb3df152a6b",
   "metadata": {},
   "outputs": [
    {
     "data": {
      "text/plain": [
       "3"
      ]
     },
     "execution_count": 42,
     "metadata": {},
     "output_type": "execute_result"
    }
   ],
   "source": [
    "s.pop() # pops data from index=-1"
   ]
  },
  {
   "cell_type": "code",
   "execution_count": 43,
   "id": "246a4cf0-02f8-4e66-9cf3-8ef86018266e",
   "metadata": {},
   "outputs": [
    {
     "data": {
      "text/plain": [
       "[1, '', [22, 3, 12], 'sneha', 1, 2, 233]"
      ]
     },
     "execution_count": 43,
     "metadata": {},
     "output_type": "execute_result"
    }
   ],
   "source": [
    "s"
   ]
  },
  {
   "cell_type": "code",
   "execution_count": 44,
   "id": "2aedbcbe-1588-4118-a0ec-1702591bdbee",
   "metadata": {},
   "outputs": [
    {
     "data": {
      "text/plain": [
       "[22, 3, 12]"
      ]
     },
     "execution_count": 44,
     "metadata": {},
     "output_type": "execute_result"
    }
   ],
   "source": [
    "s.pop(2)  # in pop() put the index which we have to remove and it return the vaue which is deleted"
   ]
  },
  {
   "cell_type": "code",
   "execution_count": 45,
   "id": "5fd884b4-1003-4389-a9ab-90fb5e32c96e",
   "metadata": {},
   "outputs": [],
   "source": [
    "s.remove(1)  # it remove the first occurence of he value passses as argukent"
   ]
  },
  {
   "cell_type": "code",
   "execution_count": 46,
   "id": "67c7cdac-28cb-4649-9ad3-f8723a38f547",
   "metadata": {},
   "outputs": [
    {
     "data": {
      "text/plain": [
       "['', 'sneha', 1, 2, 233]"
      ]
     },
     "execution_count": 46,
     "metadata": {},
     "output_type": "execute_result"
    }
   ],
   "source": [
    "s"
   ]
  },
  {
   "cell_type": "code",
   "execution_count": 47,
   "id": "2f8be6d9-6d0b-4256-9066-3a02d4d1d7ed",
   "metadata": {},
   "outputs": [],
   "source": [
    "s=[1,2,\"sneh\",[2,4,5]]\n",
    "s[-1].remove(2)  # removal of 2 feom the list presnet inside th list s"
   ]
  },
  {
   "cell_type": "code",
   "execution_count": 48,
   "id": "51950276-fd41-4092-95a1-7529d3e72f30",
   "metadata": {},
   "outputs": [
    {
     "data": {
      "text/plain": [
       "[1, 2, 'sneh', [4, 5]]"
      ]
     },
     "execution_count": 48,
     "metadata": {},
     "output_type": "execute_result"
    }
   ],
   "source": [
    "s"
   ]
  },
  {
   "cell_type": "markdown",
   "id": "0c49e5d7-3718-4262-a2ee-bb0480db52fd",
   "metadata": {},
   "source": [
    "s[2].remove(-1)  # to remove h from\n",
    "senh is not possibel since string is imutable "
   ]
  },
  {
   "cell_type": "code",
   "execution_count": 49,
   "id": "2a3e1e36-9392-4de8-978c-738cc504fc9c",
   "metadata": {},
   "outputs": [],
   "source": [
    "s=[1,2,3,4,4,4,5.55]\n",
    "s.remove(4)"
   ]
  },
  {
   "cell_type": "code",
   "execution_count": 50,
   "id": "6eae1cb7-c9c8-4dec-9579-6bb05e6fbfdb",
   "metadata": {},
   "outputs": [
    {
     "data": {
      "text/plain": [
       "[1, 2, 3, 4, 4, 5.55]"
      ]
     },
     "execution_count": 50,
     "metadata": {},
     "output_type": "execute_result"
    }
   ],
   "source": [
    "s"
   ]
  },
  {
   "cell_type": "code",
   "execution_count": 51,
   "id": "6897eab6-ea89-461e-b74d-715e63dca92f",
   "metadata": {},
   "outputs": [
    {
     "data": {
      "text/plain": [
       "[5.55, 4, 4, 3, 2, 1]"
      ]
     },
     "execution_count": 51,
     "metadata": {},
     "output_type": "execute_result"
    }
   ],
   "source": [
    "s[::-1]"
   ]
  },
  {
   "cell_type": "code",
   "execution_count": 52,
   "id": "99238004-7e0b-4d67-a837-46b867dc55c6",
   "metadata": {},
   "outputs": [
    {
     "data": {
      "text/plain": [
       "[1, 2, 3, 4, 4, 5.55]"
      ]
     },
     "execution_count": 52,
     "metadata": {},
     "output_type": "execute_result"
    }
   ],
   "source": [
    "s"
   ]
  },
  {
   "cell_type": "code",
   "execution_count": 53,
   "id": "4393ea1f-c2e6-44f4-9997-c750c1d4347c",
   "metadata": {},
   "outputs": [],
   "source": [
    "s.reverse()"
   ]
  },
  {
   "cell_type": "code",
   "execution_count": 54,
   "id": "68a39ce1-d126-4629-a804-0e956cda19c8",
   "metadata": {},
   "outputs": [
    {
     "data": {
      "text/plain": [
       "[5.55, 4, 4, 3, 2, 1]"
      ]
     },
     "execution_count": 54,
     "metadata": {},
     "output_type": "execute_result"
    }
   ],
   "source": [
    "s"
   ]
  },
  {
   "cell_type": "code",
   "execution_count": 55,
   "id": "2c765bfb-b73b-444d-b46a-0ca173617e39",
   "metadata": {},
   "outputs": [],
   "source": [
    "s.sort()"
   ]
  },
  {
   "cell_type": "code",
   "execution_count": 56,
   "id": "44dc75d4-a932-42a3-8587-8b178a4d266e",
   "metadata": {},
   "outputs": [
    {
     "data": {
      "text/plain": [
       "[1, 2, 3, 4, 4, 5.55]"
      ]
     },
     "execution_count": 56,
     "metadata": {},
     "output_type": "execute_result"
    }
   ],
   "source": [
    "s"
   ]
  },
  {
   "cell_type": "code",
   "execution_count": 57,
   "id": "286fe390-36c7-47ca-9db2-eabb830fb20d",
   "metadata": {},
   "outputs": [],
   "source": [
    "s=[\"abs\",\"adc\",\"sneha\"]\n",
    "s.sort()"
   ]
  },
  {
   "cell_type": "code",
   "execution_count": 58,
   "id": "00c1b239-2917-4872-9eba-ea9717415687",
   "metadata": {},
   "outputs": [
    {
     "data": {
      "text/plain": [
       "['abs', 'adc', 'sneha']"
      ]
     },
     "execution_count": 58,
     "metadata": {},
     "output_type": "execute_result"
    }
   ],
   "source": [
    "s"
   ]
  },
  {
   "cell_type": "code",
   "execution_count": 59,
   "id": "62804139-fe97-46a8-8e12-99ca61905102",
   "metadata": {},
   "outputs": [],
   "source": [
    "s.append(5)"
   ]
  },
  {
   "cell_type": "code",
   "execution_count": 60,
   "id": "2d3827da-90bd-4f30-83b4-98bac9d27930",
   "metadata": {},
   "outputs": [
    {
     "data": {
      "text/plain": [
       "['abs', 'adc', 'sneha', 5]"
      ]
     },
     "execution_count": 60,
     "metadata": {},
     "output_type": "execute_result"
    }
   ],
   "source": [
    "s"
   ]
  },
  {
   "cell_type": "markdown",
   "id": "ae125be7-243f-42be-9c0c-266ad3372d69",
   "metadata": {},
   "source": [
    "s.sort()  # contain string and number, not possible to sort"
   ]
  },
  {
   "cell_type": "code",
   "execution_count": 61,
   "id": "adf5ab77-1ab0-4ed7-a849-05c5844883a4",
   "metadata": {},
   "outputs": [],
   "source": [
    "s.remove(5)\n",
    "s.sort(reverse=True)  # sorts in decresing order"
   ]
  },
  {
   "cell_type": "code",
   "execution_count": 62,
   "id": "a0c7094c-9954-4a23-aeac-f56cf9ed173e",
   "metadata": {},
   "outputs": [
    {
     "data": {
      "text/plain": [
       "['sneha', 'adc', 'abs']"
      ]
     },
     "execution_count": 62,
     "metadata": {},
     "output_type": "execute_result"
    }
   ],
   "source": [
    "s"
   ]
  },
  {
   "cell_type": "code",
   "execution_count": 63,
   "id": "305b68db-d6e3-4c49-a0bf-cd6582e21d6a",
   "metadata": {},
   "outputs": [
    {
     "data": {
      "text/plain": [
       "0"
      ]
     },
     "execution_count": 63,
     "metadata": {},
     "output_type": "execute_result"
    }
   ],
   "source": [
    "s.index(\"sneha\")"
   ]
  },
  {
   "cell_type": "code",
   "execution_count": 64,
   "id": "1238eef9-cac4-4291-9c8b-6545dc6060a7",
   "metadata": {},
   "outputs": [
    {
     "data": {
      "text/plain": [
       "2"
      ]
     },
     "execution_count": 64,
     "metadata": {},
     "output_type": "execute_result"
    }
   ],
   "source": [
    "s=[2,2,1,1,3,4,4,55,543,23]\n",
    "s.count(2)  # number of time 2 occured in list"
   ]
  },
  {
   "cell_type": "code",
   "execution_count": 65,
   "id": "10e6012b-1ab2-4172-ae26-7f40e30479fc",
   "metadata": {},
   "outputs": [],
   "source": [
    "a=\"sneha\""
   ]
  },
  {
   "cell_type": "markdown",
   "id": "0e8ca88d-5248-48c1-acf1-cf42a7c90447",
   "metadata": {},
   "source": [
    "a[0]='a'  #immutable"
   ]
  },
  {
   "cell_type": "code",
   "execution_count": 66,
   "id": "9a003bad-38fd-48a2-b54c-5fe852d365fa",
   "metadata": {},
   "outputs": [],
   "source": [
    "s[0]=5  #mutable"
   ]
  },
  {
   "cell_type": "code",
   "execution_count": 67,
   "id": "3be842a7-f4b3-4335-9187-00f9eb3c4ae3",
   "metadata": {},
   "outputs": [
    {
     "data": {
      "text/plain": [
       "[5, 2, 1, 1, 3, 4, 4, 55, 543, 23]"
      ]
     },
     "execution_count": 67,
     "metadata": {},
     "output_type": "execute_result"
    }
   ],
   "source": [
    "s"
   ]
  },
  {
   "cell_type": "markdown",
   "id": "6eeb5028-f2da-4473-9ff0-d80e26573fc7",
   "metadata": {},
   "source": [
    "a=[1,2,3]\n",
    "a+\"abc\""
   ]
  },
  {
   "cell_type": "code",
   "execution_count": 69,
   "id": "31891fd4-ac1d-4e00-a6b5-125b5d13b7ad",
   "metadata": {},
   "outputs": [],
   "source": [
    "a.extend(\"abc\")"
   ]
  },
  {
   "cell_type": "code",
   "execution_count": 70,
   "id": "e5b0dd0a-ae1e-4891-a314-ccb5101a706c",
   "metadata": {},
   "outputs": [
    {
     "data": {
      "text/plain": [
       "[1, 2, 3, 'a', 'b', 'c']"
      ]
     },
     "execution_count": 70,
     "metadata": {},
     "output_type": "execute_result"
    }
   ],
   "source": [
    "a"
   ]
  },
  {
   "cell_type": "code",
   "execution_count": 72,
   "id": "8c5c7706-eee4-4058-8916-64b17680b9e4",
   "metadata": {},
   "outputs": [
    {
     "data": {
      "text/plain": [
       "[1, 2, 3, 'a', 'b', 'c', 'p', 'q', 'r']"
      ]
     },
     "execution_count": 72,
     "metadata": {},
     "output_type": "execute_result"
    }
   ],
   "source": [
    "a+list(\"pqr\")"
   ]
  },
  {
   "cell_type": "code",
   "execution_count": 73,
   "id": "d472f7f2-c1db-4899-a8c6-3ee8b5cec522",
   "metadata": {},
   "outputs": [],
   "source": [
    "a.append(\"cde\")"
   ]
  },
  {
   "cell_type": "code",
   "execution_count": 74,
   "id": "7e0f6379-2c1b-4634-af14-b6b41e8a25f9",
   "metadata": {},
   "outputs": [
    {
     "data": {
      "text/plain": [
       "[1, 2, 3, 'a', 'b', 'c', 'cde']"
      ]
     },
     "execution_count": 74,
     "metadata": {},
     "output_type": "execute_result"
    }
   ],
   "source": [
    "a"
   ]
  },
  {
   "cell_type": "markdown",
   "id": "5344a2f4-1da2-4ae7-a433-9721390271a4",
   "metadata": {},
   "source": [
    "a=[1,2,3,[6,7,8]]\n",
    "a.sort()"
   ]
  },
  {
   "cell_type": "code",
   "execution_count": 76,
   "id": "a81db62f-40dd-45b1-9c1b-021c9728aebb",
   "metadata": {},
   "outputs": [],
   "source": [
    "a=[1,2,4,6,7,4]\n",
    "a.sort()"
   ]
  },
  {
   "cell_type": "code",
   "execution_count": 77,
   "id": "d04dfa55-0aad-4ac0-a0d9-ef4faa9c189f",
   "metadata": {},
   "outputs": [
    {
     "data": {
      "text/plain": [
       "[1, 2, 4, 4, 6, 7]"
      ]
     },
     "execution_count": 77,
     "metadata": {},
     "output_type": "execute_result"
    }
   ],
   "source": [
    "a"
   ]
  },
  {
   "cell_type": "code",
   "execution_count": 78,
   "id": "5c4f22c6-5ee7-452e-b855-78447698a045",
   "metadata": {},
   "outputs": [],
   "source": [
    "a.sort(reverse=True)"
   ]
  },
  {
   "cell_type": "code",
   "execution_count": 79,
   "id": "01e7ff23-328d-41f2-b835-d34378b0a36f",
   "metadata": {},
   "outputs": [
    {
     "data": {
      "text/plain": [
       "[7, 6, 4, 4, 2, 1]"
      ]
     },
     "execution_count": 79,
     "metadata": {},
     "output_type": "execute_result"
    }
   ],
   "source": [
    "a"
   ]
  },
  {
   "cell_type": "code",
   "execution_count": 80,
   "id": "01768bdb-b446-496c-afb7-1731b56b8cf9",
   "metadata": {},
   "outputs": [
    {
     "name": "stdout",
     "output_type": "stream",
     "text": [
      "[7, 6, 4, 4, 2, 1]\n"
     ]
    }
   ],
   "source": [
    "print(a)"
   ]
  },
  {
   "cell_type": "markdown",
   "id": "ce8e8803-f022-4230-9976-f182b6872cd7",
   "metadata": {},
   "source": [
    "str=\"absc\"\n",
    "str.sort()"
   ]
  },
  {
   "cell_type": "code",
   "execution_count": 82,
   "id": "68925562-695d-418e-9179-ac6eb87860ae",
   "metadata": {},
   "outputs": [
    {
     "data": {
      "text/plain": [
       "2"
      ]
     },
     "execution_count": 82,
     "metadata": {},
     "output_type": "execute_result"
    }
   ],
   "source": [
    "a.index(4)  # index of first occurence for first value"
   ]
  },
  {
   "cell_type": "code",
   "execution_count": 83,
   "id": "06f4d47f-b2ef-420e-b105-382bc0f7ddc9",
   "metadata": {},
   "outputs": [
    {
     "data": {
      "text/plain": [
       "2"
      ]
     },
     "execution_count": 83,
     "metadata": {},
     "output_type": "execute_result"
    }
   ],
   "source": [
    "a.count(4)"
   ]
  },
  {
   "cell_type": "code",
   "execution_count": 84,
   "id": "25ff60f6-36e4-4f58-ada2-b5aa01ee0102",
   "metadata": {},
   "outputs": [
    {
     "data": {
      "text/plain": [
       "'aneha'"
      ]
     },
     "execution_count": 84,
     "metadata": {},
     "output_type": "execute_result"
    }
   ],
   "source": [
    "s=\"sneha\"\n",
    "s.replace('s','a')  #generating new object"
   ]
  },
  {
   "cell_type": "code",
   "execution_count": 85,
   "id": "ab1f4336-6c28-4fc2-8839-60bf18195c55",
   "metadata": {},
   "outputs": [
    {
     "data": {
      "text/plain": [
       "'sneha'"
      ]
     },
     "execution_count": 85,
     "metadata": {},
     "output_type": "execute_result"
    }
   ],
   "source": [
    "s"
   ]
  },
  {
   "cell_type": "code",
   "execution_count": 86,
   "id": "54a5a2ef-7966-4f03-9ad9-9d1f45848b59",
   "metadata": {},
   "outputs": [],
   "source": [
    "t=(1,2,3,4,\"sneha\", 5+2j)"
   ]
  },
  {
   "cell_type": "code",
   "execution_count": 87,
   "id": "3e32f06d-dd6d-4917-83fc-9b27636f4d03",
   "metadata": {},
   "outputs": [
    {
     "data": {
      "text/plain": [
       "(1, 2, 3, 4, 'sneha', (5+2j))"
      ]
     },
     "execution_count": 87,
     "metadata": {},
     "output_type": "execute_result"
    }
   ],
   "source": [
    "t"
   ]
  },
  {
   "cell_type": "markdown",
   "id": "8640d9be-a2a4-4dab-a3b4-f80fc5fe8a69",
   "metadata": {},
   "source": [
    "t.append([1,2,3])"
   ]
  },
  {
   "cell_type": "code",
   "execution_count": 89,
   "id": "0700dc1c-2940-4d8e-b690-f164fd2a401d",
   "metadata": {},
   "outputs": [
    {
     "data": {
      "text/plain": [
       "6"
      ]
     },
     "execution_count": 89,
     "metadata": {},
     "output_type": "execute_result"
    }
   ],
   "source": [
    "len(t)"
   ]
  },
  {
   "cell_type": "code",
   "execution_count": 90,
   "id": "4554c8aa-7462-493a-935f-dd684d832260",
   "metadata": {},
   "outputs": [
    {
     "data": {
      "text/plain": [
       "tuple"
      ]
     },
     "execution_count": 90,
     "metadata": {},
     "output_type": "execute_result"
    }
   ],
   "source": [
    "type(t)"
   ]
  },
  {
   "cell_type": "code",
   "execution_count": 91,
   "id": "2445ceef-4aae-4470-b8db-6e443a9578a0",
   "metadata": {},
   "outputs": [
    {
     "data": {
      "text/plain": [
       "4"
      ]
     },
     "execution_count": 91,
     "metadata": {},
     "output_type": "execute_result"
    }
   ],
   "source": [
    "t[3]"
   ]
  },
  {
   "cell_type": "code",
   "execution_count": 92,
   "id": "4f25d664-9a3f-471c-a381-4a7c7d823b9c",
   "metadata": {},
   "outputs": [
    {
     "data": {
      "text/plain": [
       "(5+2j)"
      ]
     },
     "execution_count": 92,
     "metadata": {},
     "output_type": "execute_result"
    }
   ],
   "source": [
    "t[-1]"
   ]
  },
  {
   "cell_type": "code",
   "execution_count": 93,
   "id": "4ed053aa-5600-48d4-9f31-f728779f345f",
   "metadata": {},
   "outputs": [
    {
     "data": {
      "text/plain": [
       "[2, 3, 4]"
      ]
     },
     "execution_count": 93,
     "metadata": {},
     "output_type": "execute_result"
    }
   ],
   "source": [
    "l1"
   ]
  },
  {
   "cell_type": "code",
   "execution_count": 94,
   "id": "53bcc53c-4325-4fc0-a347-8cfc5312c8e0",
   "metadata": {},
   "outputs": [],
   "source": [
    "l1[0]=1"
   ]
  },
  {
   "cell_type": "code",
   "execution_count": 95,
   "id": "02779fe4-e929-4dba-891b-abfd73a56c91",
   "metadata": {},
   "outputs": [
    {
     "data": {
      "text/plain": [
       "[1, 3, 4]"
      ]
     },
     "execution_count": 95,
     "metadata": {},
     "output_type": "execute_result"
    }
   ],
   "source": [
    "l1"
   ]
  },
  {
   "cell_type": "markdown",
   "id": "dcb3f789-d9d1-4ba6-bf8b-cf2af6a5055e",
   "metadata": {},
   "source": [
    "t[0]=\"qsneha\"  # tuple is immutable can not modify at index"
   ]
  },
  {
   "cell_type": "code",
   "execution_count": 97,
   "id": "49597a76-e564-448a-b661-d6806287dc9d",
   "metadata": {},
   "outputs": [
    {
     "data": {
      "text/plain": [
       "((5+2j), 'sneha', 4, 3, 2, 1)"
      ]
     },
     "execution_count": 97,
     "metadata": {},
     "output_type": "execute_result"
    }
   ],
   "source": [
    "t[::-1]  # creating new object,its creating new object no modification in orifinal t"
   ]
  },
  {
   "cell_type": "code",
   "execution_count": 98,
   "id": "91cbd2db-0413-43b7-9082-f6edeb89b695",
   "metadata": {},
   "outputs": [
    {
     "data": {
      "text/plain": [
       "(1, 2, 3, 4, 'sneha', (5+2j))"
      ]
     },
     "execution_count": 98,
     "metadata": {},
     "output_type": "execute_result"
    }
   ],
   "source": [
    "t"
   ]
  },
  {
   "cell_type": "code",
   "execution_count": 99,
   "id": "14006cdf-87f8-4803-9105-6e1b036c651a",
   "metadata": {},
   "outputs": [
    {
     "data": {
      "text/plain": [
       "1"
      ]
     },
     "execution_count": 99,
     "metadata": {},
     "output_type": "execute_result"
    }
   ],
   "source": [
    "t.count(1)"
   ]
  },
  {
   "cell_type": "code",
   "execution_count": 100,
   "id": "d213aaa5-be0f-4c60-9ce8-98489945fb3a",
   "metadata": {},
   "outputs": [
    {
     "data": {
      "text/plain": [
       "4"
      ]
     },
     "execution_count": 100,
     "metadata": {},
     "output_type": "execute_result"
    }
   ],
   "source": [
    "t.index(\"sneha\")"
   ]
  },
  {
   "cell_type": "code",
   "execution_count": 101,
   "id": "af7b3287-dd92-45e4-be73-204d352a7c4e",
   "metadata": {},
   "outputs": [
    {
     "data": {
      "text/plain": [
       "'abcpqr'"
      ]
     },
     "execution_count": 101,
     "metadata": {},
     "output_type": "execute_result"
    }
   ],
   "source": [
    "s=\"abc\"\n",
    "s+\"pqr\""
   ]
  },
  {
   "cell_type": "code",
   "execution_count": 102,
   "id": "aea5d4f0-411e-4c5c-bea9-bce379892649",
   "metadata": {},
   "outputs": [
    {
     "data": {
      "text/plain": [
       "'abc'"
      ]
     },
     "execution_count": 102,
     "metadata": {},
     "output_type": "execute_result"
    }
   ],
   "source": [
    "s"
   ]
  },
  {
   "cell_type": "markdown",
   "id": "45b3a245-3785-45f5-a7a5-b25b45d11e07",
   "metadata": {},
   "source": [
    "s.append(\"ofg\")   # string has no function like append aand add"
   ]
  },
  {
   "cell_type": "code",
   "execution_count": 105,
   "id": "eae06e88-d399-42b2-8f03-7c5a32168882",
   "metadata": {},
   "outputs": [],
   "source": [
    "l=[1,2,4,5]\n",
    "l.append(\"abs\")"
   ]
  },
  {
   "cell_type": "code",
   "execution_count": 106,
   "id": "07ae5290-81da-46f0-8a62-2c6e37e47de6",
   "metadata": {},
   "outputs": [
    {
     "data": {
      "text/plain": [
       "[1, 2, 4, 5, 'abs']"
      ]
     },
     "execution_count": 106,
     "metadata": {},
     "output_type": "execute_result"
    }
   ],
   "source": [
    "l"
   ]
  },
  {
   "cell_type": "code",
   "execution_count": 107,
   "id": "594ab035-bbbd-45c1-bcc5-2f8ff48b87a1",
   "metadata": {},
   "outputs": [],
   "source": [
    "l.extend(\"pfr\")"
   ]
  },
  {
   "cell_type": "code",
   "execution_count": 108,
   "id": "b51d7b4c-876c-4d2d-bf7e-64732eb2c1d6",
   "metadata": {},
   "outputs": [
    {
     "data": {
      "text/plain": [
       "[1, 2, 4, 5, 'abs', 'p', 'f', 'r']"
      ]
     },
     "execution_count": 108,
     "metadata": {},
     "output_type": "execute_result"
    }
   ],
   "source": [
    "l"
   ]
  },
  {
   "cell_type": "code",
   "execution_count": 109,
   "id": "b9455ad4-b85d-498a-9e87-97530ee08525",
   "metadata": {},
   "outputs": [
    {
     "data": {
      "text/plain": [
       "[1, 2, 4, 5, 'abs', 'p', 'f', 'r', 'r', 'f', 't']"
      ]
     },
     "execution_count": 109,
     "metadata": {},
     "output_type": "execute_result"
    }
   ],
   "source": [
    "l+list(\"rft\")  # no modification in actual list"
   ]
  },
  {
   "cell_type": "code",
   "execution_count": 110,
   "id": "3942134a-078f-49f7-9fc4-e15cfab722eb",
   "metadata": {},
   "outputs": [
    {
     "data": {
      "text/plain": [
       "[1, 2, 4, 5, 'abs', 'p', 'f', 'r']"
      ]
     },
     "execution_count": 110,
     "metadata": {},
     "output_type": "execute_result"
    }
   ],
   "source": [
    "l"
   ]
  },
  {
   "cell_type": "code",
   "execution_count": 114,
   "id": "e246473d-742a-4dfd-a035-89a5b2c93b0c",
   "metadata": {},
   "outputs": [
    {
     "data": {
      "text/plain": [
       "[1, 2, 4, 5, 'abs', 'p', 'f', 'r', 3, 4, 5, 5, 'aaashi']"
      ]
     },
     "execution_count": 114,
     "metadata": {},
     "output_type": "execute_result"
    }
   ],
   "source": [
    "l2=[3,4,5,5,\"aaashi\"]\n",
    "l+l2  # creating new object ,no modifcation in actual lists"
   ]
  },
  {
   "cell_type": "code",
   "execution_count": 117,
   "id": "d154526f-b9b0-44b0-83bd-30e69665703a",
   "metadata": {},
   "outputs": [
    {
     "data": {
      "text/plain": [
       "[1, 2, 4, 5, 'abs', 'p', 'f', 'r']"
      ]
     },
     "execution_count": 117,
     "metadata": {},
     "output_type": "execute_result"
    }
   ],
   "source": [
    "l"
   ]
  },
  {
   "cell_type": "code",
   "execution_count": 118,
   "id": "37598b1f-0430-4f26-a0d8-8fee0f2689b5",
   "metadata": {},
   "outputs": [
    {
     "data": {
      "text/plain": [
       "[3, 4, 5, 5, 'aaashi']"
      ]
     },
     "execution_count": 118,
     "metadata": {},
     "output_type": "execute_result"
    }
   ],
   "source": [
    "l2"
   ]
  },
  {
   "cell_type": "markdown",
   "id": "94f4c517-d319-462a-a4f4-584133824830",
   "metadata": {},
   "source": [
    "t+1"
   ]
  },
  {
   "cell_type": "markdown",
   "id": "e02b1d8d-7409-4153-ba0d-d3d640a140cc",
   "metadata": {},
   "source": [
    "l1.extend(3)  #by extend you can append only the iterables like list ,tuple,set"
   ]
  },
  {
   "cell_type": "code",
   "execution_count": 122,
   "id": "54f21390-1fba-4601-bb8b-46ffbb5ee2cd",
   "metadata": {},
   "outputs": [
    {
     "data": {
      "text/plain": [
       "(1, 2, 3, 4, 5667, 77)"
      ]
     },
     "execution_count": 122,
     "metadata": {},
     "output_type": "execute_result"
    }
   ],
   "source": [
    "t=(1,2,3)\n",
    "t2=(4,5667,77)\n",
    "t+t2  #creating new instance"
   ]
  },
  {
   "cell_type": "code",
   "execution_count": 124,
   "id": "e4f54bac-7c5c-41db-8c1c-631326c60134",
   "metadata": {},
   "outputs": [
    {
     "data": {
      "text/plain": [
       "dict"
      ]
     },
     "execution_count": 124,
     "metadata": {},
     "output_type": "execute_result"
    }
   ],
   "source": [
    "s={}\n",
    "type(s)\n"
   ]
  },
  {
   "cell_type": "code",
   "execution_count": 125,
   "id": "39400390-30c3-4d78-9f44-7dc9dc9d9e15",
   "metadata": {},
   "outputs": [
    {
     "data": {
      "text/plain": [
       "set"
      ]
     },
     "execution_count": 125,
     "metadata": {},
     "output_type": "execute_result"
    }
   ],
   "source": [
    "s2={1,2,3,4,55,55,55}\n",
    "type(s2)"
   ]
  },
  {
   "cell_type": "code",
   "execution_count": 126,
   "id": "ebb4dfd4-4a71-4718-b3db-dc687dc3bc21",
   "metadata": {},
   "outputs": [
    {
     "data": {
      "text/plain": [
       "5"
      ]
     },
     "execution_count": 126,
     "metadata": {},
     "output_type": "execute_result"
    }
   ],
   "source": [
    "len(s2)"
   ]
  },
  {
   "cell_type": "markdown",
   "id": "5ce4ed5f-e021-4b2a-abbd-4a8fc1fdbb87",
   "metadata": {},
   "source": [
    "s2={1,2,3,4,[3,4,5]}  #only store premitive data type and immutable data structure like tuple and string"
   ]
  },
  {
   "cell_type": "code",
   "execution_count": 128,
   "id": "aa7bd83b-72e4-4404-a9e2-f4a29dff1dfa",
   "metadata": {},
   "outputs": [],
   "source": [
    "s={1,2,3,4,(3,4,5,\"sneha\")}"
   ]
  },
  {
   "cell_type": "code",
   "execution_count": 129,
   "id": "368d9816-d5d1-4798-9377-8ce3a0549e03",
   "metadata": {},
   "outputs": [
    {
     "data": {
      "text/plain": [
       "{(3, 4, 5, 'sneha'), 1, 2, 3, 4}"
      ]
     },
     "execution_count": 129,
     "metadata": {},
     "output_type": "execute_result"
    }
   ],
   "source": [
    "s"
   ]
  },
  {
   "cell_type": "code",
   "execution_count": 130,
   "id": "86c6b4f7-c52b-45a6-a012-843ebefa6a13",
   "metadata": {},
   "outputs": [],
   "source": [
    "s={1,3,\"Aashi\",\"aashi\"}  # python is case senstive language"
   ]
  },
  {
   "cell_type": "code",
   "execution_count": 131,
   "id": "c699dd6f-091d-4dd3-842c-cb0cace4cdee",
   "metadata": {},
   "outputs": [
    {
     "data": {
      "text/plain": [
       "{1, 3, 'Aashi', 'aashi'}"
      ]
     },
     "execution_count": 131,
     "metadata": {},
     "output_type": "execute_result"
    }
   ],
   "source": [
    "s  # set is unordered collection of unique element"
   ]
  },
  {
   "cell_type": "code",
   "execution_count": 132,
   "id": "4fb1dba6-a5c8-421f-a890-170dcb717d1d",
   "metadata": {},
   "outputs": [],
   "source": [
    "l6=[1,2,22,2,2,2,2,3,4,4,5,4,4,3,3,3]\n",
    "l6= list(set(l6))"
   ]
  },
  {
   "cell_type": "code",
   "execution_count": 133,
   "id": "e816a913-d956-4742-b0f4-027d47cf56f0",
   "metadata": {},
   "outputs": [
    {
     "data": {
      "text/plain": [
       "[1, 2, 3, 4, 5, 22]"
      ]
     },
     "execution_count": 133,
     "metadata": {},
     "output_type": "execute_result"
    }
   ],
   "source": [
    "l6"
   ]
  },
  {
   "cell_type": "code",
   "execution_count": 134,
   "id": "cfad95a2-8cf8-4691-88ea-b792938833c7",
   "metadata": {},
   "outputs": [
    {
     "data": {
      "text/plain": [
       "{1, 3, 'Aashi', 'aashi'}"
      ]
     },
     "execution_count": 134,
     "metadata": {},
     "output_type": "execute_result"
    }
   ],
   "source": [
    "s"
   ]
  },
  {
   "cell_type": "markdown",
   "id": "4f6f4ef4-ac82-401e-b2e6-c0403eabaf8e",
   "metadata": {},
   "source": [
    "s[0]  # index is not done in set and slicing will also not happen"
   ]
  },
  {
   "cell_type": "code",
   "execution_count": 136,
   "id": "f78c2d51-0f02-4078-b625-7ff7e144b5d0",
   "metadata": {},
   "outputs": [
    {
     "data": {
      "text/plain": [
       "{1, 3, 'Aashi', 'aashi'}"
      ]
     },
     "execution_count": 136,
     "metadata": {},
     "output_type": "execute_result"
    }
   ],
   "source": [
    "s"
   ]
  },
  {
   "cell_type": "code",
   "execution_count": 137,
   "id": "448ff21d-50e2-4cc1-b841-e2022b3dd5de",
   "metadata": {},
   "outputs": [],
   "source": [
    "s.add(2)  #if 2 is not present it will add it in set. append is not happen becuase insertion happen in random way becuase it is impemneted  in hashing"
   ]
  },
  {
   "cell_type": "code",
   "execution_count": 138,
   "id": "061b9062-d6f8-4fe6-bc87-bc2ece46ee7a",
   "metadata": {},
   "outputs": [
    {
     "data": {
      "text/plain": [
       "{1, 2, 3, 'Aashi', 'aashi'}"
      ]
     },
     "execution_count": 138,
     "metadata": {},
     "output_type": "execute_result"
    }
   ],
   "source": [
    "s"
   ]
  },
  {
   "cell_type": "code",
   "execution_count": 139,
   "id": "3194ff83-f3c4-4945-9f5a-aaaa78d8e90d",
   "metadata": {},
   "outputs": [],
   "source": [
    "s.remove(2)"
   ]
  },
  {
   "cell_type": "code",
   "execution_count": 140,
   "id": "4b6f4cb2-56c8-4651-8bf5-ab3422e8b587",
   "metadata": {},
   "outputs": [
    {
     "data": {
      "text/plain": [
       "{1, 3, 'Aashi', 'aashi'}"
      ]
     },
     "execution_count": 140,
     "metadata": {},
     "output_type": "execute_result"
    }
   ],
   "source": [
    "s"
   ]
  },
  {
   "cell_type": "code",
   "execution_count": null,
   "id": "8be39558-313b-44c7-8016-600489b9bf08",
   "metadata": {},
   "outputs": [],
   "source": []
  }
 ],
 "metadata": {
  "kernelspec": {
   "display_name": "Python 3 (ipykernel)",
   "language": "python",
   "name": "python3"
  },
  "language_info": {
   "codemirror_mode": {
    "name": "ipython",
    "version": 3
   },
   "file_extension": ".py",
   "mimetype": "text/x-python",
   "name": "python",
   "nbconvert_exporter": "python",
   "pygments_lexer": "ipython3",
   "version": "3.10.8"
  }
 },
 "nbformat": 4,
 "nbformat_minor": 5
}
