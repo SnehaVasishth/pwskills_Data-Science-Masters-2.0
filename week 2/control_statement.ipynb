{
 "cells": [
  {
   "cell_type": "code",
   "execution_count": 3,
   "id": "4f9a05a3-4791-4af3-b8cc-6b4ec6bc585b",
   "metadata": {},
   "outputs": [
    {
     "name": "stdin",
     "output_type": "stream",
     "text": [
      "enter marks 35\n"
     ]
    },
    {
     "name": "stdout",
     "output_type": "stream",
     "text": [
      "you will be aprt of a3 batch\n"
     ]
    }
   ],
   "source": [
    "marks=int(input(\"enter marks\"))\n",
    "if(marks>=80):\n",
    "    print(\"You will be a part of a A0 batch\")\n",
    "elif marks>=60 and marks<80:\n",
    "    print(\"You will be a part of A1\")\n",
    "elif marks>=40 and marks<60:\n",
    "    print(\"you will be part of A2\")\n",
    "else:\n",
    "    print(\"you will be aprt of a3 batch\")"
   ]
  },
  {
   "cell_type": "code",
   "execution_count": 6,
   "id": "6fd4193f-2afc-446e-97fa-ec7bdc1576be",
   "metadata": {},
   "outputs": [
    {
     "name": "stdout",
     "output_type": "stream",
     "text": [
      "2 3 4 5 6 "
     ]
    }
   ],
   "source": [
    "l=[1,2,3,4,5]\n",
    "for i in range(len(l)):\n",
    "    l[i]=l[i]+1\n",
    "for i in range(len(l)):\n",
    "    print(l[i],end=\" \")\n"
   ]
  },
  {
   "cell_type": "code",
   "execution_count": 7,
   "id": "efc630da-a056-42d9-a284-02463f6afbc6",
   "metadata": {},
   "outputs": [
    {
     "name": "stdout",
     "output_type": "stream",
     "text": [
      "[3, 4, 5, 6, 7]\n"
     ]
    }
   ],
   "source": [
    "l1=[]\n",
    "for i in l:\n",
    "    l1.append(i+1)\n",
    "print(l1)"
   ]
  },
  {
   "cell_type": "code",
   "execution_count": 8,
   "id": "e8ec8823-76a8-4b1a-acc8-8852d1a6d47b",
   "metadata": {},
   "outputs": [
    {
     "name": "stdout",
     "output_type": "stream",
     "text": [
      "['SNEHA', 'VASISHTH', 'AASHI', 'KHUSHI']\n"
     ]
    }
   ],
   "source": [
    "l3=[\"sneha\",\"vasishth\",\"aashi\",\"khushi\"]\n",
    "l2=[]\n",
    "for i in l3:\n",
    "    l2.append(i.upper())\n",
    "print(l2)"
   ]
  },
  {
   "cell_type": "code",
   "execution_count": 10,
   "id": "5b107957-e16c-4779-b793-09d32142e39a",
   "metadata": {},
   "outputs": [
    {
     "name": "stdout",
     "output_type": "stream",
     "text": [
      "[1, 2, 3, 44, 4, 43, 2]\n",
      "['aashi', 'sneha', 'vasishth']\n"
     ]
    }
   ],
   "source": [
    "l4=[1,2,3,44,4,43,2,\"aashi\",'sneha',\"vasishth\"]\n",
    "l5=[]\n",
    "l6=[]\n",
    "for i in l4:\n",
    "    if type(i)==int:\n",
    "        l5.append(i)\n",
    "    else:\n",
    "        l6.append(i)\n",
    "print(l5,l6,sep=\"\\n\")"
   ]
  },
  {
   "cell_type": "code",
   "execution_count": null,
   "id": "ba3330b6-9a1f-460f-9d6f-1d5702c42e2d",
   "metadata": {},
   "outputs": [],
   "source": []
  }
 ],
 "metadata": {
  "kernelspec": {
   "display_name": "Python 3 (ipykernel)",
   "language": "python",
   "name": "python3"
  },
  "language_info": {
   "codemirror_mode": {
    "name": "ipython",
    "version": 3
   },
   "file_extension": ".py",
   "mimetype": "text/x-python",
   "name": "python",
   "nbconvert_exporter": "python",
   "pygments_lexer": "ipython3",
   "version": "3.10.8"
  }
 },
 "nbformat": 4,
 "nbformat_minor": 5
}
